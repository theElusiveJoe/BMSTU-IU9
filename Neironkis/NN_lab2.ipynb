{
  "cells": [
    {
      "cell_type": "code",
      "execution_count": 113,
      "metadata": {
        "id": "iYyKUkLO0jRs"
      },
      "outputs": [],
      "source": [
        "from typing import Callable\n",
        "from collections import namedtuple\n",
        "from copy import deepcopy as dc\n",
        "\n",
        "import pandas as pd\n",
        "import numpy as np\n",
        "import matplotlib.pyplot as plt\n",
        "\n",
        "import torch\n",
        "from torchvision import datasets\n",
        "from torch.utils.data import DataLoader\n",
        "from torch.utils.data import Subset\n",
        "\n",
        "from tqdm import tqdm"
      ]
    },
    {
      "attachments": {},
      "cell_type": "markdown",
      "metadata": {},
      "source": [
        "##### слои"
      ]
    },
    {
      "attachments": {},
      "cell_type": "markdown",
      "metadata": {},
      "source": [
        "###### линейный"
      ]
    },
    {
      "cell_type": "code",
      "execution_count": 197,
      "metadata": {
        "id": "RMSjS2w90lbE"
      },
      "outputs": [],
      "source": [
        "class NNLinear:\n",
        "    wb: np.ndarray\n",
        "    inputs: np.ndarray\n",
        "    optimizer: str\n",
        "    grad_pre: np.ndarray = None\n",
        "    H: np.ndarray = None\n",
        "    wb_pre: np.ndarray = None\n",
        "\n",
        "    def __init__(self, in_len, out_len, optimizer, perceptron):\n",
        "        self.wb = np.random.rand(in_len+1, out_len)-0.5\n",
        "        self.optimizer = optimizer\n",
        "        self.perceptron = perceptron\n",
        "\n",
        "    def __repr__(self):\n",
        "        return f'NNLinear({self.wb.shape})'\n",
        "\n",
        "    def __eq__(self, o):\n",
        "        return id(self) == id(o)\n",
        "\n",
        "    def forward(self, inputs: np.ndarray):\n",
        "        '''\n",
        "        inputs - вектор-строка длинны in_len\n",
        "        '''\n",
        "        # print(f'    -> forward in {self}')\n",
        "        self.inputs = np.append(inputs, [1])\n",
        "        return self.inputs @ self.wb\n",
        "\n",
        "    def simple_forward(self, inputs: np.ndarray):\n",
        "        '''\n",
        "        inputs - вектор-строка длинны in_len\n",
        "        '''\n",
        "        return np.append(inputs, [1]) @ self.wb\n",
        "\n",
        "    def simple_backward(self, grad):\n",
        "        return (grad @ self.wb.T)[:-1]\n",
        "\n",
        "    def backward(self, grad):\n",
        "        # print(f'BACKWARD IN {self}')\n",
        "        # вычисляем градиент, который прокинем\n",
        "        # до шага оптимизатора\n",
        "        grad_to_ret = (grad @ self.wb.T)[:-1]  # отрезаем градиент для bias\n",
        "        # считаем градиент относительно параметров слоя\n",
        "        grad_wb = np.reshape(self.inputs, (-1, 1)) @ np.reshape(grad, (1, -1))\n",
        "        # нормируем!!!\n",
        "        if np.linalg.norm(grad_wb) != 0:\n",
        "            grad_wb = grad_wb/np.linalg.norm(grad_wb)\n",
        "\n",
        "        if np.linalg.norm(grad_to_ret) != 0:\n",
        "            grad_to_ret = grad_to_ret/np.linalg.norm(grad_to_ret)\n",
        "\n",
        "        match self.optimizer:\n",
        "            case 'GD':\n",
        "                d = grad_wb\n",
        "            case 'FR':\n",
        "                # первый шаг\n",
        "                if self.grad_pre is None:\n",
        "                    self.grad_pre = grad_wb\n",
        "                    b = 0\n",
        "                # обычный шаг\n",
        "                else:\n",
        "                    grad = grad_wb.flatten()\n",
        "                    grad_pre = self.grad_pre.flatten()\n",
        "                    if np.linalg.norm(grad_pre) > 0.00001:\n",
        "                        b = (np.sum(grad*grad)/np.sum(grad_pre*grad_pre))**2\n",
        "                    else:\n",
        "                        b = 1\n",
        "                    b = max(min(b, 1), 0)\n",
        "                    # если предыдущий градиент был нулевой, то не учитываем его\n",
        "                    # if np.isnan(b) or b == np.Inf:\n",
        "                    #     b = 0\n",
        "                    # b = 0.1\n",
        "                # считаем направление смещения\n",
        "                d = (grad_wb + b*self.grad_pre)\n",
        "                # запоминаем \"старый\" градиент\n",
        "                self.grad_pre = grad_wb\n",
        "            case 'BFGS':\n",
        "                # https://github.com/kthohr/optim/blob/master/src/unconstrained/bfgs.cpp\n",
        "                # инициализация\n",
        "                if self.H is None:\n",
        "                    self.H = np.identity(len(grad_wb))\n",
        "                    self.grad_pre = np.zeros(grad_wb.shape)\n",
        "                    self.wb_pre = np.zeros(self.wb.shape)\n",
        "\n",
        "                # считаем направление смещения\n",
        "                d = (self.H @ grad_wb)\n",
        "\n",
        "                # обновляем гессиан\n",
        "                y = grad_wb - self.grad_pre\n",
        "                s = self.wb - self.wb_pre\n",
        "\n",
        "                W1 = np.eye(len(grad_wb)) - s @ y.T\n",
        "                self.H = W1 @ self.H @ W1.T\n",
        "\n",
        "                # запоминаем \"старые\" значения\n",
        "                self.grad_pre = grad_wb\n",
        "                self.wb_pre = self.wb\n",
        "            case _:\n",
        "                raise RuntimeError('unknown optimizing method')\n",
        "\n",
        "        # линейный поиск\n",
        "        # нормируем d\n",
        "\n",
        "        # print('start linear search')\n",
        "        if np.linalg.norm(d) > 0.001:\n",
        "            d = LR * d / np.linalg.norm(d)\n",
        "        \n",
        "\n",
        "        # self.wb -= d\n",
        "        # return grad_to_ret\n",
        "\n",
        "        def calc_special():\n",
        "            return self.perceptron.calc_for_special_layer(self, self.inputs[:-1])\n",
        "\n",
        "        old_res_val = calc_special()\n",
        "        # print(f'    {old_res_val}')\n",
        "        self.wb -= d\n",
        "        new_res_val = calc_special()\n",
        "        # print(f'    {new_res_val}')\n",
        "        if new_res_val < old_res_val and abs(new_res_val - old_res_val) > 0.0001:\n",
        "            while new_res_val < old_res_val and abs(new_res_val - old_res_val) > 0.0001:\n",
        "                self.wb -= d\n",
        "                old_res_val = new_res_val\n",
        "                new_res_val = calc_special()\n",
        "                # print(f'    {new_res_val}')\n",
        "            self.wb += d\n",
        "\n",
        "        # прокидываем градиент дальше\n",
        "        return grad_to_ret\n",
        "        # return self.perceptron.fit_special_layer_get_my_grad(self, self.inputs[:-1])"
      ]
    },
    {
      "cell_type": "code",
      "execution_count": null,
      "metadata": {},
      "outputs": [],
      "source": []
    },
    {
      "attachments": {},
      "cell_type": "markdown",
      "metadata": {},
      "source": [
        "###### функции"
      ]
    },
    {
      "cell_type": "code",
      "execution_count": 115,
      "metadata": {},
      "outputs": [],
      "source": [
        "relu = np.vectorize(lambda x: x if x > 0 else 0)\n",
        "der_relu = np.vectorize(lambda x: 1 if x > 0 else 0)\n",
        "\n",
        "\n",
        "class NNRelu:\n",
        "    inputs: np.array\n",
        "\n",
        "    def forward(self, inputs):\n",
        "        self.inputs = inputs\n",
        "        return relu(inputs)\n",
        "\n",
        "    def backward(self, grad):\n",
        "        res = grad * der_relu(self.inputs)\n",
        "        return res\n",
        "\n",
        "\n",
        "def sigmoid(x): return 1/(1+np.exp(-x))\n",
        "def der_sigmoid(x): return sigmoid(x)*(1-sigmoid(x))\n",
        "\n",
        "\n",
        "class NNSigmoid:\n",
        "    inputs: np.array\n",
        "\n",
        "    def forward(self, inputs):\n",
        "        self.inputs = inputs\n",
        "        return sigmoid(inputs)\n",
        "\n",
        "    def backward(self, grad):\n",
        "        res = grad * der_sigmoid(self.inputs)\n",
        "        return res"
      ]
    },
    {
      "cell_type": "code",
      "execution_count": 116,
      "metadata": {},
      "outputs": [],
      "source": [
        "import warnings\n",
        "warnings.filterwarnings(\"error\")\n",
        "\n",
        "\n",
        "def softmax(x):\n",
        "    if np.linalg.norm(x) < 0.001:\n",
        "        return np.zeros(len(x))\n",
        "    x = x / np.linalg.norm(x)\n",
        "    return np.exp(x)/(np.exp(x)).sum() if (np.exp(x)).sum() > 0.01 else np.zeros(len(x))\n",
        "\n",
        "\n",
        "class NNSoftmax:\n",
        "    inputs: np.ndarray\n",
        "\n",
        "    def forward(self, inputs):\n",
        "        self.inputs = inputs\n",
        "        return softmax(inputs)\n",
        "\n",
        "    def backward(self, grad):\n",
        "        res = grad * softmax(self.inputs)*(1-softmax(self.inputs))\n",
        "        return res"
      ]
    },
    {
      "attachments": {},
      "cell_type": "markdown",
      "metadata": {},
      "source": [
        "###### лосс"
      ]
    },
    {
      "cell_type": "code",
      "execution_count": 117,
      "metadata": {},
      "outputs": [],
      "source": [
        "LossFunc = namedtuple('LossFunc', ['f', 'df', 'name'])"
      ]
    },
    {
      "cell_type": "code",
      "execution_count": 118,
      "metadata": {},
      "outputs": [],
      "source": [
        "def mse(x, y): return sum((x-y)**2)/len(x)\n",
        "\n",
        "\n",
        "def der_mse(x, y):\n",
        "    res = (x-y)*2/len(x)*-1\n",
        "    return res / np.sum(np.abs(res))\n",
        "\n",
        "\n",
        "MSE = LossFunc(mse, der_mse, 'MSE LOSS')"
      ]
    },
    {
      "cell_type": "code",
      "execution_count": 119,
      "metadata": {},
      "outputs": [],
      "source": [
        "def cross_entropy(target, pred):\n",
        "    pred = np.clip(pred, 1e-8, 1 - 1e-8)\n",
        "    return -np.mean(target * np.log(pred))\n",
        "\n",
        "\n",
        "def der_cross_entropy(target, pred):\n",
        "    pred = np.clip(pred, 1e-8, 1 - 1e-8)\n",
        "    res = pred - target\n",
        "    return res / np.linalg.norm(res)\n",
        "\n",
        "\n",
        "CrossEntropy = LossFunc(cross_entropy, der_cross_entropy, 'Cross Entropy LOSS')"
      ]
    },
    {
      "cell_type": "code",
      "execution_count": 120,
      "metadata": {},
      "outputs": [],
      "source": [
        "def kl(target, pred):\n",
        "    pred = np.clip(pred, 1e-10, 1 - 1e-10)\n",
        "    target = np.clip(pred, 1e-10, 1 - 1e-10)\n",
        "    res = np.mean(target * np.log(target/pred))\n",
        "    return res\n",
        "\n",
        "\n",
        "def der_kl(target, pred):\n",
        "    pred = np.clip(pred, 1e-8, 1 - 1e-8)\n",
        "    res = pred - target\n",
        "    return res / np.linalg.norm(res)\n",
        "\n",
        "\n",
        "KLDiv = LossFunc(kl, der_kl, 'Kullback–Leibler Divergence LOSS')"
      ]
    },
    {
      "attachments": {},
      "cell_type": "markdown",
      "metadata": {},
      "source": [
        "###### оптимизаторы"
      ]
    },
    {
      "cell_type": "code",
      "execution_count": 121,
      "metadata": {},
      "outputs": [],
      "source": [
        "GD = 'GD'\n",
        "FR = 'FR'\n",
        "BFGS = 'BFGS'"
      ]
    },
    {
      "attachments": {},
      "cell_type": "markdown",
      "metadata": {},
      "source": [
        "###### модель"
      ]
    },
    {
      "cell_type": "code",
      "execution_count": 122,
      "metadata": {
        "id": "B1Hi0Yph3WSl"
      },
      "outputs": [],
      "source": [
        "class Perceptron:\n",
        "    layers: list\n",
        "    loss: LossFunc\n",
        "    last_target: np.ndarray | None\n",
        "\n",
        "    def __init__(self, sizes: list[int], loss, optimizer):\n",
        "        self.layers = [\n",
        "            x for i, o in zip(sizes, sizes[1:]+[10]) for x in [NNLinear(i, o, optimizer, self), NNSigmoid()]\n",
        "        ] + [NNSoftmax()]\n",
        "        self.loss = loss\n",
        "\n",
        "    def forward(self, inputs):\n",
        "        res = inputs\n",
        "        for layer in self.layers:\n",
        "            res = layer.forward(res)\n",
        "        return res\n",
        "\n",
        "    def backward(self, target, pred):\n",
        "        grad_by_last_layer_outs = self.loss.df(target, pred)\n",
        "        grad = grad_by_last_layer_outs\n",
        "        for layer in self.layers[::-1]:\n",
        "            grad = layer.backward(grad)\n",
        "\n",
        "    def fit(self, x, y):\n",
        "        self.last_target = y\n",
        "        pred = self.forward(x)\n",
        "        self.backward(y, pred)\n",
        "        return np.argmax(pred)\n",
        "\n",
        "    def predict(self, x, y):\n",
        "        pred = self.forward(x)\n",
        "        return np.argmax(pred)\n",
        "\n",
        "    def calc_for_special_layer(self, layer: NNLinear, inputs: np.ndarray):\n",
        "        index = self.layers.index(layer)\n",
        "        res = inputs\n",
        "        for layer in self.layers[index:]:\n",
        "            res = layer.forward(res) if type(\n",
        "                layer) != NNLinear else layer.simple_forward(res)\n",
        "        return self.loss.f(self.last_target, res)\n",
        "\n",
        "    def fit_special_layer_get_my_grad(self, layer: NNLinear, inputs: np.ndarray):\n",
        "        index = self.layers.index(layer)\n",
        "        res = inputs\n",
        "        for layer in self.layers[index:]:\n",
        "            res = layer.forward(res) if type(\n",
        "                layer) != NNLinear else layer.simple_forward(res)\n",
        "        grad_by_last_layer_outs = self.loss.df(self.last_target, res)\n",
        "        grad = grad_by_last_layer_outs\n",
        "        for layer in self.layers[index:][::-1]:\n",
        "            grad = layer.backward(grad) if type(\n",
        "                layer) != NNLinear else layer.simple_backward(res)\n",
        "        return grad"
      ]
    },
    {
      "attachments": {},
      "cell_type": "markdown",
      "metadata": {
        "id": "v86a1qI4GnYL"
      },
      "source": [
        "###### данные"
      ]
    },
    {
      "cell_type": "code",
      "execution_count": 123,
      "metadata": {
        "id": "aEkb6bLL1xKT"
      },
      "outputs": [],
      "source": [
        "ds = datasets.MNIST(\n",
        "    root='data',\n",
        "    train=True,\n",
        "    download=True,\n",
        "\n",
        "    transform=lambda img: np.array(np.asarray(img).flatten())/256,\n",
        "    target_transform=lambda x: np.array(\n",
        "        [1 if i == x else 0 for i in range(10)])\n",
        ")\n",
        "ds1 = Subset(ds, range(0, 1000))\n",
        "dl1 = DataLoader(ds1, shuffle=True, batch_size=None)\n",
        "\n",
        "ds2 = Subset(ds, range(1000, 1000+100))\n",
        "dl2 = DataLoader(ds2, shuffle=True, batch_size=None)"
      ]
    },
    {
      "attachments": {},
      "cell_type": "markdown",
      "metadata": {
        "id": "u9lm3wNwGqF4"
      },
      "source": [
        "##### Тренируем"
      ]
    },
    {
      "attachments": {},
      "cell_type": "markdown",
      "metadata": {},
      "source": [
        "###### функции тренировки"
      ]
    },
    {
      "cell_type": "code",
      "execution_count": 189,
      "metadata": {
        "id": "NBkTRzRV5lji"
      },
      "outputs": [],
      "source": [
        "ACC = []\n",
        "\n",
        "def train_epoch(model):\n",
        "    results = 0\n",
        "    for X, y in dl1:\n",
        "        X, y = np.array(X), np.array(y)\n",
        "        pred = model.fit(X, y)\n",
        "    for X, y in dl2:\n",
        "        X, y = np.array(X), np.array(y)\n",
        "        pred = model.predict(X, y)\n",
        "        results += (np.argmax(y) == pred)\n",
        "    return results/len(dl2)\n",
        "\n",
        "\n",
        "def train_many_epochs(model, N):\n",
        "    global ACC\n",
        "    accuracy = []\n",
        "    for _ in tqdm(range(N)):\n",
        "        a = train_epoch(model)\n",
        "        print(a)\n",
        "        accuracy.append(a)\n",
        "        ACC = accuracy\n",
        "    return accuracy"
      ]
    },
    {
      "attachments": {},
      "cell_type": "markdown",
      "metadata": {},
      "source": [
        "###### тренировка"
      ]
    },
    {
      "cell_type": "code",
      "execution_count": 164,
      "metadata": {},
      "outputs": [],
      "source": [
        "def demo(optim, loss, lr, epochs):\n",
        "    global LR\n",
        "    LR = lr\n",
        "    p = Perceptron(\n",
        "        [784] + [64] + [10],\n",
        "        optim,\n",
        "        loss\n",
        "    )\n",
        "    accuracy = train_many_epochs(p, epochs)\n",
        "    plt.plot(np.arange(len(accuracy)), accuracy)\n",
        "    return accuracy"
      ]
    },
    {
      "cell_type": "code",
      "execution_count": 126,
      "metadata": {},
      "outputs": [
        {
          "name": "stderr",
          "output_type": "stream",
          "text": [
            "100%|██████████| 60/60 [01:57<00:00,  1.96s/it]\n"
          ]
        },
        {
          "data": {
            "text/plain": [
              "0.824"
            ]
          },
          "execution_count": 126,
          "metadata": {},
          "output_type": "execute_result"
        },
        {
          "data": {
            "image/png": "[encoded data removed]",
            "text/plain": [
              "<Figure size 640x480 with 1 Axes>"
            ]
          },
          "metadata": {},
          "output_type": "display_data"
        }
      ],
      "source": [
        "mse_res = demo(MSE, GD, 0.009, 60)\n",
        "max(mse_res)"
      ]
    },
    {
      "cell_type": "code",
      "execution_count": 127,
      "metadata": {},
      "outputs": [
        {
          "name": "stderr",
          "output_type": "stream",
          "text": [
            "100%|██████████| 60/60 [01:45<00:00,  1.75s/it]\n"
          ]
        },
        {
          "data": {
            "text/plain": [
              "0.886"
            ]
          },
          "execution_count": 127,
          "metadata": {},
          "output_type": "execute_result"
        },
        {
          "data": {
            "image/png": "[encoded data removed]",
            "text/plain": [
              "<Figure size 640x480 with 1 Axes>"
            ]
          },
          "metadata": {},
          "output_type": "display_data"
        }
      ],
      "source": [
        "ce_res = demo(CrossEntropy, GD, 0.009, 60)\n",
        "max(ce_res)"
      ]
    },
    {
      "cell_type": "code",
      "execution_count": 128,
      "metadata": {},
      "outputs": [
        {
          "name": "stderr",
          "output_type": "stream",
          "text": [
            "100%|██████████| 60/60 [01:28<00:00,  1.47s/it]\n"
          ]
        },
        {
          "ename": "NameError",
          "evalue": "name 'mzx' is not defined",
          "output_type": "error",
          "traceback": [
            "\u001b[0;31m---------------------------------------------------------------------------\u001b[0m",
            "\u001b[0;31mNameError\u001b[0m                                 Traceback (most recent call last)",
            "\u001b[1;32m/home/f/Desktop/neironkis/lab2/NN_lab2.ipynb Cell 26\u001b[0m line \u001b[0;36m2\n\u001b[1;32m      <a href='vscode-notebook-cell:/home/f/Desktop/neironkis/lab2/NN_lab2.ipynb#X41sZmlsZQ%3D%3D?line=0'>1</a>\u001b[0m kld_res \u001b[39m=\u001b[39m demo(KLDiv, GD, \u001b[39m0.0092\u001b[39m, \u001b[39m60\u001b[39m)\n\u001b[0;32m----> <a href='vscode-notebook-cell:/home/f/Desktop/neironkis/lab2/NN_lab2.ipynb#X41sZmlsZQ%3D%3D?line=1'>2</a>\u001b[0m mzx(kld_res)\n",
            "\u001b[0;31mNameError\u001b[0m: name 'mzx' is not defined"
          ]
        },
        {
          "data": {
            "image/png": "[encoded data removed]",
            "text/plain": [
              "<Figure size 640x480 with 1 Axes>"
            ]
          },
          "metadata": {},
          "output_type": "display_data"
        }
      ],
      "source": [
        "kld_res = demo(KLDiv, GD, 0.009, 60)"
      ]
    },
    {
      "cell_type": "code",
      "execution_count": 130,
      "metadata": {},
      "outputs": [
        {
          "data": {
            "text/plain": [
              "0.736"
            ]
          },
          "execution_count": 130,
          "metadata": {},
          "output_type": "execute_result"
        }
      ],
      "source": [
        "max(kld_res)"
      ]
    },
    {
      "cell_type": "code",
      "execution_count": 134,
      "metadata": {},
      "outputs": [
        {
          "data": {
            "image/png": "[encoded data removed]",
            "text/plain": [
              "<Figure size 640x480 with 1 Axes>"
            ]
          },
          "metadata": {},
          "output_type": "display_data"
        }
      ],
      "source": [
        "plt.plot(range(1, 61), mse_res, label='mse')\n",
        "plt.plot(range(1, 61), ce_res, label='cross entropy')\n",
        "plt.plot(range(1, 61), kld_res, label='k-l divergence')\n",
        "plt.legend()\n",
        "plt.show()"
      ]
    },
    {
      "cell_type": "code",
      "execution_count": 183,
      "metadata": {},
      "outputs": [
        {
          "name": "stderr",
          "output_type": "stream",
          "text": [
            "  2%|▎         | 1/40 [00:02<01:39,  2.55s/it]"
          ]
        },
        {
          "name": "stdout",
          "output_type": "stream",
          "text": [
            "0.102\n"
          ]
        },
        {
          "name": "stderr",
          "output_type": "stream",
          "text": [
            "  5%|▌         | 2/40 [00:05<01:41,  2.66s/it]"
          ]
        },
        {
          "name": "stdout",
          "output_type": "stream",
          "text": [
            "0.138\n"
          ]
        },
        {
          "name": "stderr",
          "output_type": "stream",
          "text": [
            "  8%|▊         | 3/40 [00:07<01:27,  2.37s/it]"
          ]
        },
        {
          "name": "stdout",
          "output_type": "stream",
          "text": [
            "0.174\n"
          ]
        },
        {
          "name": "stderr",
          "output_type": "stream",
          "text": [
            " 10%|█         | 4/40 [00:09<01:21,  2.27s/it]"
          ]
        },
        {
          "name": "stdout",
          "output_type": "stream",
          "text": [
            "0.26\n"
          ]
        },
        {
          "name": "stderr",
          "output_type": "stream",
          "text": [
            " 12%|█▎        | 5/40 [00:11<01:14,  2.12s/it]"
          ]
        },
        {
          "name": "stdout",
          "output_type": "stream",
          "text": [
            "0.296\n"
          ]
        },
        {
          "name": "stderr",
          "output_type": "stream",
          "text": [
            " 15%|█▌        | 6/40 [00:13<01:14,  2.19s/it]"
          ]
        },
        {
          "name": "stdout",
          "output_type": "stream",
          "text": [
            "0.296\n"
          ]
        },
        {
          "name": "stderr",
          "output_type": "stream",
          "text": [
            " 18%|█▊        | 7/40 [00:15<01:07,  2.04s/it]"
          ]
        },
        {
          "name": "stdout",
          "output_type": "stream",
          "text": [
            "0.346\n"
          ]
        },
        {
          "name": "stderr",
          "output_type": "stream",
          "text": [
            " 20%|██        | 8/40 [00:17<01:01,  1.92s/it]"
          ]
        },
        {
          "name": "stdout",
          "output_type": "stream",
          "text": [
            "0.45\n"
          ]
        },
        {
          "name": "stderr",
          "output_type": "stream",
          "text": [
            " 22%|██▎       | 9/40 [00:18<00:57,  1.85s/it]"
          ]
        },
        {
          "name": "stdout",
          "output_type": "stream",
          "text": [
            "0.468\n"
          ]
        },
        {
          "name": "stderr",
          "output_type": "stream",
          "text": [
            " 25%|██▌       | 10/40 [00:20<00:56,  1.88s/it]"
          ]
        },
        {
          "name": "stdout",
          "output_type": "stream",
          "text": [
            "0.526\n"
          ]
        },
        {
          "name": "stderr",
          "output_type": "stream",
          "text": [
            " 28%|██▊       | 11/40 [00:22<00:53,  1.84s/it]"
          ]
        },
        {
          "name": "stdout",
          "output_type": "stream",
          "text": [
            "0.518\n"
          ]
        },
        {
          "name": "stderr",
          "output_type": "stream",
          "text": [
            " 30%|███       | 12/40 [00:24<00:53,  1.92s/it]"
          ]
        },
        {
          "name": "stdout",
          "output_type": "stream",
          "text": [
            "0.486\n"
          ]
        },
        {
          "name": "stderr",
          "output_type": "stream",
          "text": [
            " 32%|███▎      | 13/40 [00:26<00:51,  1.89s/it]"
          ]
        },
        {
          "name": "stdout",
          "output_type": "stream",
          "text": [
            "0.526\n"
          ]
        },
        {
          "name": "stderr",
          "output_type": "stream",
          "text": [
            " 35%|███▌      | 14/40 [00:28<00:50,  1.93s/it]"
          ]
        },
        {
          "name": "stdout",
          "output_type": "stream",
          "text": [
            "0.54\n"
          ]
        },
        {
          "name": "stderr",
          "output_type": "stream",
          "text": [
            " 38%|███▊      | 15/40 [00:31<00:59,  2.39s/it]"
          ]
        },
        {
          "name": "stdout",
          "output_type": "stream",
          "text": [
            "0.51\n"
          ]
        },
        {
          "name": "stderr",
          "output_type": "stream",
          "text": [
            " 40%|████      | 16/40 [00:36<01:11,  2.97s/it]"
          ]
        },
        {
          "name": "stdout",
          "output_type": "stream",
          "text": [
            "0.5\n"
          ]
        },
        {
          "name": "stderr",
          "output_type": "stream",
          "text": [
            " 42%|████▎     | 17/40 [00:40<01:19,  3.45s/it]"
          ]
        },
        {
          "name": "stdout",
          "output_type": "stream",
          "text": [
            "0.54\n"
          ]
        },
        {
          "name": "stderr",
          "output_type": "stream",
          "text": [
            " 45%|████▌     | 18/40 [00:46<01:28,  4.04s/it]"
          ]
        },
        {
          "name": "stdout",
          "output_type": "stream",
          "text": [
            "0.562\n"
          ]
        },
        {
          "name": "stderr",
          "output_type": "stream",
          "text": [
            " 48%|████▊     | 19/40 [00:51<01:32,  4.38s/it]"
          ]
        },
        {
          "name": "stdout",
          "output_type": "stream",
          "text": [
            "0.664\n"
          ]
        },
        {
          "name": "stderr",
          "output_type": "stream",
          "text": [
            " 50%|█████     | 20/40 [00:57<01:38,  4.91s/it]"
          ]
        },
        {
          "name": "stdout",
          "output_type": "stream",
          "text": [
            "0.706\n"
          ]
        },
        {
          "name": "stderr",
          "output_type": "stream",
          "text": [
            " 52%|█████▎    | 21/40 [01:01<01:28,  4.68s/it]"
          ]
        },
        {
          "name": "stdout",
          "output_type": "stream",
          "text": [
            "0.742\n"
          ]
        },
        {
          "name": "stderr",
          "output_type": "stream",
          "text": [
            " 55%|█████▌    | 22/40 [01:05<01:22,  4.58s/it]"
          ]
        },
        {
          "name": "stdout",
          "output_type": "stream",
          "text": [
            "0.768\n"
          ]
        },
        {
          "name": "stderr",
          "output_type": "stream",
          "text": [
            " 57%|█████▊    | 23/40 [01:09<01:14,  4.38s/it]"
          ]
        },
        {
          "name": "stdout",
          "output_type": "stream",
          "text": [
            "0.772\n"
          ]
        },
        {
          "name": "stderr",
          "output_type": "stream",
          "text": [
            " 60%|██████    | 24/40 [01:13<01:05,  4.07s/it]"
          ]
        },
        {
          "name": "stdout",
          "output_type": "stream",
          "text": [
            "0.766\n"
          ]
        },
        {
          "name": "stderr",
          "output_type": "stream",
          "text": [
            " 62%|██████▎   | 25/40 [01:15<00:53,  3.54s/it]"
          ]
        },
        {
          "name": "stdout",
          "output_type": "stream",
          "text": [
            "0.78\n"
          ]
        },
        {
          "name": "stderr",
          "output_type": "stream",
          "text": [
            " 65%|██████▌   | 26/40 [01:17<00:44,  3.16s/it]"
          ]
        },
        {
          "name": "stdout",
          "output_type": "stream",
          "text": [
            "0.79\n"
          ]
        },
        {
          "name": "stderr",
          "output_type": "stream",
          "text": [
            " 68%|██████▊   | 27/40 [01:19<00:36,  2.79s/it]"
          ]
        },
        {
          "name": "stdout",
          "output_type": "stream",
          "text": [
            "0.796\n"
          ]
        },
        {
          "name": "stderr",
          "output_type": "stream",
          "text": [
            " 70%|███████   | 28/40 [01:21<00:31,  2.64s/it]"
          ]
        },
        {
          "name": "stdout",
          "output_type": "stream",
          "text": [
            "0.802\n"
          ]
        },
        {
          "name": "stderr",
          "output_type": "stream",
          "text": [
            " 72%|███████▎  | 29/40 [01:24<00:30,  2.73s/it]"
          ]
        },
        {
          "name": "stdout",
          "output_type": "stream",
          "text": [
            "0.81\n"
          ]
        },
        {
          "name": "stderr",
          "output_type": "stream",
          "text": [
            " 75%|███████▌  | 30/40 [01:27<00:28,  2.81s/it]"
          ]
        },
        {
          "name": "stdout",
          "output_type": "stream",
          "text": [
            "0.838\n"
          ]
        },
        {
          "name": "stderr",
          "output_type": "stream",
          "text": [
            " 78%|███████▊  | 31/40 [01:30<00:25,  2.89s/it]"
          ]
        },
        {
          "name": "stdout",
          "output_type": "stream",
          "text": [
            "0.86\n"
          ]
        },
        {
          "name": "stderr",
          "output_type": "stream",
          "text": [
            " 80%|████████  | 32/40 [01:33<00:21,  2.74s/it]"
          ]
        },
        {
          "name": "stdout",
          "output_type": "stream",
          "text": [
            "0.872\n"
          ]
        },
        {
          "name": "stderr",
          "output_type": "stream",
          "text": [
            " 82%|████████▎ | 33/40 [01:35<00:18,  2.70s/it]"
          ]
        },
        {
          "name": "stdout",
          "output_type": "stream",
          "text": [
            "0.88\n"
          ]
        },
        {
          "name": "stderr",
          "output_type": "stream",
          "text": [
            " 85%|████████▌ | 34/40 [01:39<00:16,  2.81s/it]"
          ]
        },
        {
          "name": "stdout",
          "output_type": "stream",
          "text": [
            "0.88\n"
          ]
        },
        {
          "name": "stderr",
          "output_type": "stream",
          "text": [
            " 88%|████████▊ | 35/40 [01:41<00:13,  2.79s/it]"
          ]
        },
        {
          "name": "stdout",
          "output_type": "stream",
          "text": [
            "0.896\n"
          ]
        },
        {
          "name": "stderr",
          "output_type": "stream",
          "text": [
            " 90%|█████████ | 36/40 [01:46<00:13,  3.30s/it]"
          ]
        },
        {
          "name": "stdout",
          "output_type": "stream",
          "text": [
            "0.924\n"
          ]
        },
        {
          "name": "stderr",
          "output_type": "stream",
          "text": [
            " 92%|█████████▎| 37/40 [01:49<00:09,  3.29s/it]"
          ]
        },
        {
          "name": "stdout",
          "output_type": "stream",
          "text": [
            "0.918\n"
          ]
        },
        {
          "name": "stderr",
          "output_type": "stream",
          "text": [
            " 95%|█████████▌| 38/40 [01:52<00:06,  3.08s/it]"
          ]
        },
        {
          "name": "stdout",
          "output_type": "stream",
          "text": [
            "0.92\n"
          ]
        },
        {
          "name": "stderr",
          "output_type": "stream",
          "text": [
            " 98%|█████████▊| 39/40 [01:54<00:02,  2.96s/it]"
          ]
        },
        {
          "name": "stdout",
          "output_type": "stream",
          "text": [
            "0.938\n"
          ]
        },
        {
          "name": "stderr",
          "output_type": "stream",
          "text": [
            "100%|██████████| 40/40 [01:58<00:00,  2.96s/it]"
          ]
        },
        {
          "name": "stdout",
          "output_type": "stream",
          "text": [
            "0.934\n"
          ]
        },
        {
          "name": "stderr",
          "output_type": "stream",
          "text": [
            "\n"
          ]
        },
        {
          "data": {
            "image/png": "[encoded data removed]",
            "text/plain": [
              "<Figure size 640x480 with 1 Axes>"
            ]
          },
          "metadata": {},
          "output_type": "display_data"
        }
      ],
      "source": [
        "gd_res = demo(CrossEntropy, GD, 0.009, 40)"
      ]
    },
    {
      "cell_type": "code",
      "execution_count": 205,
      "metadata": {},
      "outputs": [
        {
          "data": {
            "text/plain": [
              "0.938"
            ]
          },
          "execution_count": 205,
          "metadata": {},
          "output_type": "execute_result"
        }
      ],
      "source": [
        "max(gd_res)"
      ]
    },
    {
      "cell_type": "code",
      "execution_count": 203,
      "metadata": {},
      "outputs": [
        {
          "name": "stderr",
          "output_type": "stream",
          "text": [
            "  2%|▎         | 1/40 [00:02<01:40,  2.59s/it]"
          ]
        },
        {
          "name": "stdout",
          "output_type": "stream",
          "text": [
            "0.088\n"
          ]
        },
        {
          "name": "stderr",
          "output_type": "stream",
          "text": [
            "  5%|▌         | 2/40 [00:05<01:43,  2.72s/it]"
          ]
        },
        {
          "name": "stdout",
          "output_type": "stream",
          "text": [
            "0.124\n"
          ]
        },
        {
          "name": "stderr",
          "output_type": "stream",
          "text": [
            "  8%|▊         | 3/40 [00:08<01:39,  2.70s/it]"
          ]
        },
        {
          "name": "stdout",
          "output_type": "stream",
          "text": [
            "0.14\n"
          ]
        },
        {
          "name": "stderr",
          "output_type": "stream",
          "text": [
            " 10%|█         | 4/40 [00:11<01:46,  2.95s/it]"
          ]
        },
        {
          "name": "stdout",
          "output_type": "stream",
          "text": [
            "0.228\n"
          ]
        },
        {
          "name": "stderr",
          "output_type": "stream",
          "text": [
            " 12%|█▎        | 5/40 [00:15<01:57,  3.36s/it]"
          ]
        },
        {
          "name": "stdout",
          "output_type": "stream",
          "text": [
            "0.284\n"
          ]
        },
        {
          "name": "stderr",
          "output_type": "stream",
          "text": [
            " 15%|█▌        | 6/40 [00:21<02:23,  4.22s/it]"
          ]
        },
        {
          "name": "stdout",
          "output_type": "stream",
          "text": [
            "0.524\n"
          ]
        },
        {
          "name": "stderr",
          "output_type": "stream",
          "text": [
            " 18%|█▊        | 7/40 [00:27<02:39,  4.82s/it]"
          ]
        },
        {
          "name": "stdout",
          "output_type": "stream",
          "text": [
            "0.596\n"
          ]
        },
        {
          "name": "stderr",
          "output_type": "stream",
          "text": [
            " 20%|██        | 8/40 [00:33<02:51,  5.36s/it]"
          ]
        },
        {
          "name": "stdout",
          "output_type": "stream",
          "text": [
            "0.688\n"
          ]
        },
        {
          "name": "stderr",
          "output_type": "stream",
          "text": [
            " 22%|██▎       | 9/40 [00:40<02:57,  5.72s/it]"
          ]
        },
        {
          "name": "stdout",
          "output_type": "stream",
          "text": [
            "0.724\n"
          ]
        },
        {
          "name": "stderr",
          "output_type": "stream",
          "text": [
            " 25%|██▌       | 10/40 [00:47<03:01,  6.04s/it]"
          ]
        },
        {
          "name": "stdout",
          "output_type": "stream",
          "text": [
            "0.79\n"
          ]
        },
        {
          "name": "stderr",
          "output_type": "stream",
          "text": [
            " 28%|██▊       | 11/40 [00:51<02:40,  5.52s/it]"
          ]
        },
        {
          "name": "stdout",
          "output_type": "stream",
          "text": [
            "0.828\n"
          ]
        },
        {
          "name": "stderr",
          "output_type": "stream",
          "text": [
            " 30%|███       | 12/40 [00:55<02:25,  5.19s/it]"
          ]
        },
        {
          "name": "stdout",
          "output_type": "stream",
          "text": [
            "0.842\n"
          ]
        },
        {
          "name": "stderr",
          "output_type": "stream",
          "text": [
            " 32%|███▎      | 13/40 [00:59<02:07,  4.71s/it]"
          ]
        },
        {
          "name": "stdout",
          "output_type": "stream",
          "text": [
            "0.87\n"
          ]
        },
        {
          "name": "stderr",
          "output_type": "stream",
          "text": [
            " 35%|███▌      | 14/40 [01:02<01:47,  4.15s/it]"
          ]
        },
        {
          "name": "stdout",
          "output_type": "stream",
          "text": [
            "0.924\n"
          ]
        },
        {
          "name": "stderr",
          "output_type": "stream",
          "text": [
            " 38%|███▊      | 15/40 [01:05<01:38,  3.93s/it]"
          ]
        },
        {
          "name": "stdout",
          "output_type": "stream",
          "text": [
            "0.922\n"
          ]
        },
        {
          "name": "stderr",
          "output_type": "stream",
          "text": [
            " 40%|████      | 16/40 [01:08<01:24,  3.53s/it]"
          ]
        },
        {
          "name": "stdout",
          "output_type": "stream",
          "text": [
            "0.944\n"
          ]
        },
        {
          "name": "stderr",
          "output_type": "stream",
          "text": [
            " 42%|████▎     | 17/40 [01:11<01:17,  3.39s/it]"
          ]
        },
        {
          "name": "stdout",
          "output_type": "stream",
          "text": [
            "0.94\n"
          ]
        },
        {
          "name": "stderr",
          "output_type": "stream",
          "text": [
            " 45%|████▌     | 18/40 [01:14<01:12,  3.31s/it]"
          ]
        },
        {
          "name": "stdout",
          "output_type": "stream",
          "text": [
            "0.96\n"
          ]
        },
        {
          "name": "stderr",
          "output_type": "stream",
          "text": [
            " 48%|████▊     | 19/40 [01:17<01:04,  3.07s/it]"
          ]
        },
        {
          "name": "stdout",
          "output_type": "stream",
          "text": [
            "0.952\n"
          ]
        },
        {
          "name": "stderr",
          "output_type": "stream",
          "text": [
            " 50%|█████     | 20/40 [01:19<00:56,  2.85s/it]"
          ]
        },
        {
          "name": "stdout",
          "output_type": "stream",
          "text": [
            "0.954\n"
          ]
        },
        {
          "name": "stderr",
          "output_type": "stream",
          "text": [
            " 52%|█████▎    | 21/40 [01:21<00:49,  2.63s/it]"
          ]
        },
        {
          "name": "stdout",
          "output_type": "stream",
          "text": [
            "0.962\n"
          ]
        },
        {
          "name": "stderr",
          "output_type": "stream",
          "text": [
            " 55%|█████▌    | 22/40 [01:23<00:44,  2.50s/it]"
          ]
        },
        {
          "name": "stdout",
          "output_type": "stream",
          "text": [
            "0.954\n"
          ]
        },
        {
          "name": "stderr",
          "output_type": "stream",
          "text": [
            " 57%|█████▊    | 23/40 [01:25<00:40,  2.40s/it]"
          ]
        },
        {
          "name": "stdout",
          "output_type": "stream",
          "text": [
            "0.954\n"
          ]
        },
        {
          "name": "stderr",
          "output_type": "stream",
          "text": [
            " 60%|██████    | 24/40 [01:27<00:35,  2.25s/it]"
          ]
        },
        {
          "name": "stdout",
          "output_type": "stream",
          "text": [
            "0.958\n"
          ]
        },
        {
          "name": "stderr",
          "output_type": "stream",
          "text": [
            " 62%|██████▎   | 25/40 [01:30<00:35,  2.35s/it]"
          ]
        },
        {
          "name": "stdout",
          "output_type": "stream",
          "text": [
            "0.956\n"
          ]
        },
        {
          "name": "stderr",
          "output_type": "stream",
          "text": [
            " 65%|██████▌   | 26/40 [01:32<00:33,  2.39s/it]"
          ]
        },
        {
          "name": "stdout",
          "output_type": "stream",
          "text": [
            "0.952\n"
          ]
        },
        {
          "name": "stderr",
          "output_type": "stream",
          "text": [
            " 68%|██████▊   | 27/40 [01:34<00:29,  2.25s/it]"
          ]
        },
        {
          "name": "stdout",
          "output_type": "stream",
          "text": [
            "0.968\n"
          ]
        },
        {
          "name": "stderr",
          "output_type": "stream",
          "text": [
            " 70%|███████   | 28/40 [01:36<00:25,  2.15s/it]"
          ]
        },
        {
          "name": "stdout",
          "output_type": "stream",
          "text": [
            "0.972\n"
          ]
        },
        {
          "name": "stderr",
          "output_type": "stream",
          "text": [
            " 72%|███████▎  | 29/40 [01:38<00:23,  2.13s/it]"
          ]
        },
        {
          "name": "stdout",
          "output_type": "stream",
          "text": [
            "0.968\n"
          ]
        },
        {
          "name": "stderr",
          "output_type": "stream",
          "text": [
            " 75%|███████▌  | 30/40 [01:40<00:20,  2.05s/it]"
          ]
        },
        {
          "name": "stdout",
          "output_type": "stream",
          "text": [
            "0.972\n"
          ]
        },
        {
          "name": "stderr",
          "output_type": "stream",
          "text": [
            " 78%|███████▊  | 31/40 [01:42<00:17,  2.00s/it]"
          ]
        },
        {
          "name": "stdout",
          "output_type": "stream",
          "text": [
            "0.972\n"
          ]
        },
        {
          "name": "stderr",
          "output_type": "stream",
          "text": [
            " 80%|████████  | 32/40 [01:44<00:15,  1.98s/it]"
          ]
        },
        {
          "name": "stdout",
          "output_type": "stream",
          "text": [
            "0.974\n"
          ]
        },
        {
          "name": "stderr",
          "output_type": "stream",
          "text": [
            " 82%|████████▎ | 33/40 [01:46<00:13,  1.96s/it]"
          ]
        },
        {
          "name": "stdout",
          "output_type": "stream",
          "text": [
            "0.976\n"
          ]
        },
        {
          "name": "stderr",
          "output_type": "stream",
          "text": [
            " 85%|████████▌ | 34/40 [01:48<00:11,  1.93s/it]"
          ]
        },
        {
          "name": "stdout",
          "output_type": "stream",
          "text": [
            "0.974\n"
          ]
        },
        {
          "name": "stderr",
          "output_type": "stream",
          "text": [
            " 88%|████████▊ | 35/40 [01:50<00:09,  1.90s/it]"
          ]
        },
        {
          "name": "stdout",
          "output_type": "stream",
          "text": [
            "0.976\n"
          ]
        },
        {
          "name": "stderr",
          "output_type": "stream",
          "text": [
            " 90%|█████████ | 36/40 [01:52<00:08,  2.11s/it]"
          ]
        },
        {
          "name": "stdout",
          "output_type": "stream",
          "text": [
            "0.974\n"
          ]
        },
        {
          "name": "stderr",
          "output_type": "stream",
          "text": [
            " 92%|█████████▎| 37/40 [01:55<00:06,  2.25s/it]"
          ]
        },
        {
          "name": "stdout",
          "output_type": "stream",
          "text": [
            "0.97\n"
          ]
        },
        {
          "name": "stderr",
          "output_type": "stream",
          "text": [
            " 95%|█████████▌| 38/40 [01:57<00:04,  2.15s/it]"
          ]
        },
        {
          "name": "stdout",
          "output_type": "stream",
          "text": [
            "0.974\n"
          ]
        },
        {
          "name": "stderr",
          "output_type": "stream",
          "text": [
            " 98%|█████████▊| 39/40 [01:59<00:02,  2.06s/it]"
          ]
        },
        {
          "name": "stdout",
          "output_type": "stream",
          "text": [
            "0.976\n"
          ]
        },
        {
          "name": "stderr",
          "output_type": "stream",
          "text": [
            "100%|██████████| 40/40 [02:00<00:00,  3.02s/it]"
          ]
        },
        {
          "name": "stdout",
          "output_type": "stream",
          "text": [
            "0.974\n"
          ]
        },
        {
          "name": "stderr",
          "output_type": "stream",
          "text": [
            "\n"
          ]
        },
        {
          "data": {
            "image/png": "[encoded data removed]",
            "text/plain": [
              "<Figure size 640x480 with 1 Axes>"
            ]
          },
          "metadata": {},
          "output_type": "display_data"
        }
      ],
      "source": [
        "fr_res = demo(CrossEntropy, FR, 0.0085, 40)"
      ]
    },
    {
      "cell_type": "code",
      "execution_count": 204,
      "metadata": {},
      "outputs": [
        {
          "data": {
            "image/png": "[encoded data removed]",
            "text/plain": [
              "<Figure size 640x480 with 1 Axes>"
            ]
          },
          "metadata": {},
          "output_type": "display_data"
        }
      ],
      "source": [
        "plt.plot(range(1, 41), gd_res, label='GD')\n",
        "plt.plot(range(1, 41), fr_res, label='FR')\n",
        "plt.plot(range(1, 41), bfgs_res, label='BFGS')\n",
        "plt.legend()\n",
        "plt.show()"
      ]
    }
  ],
  "metadata": {
    "colab": {
      "provenance": []
    },
    "kernelspec": {
      "display_name": "Python 3",
      "name": "python3"
    },
    "language_info": {
      "codemirror_mode": {
        "name": "ipython",
        "version": 3
      },
      "file_extension": ".py",
      "mimetype": "text/x-python",
      "name": "python",
      "nbconvert_exporter": "python",
      "pygments_lexer": "ipython3",
      "version": "3.11.6"
    }
  },
  "nbformat": 4,
  "nbformat_minor": 0
}
