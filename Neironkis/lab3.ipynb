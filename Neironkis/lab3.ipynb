{
 "cells": [
  {
   "cell_type": "code",
   "execution_count": 85,
   "metadata": {},
   "outputs": [],
   "source": [
    "from typing import Callable, NamedTuple\n",
    "from dataclasses import dataclass\n",
    "from itertools import product, chain\n",
    "\n",
    "import pandas as pd\n",
    "import numpy as np\n",
    "import matplotlib.pyplot as plt\n",
    "\n",
    "import torch\n",
    "from torchvision import datasets\n",
    "from torch.utils.data import DataLoader\n",
    "from torch.utils.data import Subset\n",
    "\n",
    "from tqdm import tqdm\n",
    "\n",
    "import warnings\n",
    "warnings.filterwarnings('ignore')"
   ]
  },
  {
   "cell_type": "code",
   "execution_count": 86,
   "metadata": {},
   "outputs": [],
   "source": [
    "ds = datasets.MNIST(\n",
    "    root='data',\n",
    "    train=True,\n",
    "    download=True,\n",
    "\n",
    "    transform=lambda img: torch.Tensor(np.asarray(img).flatten())/256,\n",
    "    target_transform=lambda x: torch.Tensor(\n",
    "        [1 if i == x else 0 for i in range(10)])\n",
    ")\n",
    "dl = {\n",
    "    'test': DataLoader(Subset(ds, range(0, 1024)), shuffle=True, batch_size=16),\n",
    "    'train': DataLoader(Subset(ds, range(1024, 1024+512+1)), shuffle=True, batch_size=16),\n",
    "}"
   ]
  },
  {
   "cell_type": "code",
   "execution_count": 87,
   "metadata": {},
   "outputs": [],
   "source": [
    "@dataclass\n",
    "class HyperParams:\n",
    "    lr: float\n",
    "    epochs: int\n",
    "    # inner_layers: int\n",
    "\n",
    "    def __init__(self, lr, epoch):\n",
    "        epoch = int(epoch)\n",
    "        assert lr > 0\n",
    "        assert epoch > 0\n",
    "        self.lr = lr\n",
    "        self.epochs = int(epoch)\n",
    "\n",
    "    def to_vec(self):\n",
    "        return np.array([\n",
    "            self.lr, self.epochs\n",
    "        ])\n",
    "\n",
    "\n",
    "MUTAGENS = [\n",
    "    (0.0001, 0.001),\n",
    "    (10, 60),\n",
    "]"
   ]
  },
  {
   "cell_type": "code",
   "execution_count": 88,
   "metadata": {},
   "outputs": [],
   "source": [
    "class Creature:\n",
    "    model: torch.nn.Sequential\n",
    "    optimizer: torch.optim.Adam\n",
    "    hp: HyperParams\n",
    "    criterion: torch.nn.Module\n",
    "\n",
    "    def __init__(self, hp: HyperParams):\n",
    "        self.hp = hp\n",
    "        self.criterion = torch.nn.MSELoss()\n",
    "\n",
    "        layers = []\n",
    "        # первый слой\n",
    "        layers.append(torch.nn.Linear(784, 128))\n",
    "        layers.append(torch.nn.ReLU())\n",
    "\n",
    "        # скрытые слои\n",
    "        layers.append(torch.nn.Linear(128, 128))\n",
    "        layers.append(torch.nn.ReLU())\n",
    "\n",
    "        # последний слой\n",
    "        layers.append(torch.nn.Linear(128, 10))\n",
    "        layers.append(torch.nn.ReLU())\n",
    "\n",
    "        layers.append(torch.nn.Softmax())\n",
    "\n",
    "        self.model = torch.nn.Sequential(*layers)\n",
    "\n",
    "        self.optimizer = torch.optim.Adam(\n",
    "            self.model.parameters(), lr=self.hp.lr)\n",
    "\n",
    "    def __repr__(self):\n",
    "        return str(self.hp)\n",
    "\n",
    "    def train(self, dl: DataLoader):\n",
    "        for _ in range(self.hp.epochs):\n",
    "            for X, y in dl:\n",
    "                outputs = self.model(X)\n",
    "                loss = self.criterion(outputs, y)\n",
    "\n",
    "                self.optimizer.zero_grad()\n",
    "                loss.backward()\n",
    "                self.optimizer.step()\n",
    "\n",
    "    def test(self, dl: DataLoader):\n",
    "        correct = 0\n",
    "        total = 0\n",
    "        with torch.no_grad():\n",
    "            for X, y in dl:\n",
    "                outputs = self.model(X)\n",
    "                preds = torch.argmax(outputs, dim=1)\n",
    "                y = torch.argmax(y, dim=1)\n",
    "                correct += torch.eq(preds, y).sum().item()\n",
    "                total += len(y)\n",
    "        return correct/total\n",
    "\n",
    "    def fitnes(self, dl: DataLoader):\n",
    "        return self.test(dl)\n",
    "        def mu(x, y): return 1/self.criterion(x, y)\n",
    "        with torch.no_grad():\n",
    "            return sum([mu(self.model(x), y) for x, y in dl]).item()"
   ]
  },
  {
   "cell_type": "code",
   "execution_count": 89,
   "metadata": {},
   "outputs": [
    {
     "data": {
      "text/plain": [
       "array([0.001 , 0.1008, 0.2006, 0.3004, 0.4002, 0.5   ])"
      ]
     },
     "execution_count": 89,
     "metadata": {},
     "output_type": "execute_result"
    }
   ],
   "source": [
    "np.linspace(0.001, 0.5, 6, True)"
   ]
  },
  {
   "cell_type": "code",
   "execution_count": 90,
   "metadata": {},
   "outputs": [],
   "source": [
    "class Zoo:\n",
    "    creatures: list[Creature]\n",
    "    dl: dict[str, DataLoader]\n",
    "    pop_size: int\n",
    "    df: pd.DataFrame\n",
    "\n",
    "    def __init__(self, dl_len=1000) -> None:\n",
    "        self.dl = {\n",
    "            'test': DataLoader(Subset(ds, range(0, dl_len)), shuffle=True, batch_size=16),\n",
    "            'train': DataLoader(Subset(ds, range(dl_len, int(dl_len*1.2))), shuffle=True, batch_size=16),\n",
    "        }\n",
    "\n",
    "        lrs = [0.000085, 0.00013, 0.0002, 0.0008, 0.008]\n",
    "        epochs = [20, 40, 60]\n",
    "        # print(lrs)\n",
    "        # print(epochs)\n",
    "        # lrs = [0.01, 0.05]\n",
    "        # epochs = [15, 30]\n",
    "\n",
    "        self.creatures = []\n",
    "        self.pop_size = 0\n",
    "        for lr, ep_num in product(lrs, epochs):\n",
    "            self.creatures.append(Creature(HyperParams(lr=lr, epoch=ep_num)))\n",
    "            self.pop_size += 1\n",
    "\n",
    "    def train(self):\n",
    "        for c in tqdm(self.creatures):\n",
    "            c.train(self.dl['train'])\n",
    "\n",
    "    def build_df(self, creatures: list[Creature]):\n",
    "        df = pd.DataFrame({'creature': creatures})\n",
    "        # df['accuracy'] = df.creature.map(lambda x: x.test(self.dl['test']))\n",
    "        df['fitnes'] = df.creature.map(lambda x: x.fitnes(self.dl['test']))\n",
    "        df.fitnes = df.fitnes\n",
    "        df['cs'] = df.fitnes / df.fitnes.sum()\n",
    "        df['cs'] = df['cs'] / sum(df.cs)\n",
    "        df = df.sort_values(by=['fitnes'], axis=0, ascending=True)\n",
    "        return df\n",
    "\n",
    "    def selection(self):\n",
    "        self.creatures = list(np.random.choice(\n",
    "            self.df.creature,\n",
    "            size=self.pop_size,\n",
    "            p=self.df.cs\n",
    "        ))\n",
    "\n",
    "    def crossing_over(self):\n",
    "        def cross(p1, p2):\n",
    "            pc = 0.7\n",
    "            genes1, genes2 = p1.hp.to_vec(), p2.hp.to_vec()\n",
    "            while True:\n",
    "                try:\n",
    "                    ngenes1, ngenes2 = [], []\n",
    "                    for g1, g2 in zip(genes1, genes2):\n",
    "                        r = np.random.random()\n",
    "                        if r < pc:\n",
    "                            ngenes1.append(g1)\n",
    "                            ngenes2.append(g2)\n",
    "                        else:\n",
    "                            c = np.random.random()\n",
    "                            ngenes1.append(g1*c + (1-c)*g2)\n",
    "                            ngenes2.append(g2*c + (1-c)*g1)\n",
    "                except AssertionError:\n",
    "                    continue\n",
    "                else:\n",
    "                    return [Creature(HyperParams(*ngenes1)), Creature(HyperParams(*ngenes2))]\n",
    "\n",
    "        np.random.shuffle(self.creatures)  # type: ignore\n",
    "        pairs = [tuple(self.creatures[i:i+2]) for i in range(0, 2*len(self.creatures)//2-1, 2)] + \\\n",
    "            [tuple(self.creatures[-2:])]\n",
    "        offsprings = list(map(lambda x: cross(*x), pairs))\n",
    "        self.creatures = list(chain(*offsprings))[:self.pop_size]\n",
    "\n",
    "    def mutation(self):\n",
    "        pm = 0.4\n",
    "\n",
    "        def mutate(c):\n",
    "            if np.random.random() > pm:\n",
    "                return c\n",
    "            gens = c.hp.to_vec()\n",
    "            i = np.random.randint(0, len(gens))\n",
    "            gens[i] = np.random.uniform(*MUTAGENS[i])\n",
    "            try:\n",
    "                return Creature(HyperParams(*gens))\n",
    "            except:\n",
    "                return c\n",
    "\n",
    "        self.creatures = list(map(mutate, self.creatures))\n",
    "\n",
    "    def replace_with_new_gen(self):\n",
    "        # print('-----------------')\n",
    "        new_df = self.build_df(self.creatures)\n",
    "        # print(self.df)\n",
    "        # print(new_df)\n",
    "\n",
    "        all_df = pd.concat([self.df, new_df], axis=0)\n",
    "        all_df.fitnes\n",
    "        all_df.sort_values(by='fitnes', ascending=True, inplace=True)\n",
    "        # print(all_df)\n",
    "        self.df = all_df.tail(self.pop_size)\n",
    "        self.df.cs = self.df.fitnes / self.df.fitnes.sum()\n",
    "        print(self.df)\n",
    "\n",
    "    def evolve(self, N):\n",
    "        best = []\n",
    "        self.train()\n",
    "        self.df = self.build_df(self.creatures)\n",
    "        # эволюционируем\n",
    "        for i in range(N):\n",
    "            print(f'-> generation {i+1} of {N}')\n",
    "            self.selection()\n",
    "            self.crossing_over()\n",
    "            self.mutation()\n",
    "            self.train()\n",
    "            self.replace_with_new_gen()\n",
    "            best.append(self.df.iloc[-1].fitnes)\n",
    "            # print(self.df)\n",
    "\n",
    "        # результат\n",
    "\n",
    "        print(self.df)\n",
    "        row = self.df['fitnes'].idxmax()\n",
    "\n",
    "        plt.plot(range(len(best)), best)\n",
    "        return self.df.iloc[row].creature, self.df.iloc[row].fitnes"
   ]
  },
  {
   "cell_type": "code",
   "execution_count": 91,
   "metadata": {},
   "outputs": [
    {
     "name": "stderr",
     "output_type": "stream",
     "text": [
      "  0%|          | 0/15 [00:00<?, ?it/s]"
     ]
    },
    {
     "name": "stderr",
     "output_type": "stream",
     "text": [
      "100%|██████████| 15/15 [00:46<00:00,  3.09s/it]\n"
     ]
    },
    {
     "name": "stdout",
     "output_type": "stream",
     "text": [
      "-> generation 1 of 10\n"
     ]
    },
    {
     "name": "stderr",
     "output_type": "stream",
     "text": [
      "100%|██████████| 15/15 [00:44<00:00,  2.93s/it]\n"
     ]
    },
    {
     "name": "stdout",
     "output_type": "stream",
     "text": [
      "                                             creature  fitnes        cs\n",
      "2   HyperParams(lr=0.00013327370866832248, epochs=60)   0.529  0.057344\n",
      "7                   HyperParams(lr=0.0002, epochs=40)   0.533  0.057778\n",
      "13  HyperParams(lr=0.00034817999854094833, epochs=49)   0.557  0.060379\n",
      "3                  HyperParams(lr=0.00013, epochs=20)   0.568  0.061572\n",
      "7   HyperParams(lr=0.00013323136573431942, epochs=60)   0.592  0.064173\n",
      "1                  HyperParams(lr=8.5e-05, epochs=40)   0.597  0.064715\n",
      "5     HyperParams(lr=0.004094574513128657, epochs=16)   0.598  0.064824\n",
      "11                  HyperParams(lr=0.0008, epochs=60)   0.609  0.066016\n",
      "14                  HyperParams(lr=0.0002, epochs=35)   0.621  0.067317\n",
      "6   HyperParams(lr=0.00017778606040570903, epochs=40)   0.638  0.069160\n",
      "9                  HyperParams(lr=0.00013, epochs=60)   0.656  0.071111\n",
      "8                   HyperParams(lr=0.0002, epochs=60)   0.671  0.072737\n",
      "6                   HyperParams(lr=0.0002, epochs=20)   0.679  0.073604\n",
      "3                   HyperParams(lr=0.0002, epochs=60)   0.685  0.074255\n",
      "5                  HyperParams(lr=0.00013, epochs=60)   0.692  0.075014\n",
      "-> generation 2 of 10\n"
     ]
    },
    {
     "name": "stderr",
     "output_type": "stream",
     "text": [
      "100%|██████████| 15/15 [00:56<00:00,  3.79s/it]\n"
     ]
    },
    {
     "name": "stdout",
     "output_type": "stream",
     "text": [
      "                                             creature  fitnes        cs\n",
      "6                  HyperParams(lr=0.00013, epochs=60)   0.600  0.061671\n",
      "14                 HyperParams(lr=0.00013, epochs=60)   0.606  0.062288\n",
      "11                  HyperParams(lr=0.0008, epochs=60)   0.609  0.062596\n",
      "1    HyperParams(lr=0.0007165291015036551, epochs=54)   0.618  0.063521\n",
      "14                  HyperParams(lr=0.0002, epochs=35)   0.621  0.063830\n",
      "6   HyperParams(lr=0.00017778606040570903, epochs=40)   0.638  0.065577\n",
      "13                 HyperParams(lr=0.00013, epochs=60)   0.656  0.067427\n",
      "9                  HyperParams(lr=0.00013, epochs=60)   0.656  0.067427\n",
      "4    HyperParams(lr=0.0001509242640013631, epochs=40)   0.662  0.068044\n",
      "9                  HyperParams(lr=0.00013, epochs=60)   0.664  0.068250\n",
      "8                   HyperParams(lr=0.0002, epochs=60)   0.671  0.068969\n",
      "3                   HyperParams(lr=0.0002, epochs=48)   0.672  0.069072\n",
      "6                   HyperParams(lr=0.0002, epochs=20)   0.679  0.069791\n",
      "3                   HyperParams(lr=0.0002, epochs=60)   0.685  0.070408\n",
      "5                  HyperParams(lr=0.00013, epochs=60)   0.692  0.071128\n",
      "-> generation 3 of 10\n"
     ]
    },
    {
     "name": "stderr",
     "output_type": "stream",
     "text": [
      "100%|██████████| 15/15 [00:52<00:00,  3.52s/it]\n"
     ]
    },
    {
     "name": "stdout",
     "output_type": "stream",
     "text": [
      "                                             creature  fitnes        cs\n",
      "6   HyperParams(lr=0.00017778606040570903, epochs=40)   0.638  0.062826\n",
      "8    HyperParams(lr=0.0004422105966561158, epochs=60)   0.649  0.063909\n",
      "9                  HyperParams(lr=0.00013, epochs=60)   0.656  0.064599\n",
      "13                 HyperParams(lr=0.00013, epochs=60)   0.656  0.064599\n",
      "6                  HyperParams(lr=0.00013, epochs=22)   0.656  0.064599\n",
      "4    HyperParams(lr=0.0001509242640013631, epochs=40)   0.662  0.065190\n",
      "9                  HyperParams(lr=0.00013, epochs=60)   0.664  0.065387\n",
      "8                   HyperParams(lr=0.0002, epochs=60)   0.671  0.066076\n",
      "3                   HyperParams(lr=0.0002, epochs=48)   0.672  0.066174\n",
      "6                   HyperParams(lr=0.0002, epochs=20)   0.679  0.066864\n",
      "3                   HyperParams(lr=0.0002, epochs=60)   0.685  0.067454\n",
      "5                  HyperParams(lr=0.00013, epochs=60)   0.692  0.068144\n",
      "1                  HyperParams(lr=0.00013, epochs=60)   0.696  0.068538\n",
      "5    HyperParams(lr=0.0005130459678931662, epochs=60)   0.731  0.071984\n",
      "4   HyperParams(lr=0.00016497122092409375, epochs=40)   0.748  0.073658\n",
      "-> generation 4 of 10\n"
     ]
    },
    {
     "name": "stderr",
     "output_type": "stream",
     "text": [
      "100%|██████████| 15/15 [01:00<00:00,  4.01s/it]\n"
     ]
    },
    {
     "name": "stdout",
     "output_type": "stream",
     "text": [
      "                                             creature  fitnes        cs\n",
      "8    HyperParams(lr=0.0004422105966561158, epochs=60)   0.649  0.063004\n",
      "6                  HyperParams(lr=0.00013, epochs=22)   0.656  0.063683\n",
      "13                 HyperParams(lr=0.00013, epochs=60)   0.656  0.063683\n",
      "9                  HyperParams(lr=0.00013, epochs=60)   0.656  0.063683\n",
      "4    HyperParams(lr=0.0001509242640013631, epochs=40)   0.662  0.064266\n",
      "9                  HyperParams(lr=0.00013, epochs=60)   0.664  0.064460\n",
      "8                   HyperParams(lr=0.0002, epochs=60)   0.671  0.065139\n",
      "3                   HyperParams(lr=0.0002, epochs=48)   0.672  0.065236\n",
      "6                   HyperParams(lr=0.0002, epochs=20)   0.679  0.065916\n",
      "3                   HyperParams(lr=0.0002, epochs=60)   0.685  0.066498\n",
      "5                  HyperParams(lr=0.00013, epochs=60)   0.692  0.067178\n",
      "1                  HyperParams(lr=0.00013, epochs=60)   0.696  0.067566\n",
      "5    HyperParams(lr=0.0005130459678931662, epochs=60)   0.731  0.070964\n",
      "4   HyperParams(lr=0.00016497122092409375, epochs=40)   0.748  0.072614\n",
      "3   HyperParams(lr=0.00025659127637556775, epochs=60)   0.784  0.076109\n",
      "-> generation 5 of 10\n"
     ]
    },
    {
     "name": "stderr",
     "output_type": "stream",
     "text": [
      "100%|██████████| 15/15 [01:01<00:00,  4.10s/it]\n"
     ]
    },
    {
     "name": "stdout",
     "output_type": "stream",
     "text": [
      "                                             creature  fitnes        cs\n",
      "4    HyperParams(lr=0.0001509242640013631, epochs=40)   0.662  0.062743\n",
      "0                  HyperParams(lr=0.00013, epochs=31)   0.663  0.062838\n",
      "9                  HyperParams(lr=0.00013, epochs=60)   0.664  0.062932\n",
      "8                   HyperParams(lr=0.0002, epochs=60)   0.671  0.063596\n",
      "3                   HyperParams(lr=0.0002, epochs=48)   0.672  0.063691\n",
      "6                   HyperParams(lr=0.0002, epochs=20)   0.679  0.064354\n",
      "3                   HyperParams(lr=0.0002, epochs=60)   0.685  0.064923\n",
      "5                  HyperParams(lr=0.00013, epochs=60)   0.692  0.065586\n",
      "7   HyperParams(lr=0.00016497122092409375, epochs=40)   0.693  0.065681\n",
      "1                  HyperParams(lr=0.00013, epochs=60)   0.696  0.065965\n",
      "12   HyperParams(lr=0.0007710583387554505, epochs=60)   0.729  0.069093\n",
      "5    HyperParams(lr=0.0005130459678931662, epochs=60)   0.731  0.069283\n",
      "4   HyperParams(lr=0.00016497122092409375, epochs=40)   0.748  0.070894\n",
      "10                  HyperParams(lr=0.0002, epochs=26)   0.782  0.074116\n",
      "3   HyperParams(lr=0.00025659127637556775, epochs=60)   0.784  0.074306\n",
      "-> generation 6 of 10\n"
     ]
    },
    {
     "name": "stderr",
     "output_type": "stream",
     "text": [
      "100%|██████████| 15/15 [00:51<00:00,  3.46s/it]\n"
     ]
    },
    {
     "name": "stdout",
     "output_type": "stream",
     "text": [
      "                                             creature  fitnes        cs\n",
      "9                  HyperParams(lr=0.00013, epochs=60)   0.664  0.062713\n",
      "1    HyperParams(lr=0.0008651579871384515, epochs=40)   0.671  0.063374\n",
      "8                   HyperParams(lr=0.0002, epochs=60)   0.671  0.063374\n",
      "3                   HyperParams(lr=0.0002, epochs=48)   0.672  0.063468\n",
      "6                   HyperParams(lr=0.0002, epochs=20)   0.679  0.064129\n",
      "3                   HyperParams(lr=0.0002, epochs=60)   0.685  0.064696\n",
      "9   HyperParams(lr=0.00043248962449108876, epochs=44)   0.691  0.065263\n",
      "5                  HyperParams(lr=0.00013, epochs=60)   0.692  0.065357\n",
      "7   HyperParams(lr=0.00016497122092409375, epochs=40)   0.693  0.065451\n",
      "1                  HyperParams(lr=0.00013, epochs=60)   0.696  0.065735\n",
      "12   HyperParams(lr=0.0007710583387554505, epochs=60)   0.729  0.068852\n",
      "5    HyperParams(lr=0.0005130459678931662, epochs=60)   0.731  0.069040\n",
      "4   HyperParams(lr=0.00016497122092409375, epochs=40)   0.748  0.070646\n",
      "10                  HyperParams(lr=0.0002, epochs=26)   0.782  0.073857\n",
      "3   HyperParams(lr=0.00025659127637556775, epochs=60)   0.784  0.074046\n",
      "-> generation 7 of 10\n"
     ]
    },
    {
     "name": "stderr",
     "output_type": "stream",
     "text": [
      "100%|██████████| 15/15 [00:51<00:00,  3.45s/it]\n"
     ]
    },
    {
     "name": "stdout",
     "output_type": "stream",
     "text": [
      "                                             creature  fitnes        cs\n",
      "1    HyperParams(lr=0.0008651579871384515, epochs=40)   0.671  0.062792\n",
      "3                   HyperParams(lr=0.0002, epochs=48)   0.672  0.062886\n",
      "7    HyperParams(lr=0.0004797851505859555, epochs=60)   0.675  0.063167\n",
      "6                   HyperParams(lr=0.0002, epochs=20)   0.679  0.063541\n",
      "3                   HyperParams(lr=0.0002, epochs=60)   0.685  0.064103\n",
      "9   HyperParams(lr=0.00043248962449108876, epochs=44)   0.691  0.064664\n",
      "5                  HyperParams(lr=0.00013, epochs=60)   0.692  0.064758\n",
      "7   HyperParams(lr=0.00016497122092409375, epochs=40)   0.693  0.064851\n",
      "1                  HyperParams(lr=0.00013, epochs=60)   0.696  0.065132\n",
      "12   HyperParams(lr=0.0007710583387554505, epochs=60)   0.729  0.068220\n",
      "5    HyperParams(lr=0.0005130459678931662, epochs=60)   0.731  0.068407\n",
      "4   HyperParams(lr=0.00016497122092409375, epochs=40)   0.748  0.069998\n",
      "4   HyperParams(lr=0.00016497122092409375, epochs=40)   0.758  0.070934\n",
      "10                  HyperParams(lr=0.0002, epochs=26)   0.782  0.073180\n",
      "3   HyperParams(lr=0.00025659127637556775, epochs=60)   0.784  0.073367\n",
      "-> generation 8 of 10\n"
     ]
    },
    {
     "name": "stderr",
     "output_type": "stream",
     "text": [
      "100%|██████████| 15/15 [00:42<00:00,  2.86s/it]\n"
     ]
    },
    {
     "name": "stdout",
     "output_type": "stream",
     "text": [
      "                                             creature  fitnes        cs\n",
      "7    HyperParams(lr=0.0004797851505859555, epochs=60)   0.675  0.062575\n",
      "6                   HyperParams(lr=0.0002, epochs=20)   0.679  0.062946\n",
      "3                   HyperParams(lr=0.0002, epochs=60)   0.685  0.063502\n",
      "9   HyperParams(lr=0.00043248962449108876, epochs=44)   0.691  0.064059\n",
      "5                  HyperParams(lr=0.00013, epochs=60)   0.692  0.064151\n",
      "7   HyperParams(lr=0.00016497122092409375, epochs=40)   0.693  0.064244\n",
      "10  HyperParams(lr=0.00025659127637556775, epochs=27)   0.696  0.064522\n",
      "1                  HyperParams(lr=0.00013, epochs=60)   0.696  0.064522\n",
      "12   HyperParams(lr=0.0007710583387554505, epochs=60)   0.729  0.067581\n",
      "5    HyperParams(lr=0.0005130459678931662, epochs=60)   0.731  0.067767\n",
      "11   HyperParams(lr=0.0006956480734856922, epochs=40)   0.748  0.069343\n",
      "4   HyperParams(lr=0.00016497122092409375, epochs=40)   0.748  0.069343\n",
      "4   HyperParams(lr=0.00016497122092409375, epochs=40)   0.758  0.070270\n",
      "10                  HyperParams(lr=0.0002, epochs=26)   0.782  0.072495\n",
      "3   HyperParams(lr=0.00025659127637556775, epochs=60)   0.784  0.072680\n",
      "-> generation 9 of 10\n"
     ]
    },
    {
     "name": "stderr",
     "output_type": "stream",
     "text": [
      "100%|██████████| 15/15 [00:39<00:00,  2.65s/it]\n"
     ]
    },
    {
     "name": "stdout",
     "output_type": "stream",
     "text": [
      "                                             creature  fitnes        cs\n",
      "5                  HyperParams(lr=0.00013, epochs=60)   0.692  0.062670\n",
      "7   HyperParams(lr=0.00016497122092409375, epochs=40)   0.693  0.062760\n",
      "1                  HyperParams(lr=0.00013, epochs=60)   0.696  0.063032\n",
      "10  HyperParams(lr=0.00025659127637556775, epochs=27)   0.696  0.063032\n",
      "12   HyperParams(lr=0.0007710583387554505, epochs=60)   0.729  0.066021\n",
      "7    HyperParams(lr=0.0006956480734856922, epochs=31)   0.729  0.066021\n",
      "3   HyperParams(lr=0.00016497122092409375, epochs=40)   0.731  0.066202\n",
      "5    HyperParams(lr=0.0005130459678931662, epochs=60)   0.731  0.066202\n",
      "0   HyperParams(lr=0.00042757598469973454, epochs=60)   0.735  0.066564\n",
      "4   HyperParams(lr=0.00016497122092409375, epochs=40)   0.748  0.067741\n",
      "11   HyperParams(lr=0.0006956480734856922, epochs=40)   0.748  0.067741\n",
      "4   HyperParams(lr=0.00016497122092409375, epochs=40)   0.758  0.068647\n",
      "10                  HyperParams(lr=0.0002, epochs=26)   0.782  0.070821\n",
      "3   HyperParams(lr=0.00025659127637556775, epochs=60)   0.784  0.071002\n",
      "5   HyperParams(lr=0.00043026018192712426, epochs=26)   0.790  0.071545\n",
      "-> generation 10 of 10\n"
     ]
    },
    {
     "name": "stderr",
     "output_type": "stream",
     "text": [
      "100%|██████████| 15/15 [00:44<00:00,  2.97s/it]\n"
     ]
    },
    {
     "name": "stdout",
     "output_type": "stream",
     "text": [
      "                                             creature  fitnes        cs\n",
      "5                  HyperParams(lr=0.00013, epochs=60)   0.692  0.062670\n",
      "7   HyperParams(lr=0.00016497122092409375, epochs=40)   0.693  0.062760\n",
      "10  HyperParams(lr=0.00025659127637556775, epochs=27)   0.696  0.063032\n",
      "1                  HyperParams(lr=0.00013, epochs=60)   0.696  0.063032\n",
      "7    HyperParams(lr=0.0006956480734856922, epochs=31)   0.729  0.066021\n",
      "12   HyperParams(lr=0.0007710583387554505, epochs=60)   0.729  0.066021\n",
      "5    HyperParams(lr=0.0005130459678931662, epochs=60)   0.731  0.066202\n",
      "3   HyperParams(lr=0.00016497122092409375, epochs=40)   0.731  0.066202\n",
      "0   HyperParams(lr=0.00042757598469973454, epochs=60)   0.735  0.066564\n",
      "11   HyperParams(lr=0.0006956480734856922, epochs=40)   0.748  0.067741\n",
      "4   HyperParams(lr=0.00016497122092409375, epochs=40)   0.748  0.067741\n",
      "4   HyperParams(lr=0.00016497122092409375, epochs=40)   0.758  0.068647\n",
      "10                  HyperParams(lr=0.0002, epochs=26)   0.782  0.070821\n",
      "3   HyperParams(lr=0.00025659127637556775, epochs=60)   0.784  0.071002\n",
      "5   HyperParams(lr=0.00043026018192712426, epochs=26)   0.790  0.071545\n",
      "                                             creature  fitnes        cs\n",
      "5                  HyperParams(lr=0.00013, epochs=60)   0.692  0.062670\n",
      "7   HyperParams(lr=0.00016497122092409375, epochs=40)   0.693  0.062760\n",
      "10  HyperParams(lr=0.00025659127637556775, epochs=27)   0.696  0.063032\n",
      "1                  HyperParams(lr=0.00013, epochs=60)   0.696  0.063032\n",
      "7    HyperParams(lr=0.0006956480734856922, epochs=31)   0.729  0.066021\n",
      "12   HyperParams(lr=0.0007710583387554505, epochs=60)   0.729  0.066021\n",
      "5    HyperParams(lr=0.0005130459678931662, epochs=60)   0.731  0.066202\n",
      "3   HyperParams(lr=0.00016497122092409375, epochs=40)   0.731  0.066202\n",
      "0   HyperParams(lr=0.00042757598469973454, epochs=60)   0.735  0.066564\n",
      "11   HyperParams(lr=0.0006956480734856922, epochs=40)   0.748  0.067741\n",
      "4   HyperParams(lr=0.00016497122092409375, epochs=40)   0.748  0.067741\n",
      "4   HyperParams(lr=0.00016497122092409375, epochs=40)   0.758  0.068647\n",
      "10                  HyperParams(lr=0.0002, epochs=26)   0.782  0.070821\n",
      "3   HyperParams(lr=0.00025659127637556775, epochs=60)   0.784  0.071002\n",
      "5   HyperParams(lr=0.00043026018192712426, epochs=26)   0.790  0.071545\n"
     ]
    },
    {
     "data": {
      "text/plain": [
       "(HyperParams(lr=0.0007710583387554505, epochs=60), 0.729)"
      ]
     },
     "execution_count": 91,
     "metadata": {},
     "output_type": "execute_result"
    },
    {
     "data": {
      "image/png": "[encoded data removed]",
      "text/plain": [
       "<Figure size 640x480 with 1 Axes>"
      ]
     },
     "metadata": {},
     "output_type": "display_data"
    }
   ],
   "source": [
    "z = Zoo()\n",
    "z.evolve(10)"
   ]
  }
 ],
 "metadata": {
  "kernelspec": {
   "display_name": "venv",
   "language": "python",
   "name": "python3"
  },
  "language_info": {
   "codemirror_mode": {
    "name": "ipython",
    "version": 3
   },
   "file_extension": ".py",
   "mimetype": "text/x-python",
   "name": "python",
   "nbconvert_exporter": "python",
   "pygments_lexer": "ipython3",
   "version": "3.11.6"
  }
 },
 "nbformat": 4,
 "nbformat_minor": 2
}
