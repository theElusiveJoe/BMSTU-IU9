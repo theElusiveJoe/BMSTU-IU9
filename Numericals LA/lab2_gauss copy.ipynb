{
  "cells": [
    {
      "cell_type": "code",
      "execution_count": 1,
      "metadata": {
        "id": "hhyOVVS42X7O"
      },
      "outputs": [],
      "source": [
        "import numpy as np\n",
        "import pandas as pd\n",
        "# pd.set_option('float_format', '{:f}'.format)\n",
        "import matplotlib.pyplot as plt\n",
        "\n",
        "from sympy.combinatorics import Permutation\n",
        "from sympy import init_printing\n",
        "init_printing(perm_cyclic=False, pretty_print=False)\n",
        "from copy import deepcopy as dc\n",
        "\n",
        "from collections import namedtuple\n",
        "from tqdm import tqdm\n",
        "import time"
      ]
    },
    {
      "cell_type": "markdown",
      "metadata": {
        "id": "TwnQqSueddK-"
      },
      "source": [
        "# методы из прошлой лабы"
      ]
    },
    {
      "cell_type": "code",
      "execution_count": 2,
      "metadata": {
        "id": "0ULok3-jdcro"
      },
      "outputs": [],
      "source": [
        "def norm(x ):\n",
        "    return np.sqrt(sum([xi**2 for xi in x]))\n",
        "\n",
        "def scalar_product(x,y):\n",
        "    return (sum([xi*yi for xi, yi in zip(x,y)]))\n",
        "\n",
        "def mat_vec_product(a, x):\n",
        "    assert len(a[0]) == len(x)\n",
        "\n",
        "    return np.array([\n",
        "        scalar_product(y,x)\n",
        "        for y in a\n",
        "    ])\n",
        "\n",
        "def matrix_product(a, b):\n",
        "    k, l = len(a), len(a[0])\n",
        "    l2, m = len(b), len(b[0])\n",
        "    assert l == l2\n",
        "\n",
        "    return np.array(\n",
        "        [\n",
        "            [\n",
        "                sum(a[i][t]*b[t][j] for t in range(l))\n",
        "                for j in range(m)\n",
        "            ]\n",
        "            for i in range(k)\n",
        "        ]\n",
        "    )\n",
        "\n",
        "def transpose(a):\n",
        "    return np.array([\n",
        "        [a[j][i]for j in range(len(a))]\n",
        "        for i in range(len(a[0]))\n",
        "    ])\n",
        "\n"
      ]
    },
    {
      "cell_type": "code",
      "execution_count": 3,
      "metadata": {
        "id": "fStqHvhDiQWb"
      },
      "outputs": [],
      "source": [
        "def plotter(f, a, b, dots_num=100):\n",
        "    x = np.linspace(a,b, dots_num, True)\n",
        "    y = f(x)\n",
        "    plt.plot(x,y)\n",
        "    plt.show()"
      ]
    },
    {
      "cell_type": "markdown",
      "metadata": {
        "id": "WmFEDG9Km2j8"
      },
      "source": [
        "# метод гаусса"
      ]
    },
    {
      "cell_type": "code",
      "execution_count": 23,
      "metadata": {
        "id": "HR8cYOT52Zdi"
      },
      "outputs": [],
      "source": [
        "NORMAL = 1\n",
        "SWAP_ROWS = 2\n",
        "SWAP_COLS = 3\n",
        "SWAP_ALL = 4\n",
        "\n",
        "def max_elem_in_matrix(A, iter_num):\n",
        "    m = 0\n",
        "    mi, mj = -1,-1\n",
        "    for i in range(iter_num, len(A)):\n",
        "        for j in range(iter_num, len(A)):\n",
        "            if abs(A[i][j]) > m:\n",
        "                m = abs(A[i][j])\n",
        "                mi, mj = i,j\n",
        "    return mi, mj\n",
        "\n",
        "def max_elem_in_row(A, iter_num):\n",
        "    m = 0\n",
        "    mi, mj = -1,-1\n",
        "    i = iter_num\n",
        "    for j in range(iter_num, len(A)):\n",
        "        if abs(A[i][j]) > m:\n",
        "            m = abs(A[i][j])\n",
        "            mi, mj = i,j\n",
        "\n",
        "    return mi, mj\n",
        "\n",
        "\n",
        "def max_elem_in_column(A, iter_num):\n",
        "    m = 0\n",
        "    mi, mj = -1,-1\n",
        "    j = iter_num\n",
        "    for i in range(iter_num, len(A)):\n",
        "        if abs(A[i][j]) > m:\n",
        "            m = abs(A[i][j])\n",
        "            mi, mj = i,j\n",
        "    return mi, mj\n",
        "\n",
        "def permute_rows(A, f, i, j):\n",
        "    for t in range(len(A)):\n",
        "        A[i][t], A[j][t] = A[j][t], A[i][t]\n",
        "    f[i], f[j] = f[j], f[i]\n",
        "    return A, f\n",
        "\n",
        "def permute_cols(A, f, i, j):\n",
        "    for t in range(len(A)):\n",
        "        A[t][i], A[t][j] = A[t][j], A[t][i]\n",
        "    return A, f\n",
        "\n",
        "def gaussian(A, f, mode=NORMAL):\n",
        "    assert len(A) == len(A[0]) == len(f)\n",
        "    A, f = dc(A), dc(f)\n",
        "    D = np.zeros((len(A), len(A)))\n",
        "    Dr = np.zeros((len(A),))\n",
        "    N = len(A)\n",
        "    p = Permutation()\n",
        "\n",
        "    # прямой ход\n",
        "    for iter_num in range(N-1):\n",
        "        for t in range(iter_num+1, N):\n",
        "            c = A[t, iter_num]/A[iter_num, iter_num]\n",
        "            A[t] = A[t] - c*A[iter_num]\n",
        "            D[t] = abs(c) * abs(A[iter_num]) + abs(A[t])\n",
        "            f[t] = f[t] - c*f[iter_num]\n",
        "            Dr[t] = abs(f[t]) + abs(c) + abs(f[iter_num])\n",
        "\n",
        "    # обратный ход\n",
        "    x = np.zeros(N)\n",
        "    for iter_num in range(N-1, -1, -1):\n",
        "        x[iter_num] = (f[iter_num] - scalar_product(x, A[iter_num])) / A[iter_num, iter_num]\n",
        "\n",
        "    # перестановка элементов x\n",
        "    for i,j in p.transpositions():\n",
        "        i,j = i-1, j-1\n",
        "        x[i], x[j] = x[j], x[i]\n",
        "\n",
        "    print(D)\n",
        "    print(Dr)\n",
        "    print('delta norm:', max(np.linalg.norm(D), np.linalg.norm(Dr)))\n",
        "\n",
        "\n",
        "    return x"
      ]
    },
    {
      "cell_type": "markdown",
      "metadata": {
        "id": "iHCxb3j4i3sI"
      },
      "source": [
        "## проверка"
      ]
    },
    {
      "cell_type": "code",
      "execution_count": 24,
      "metadata": {
        "id": "7Ftchy8sf8u_"
      },
      "outputs": [],
      "source": [
        "A = np.random.rand(5,5)\n",
        "f = np.random.rand(5)"
      ]
    },
    {
      "cell_type": "code",
      "execution_count": 25,
      "metadata": {
        "colab": {
          "base_uri": "https://localhost:8080/"
        },
        "id": "MpedSB3eelyr",
        "outputId": "78f17d8d-e55e-4d86-db04-19f180acf5ce"
      },
      "outputs": [
        {
          "name": "stdout",
          "output_type": "stream",
          "text": [
            "[[0.         0.         0.         0.         0.        ]\n",
            " [0.25764382 0.6855051  0.25025911 0.95562458 0.28177488]\n",
            " [0.         0.0671283  0.89234173 0.49249202 0.04093266]\n",
            " [0.         0.         0.28085231 0.48483122 0.09753412]\n",
            " [0.         0.         0.         0.25905381 0.28700987]]\n",
            "[0.         1.30280296 0.89370698 1.11226048 1.63229611]\n",
            "delta norm: 2.5293322622916294\n",
            "[0.87822307 0.38618883 0.73437477 0.85749108 0.52684888]\n",
            "[0.87822307 0.38618883 0.73437477 0.85749108 0.52684888]\n"
          ]
        }
      ],
      "source": [
        "x = gaussian(A, f)\n",
        "\n",
        "print(A@x)\n",
        "print(f)"
      ]
    }
  ],
  "metadata": {
    "colab": {
      "collapsed_sections": [
        "1ut-dGMznUGY",
        "PP6sme4qnuHe"
      ],
      "provenance": []
    },
    "kernelspec": {
      "display_name": "Python 3",
      "name": "python3"
    },
    "language_info": {
      "codemirror_mode": {
        "name": "ipython",
        "version": 3
      },
      "file_extension": ".py",
      "mimetype": "text/x-python",
      "name": "python",
      "nbconvert_exporter": "python",
      "pygments_lexer": "ipython3",
      "version": "3.11.6"
    }
  },
  "nbformat": 4,
  "nbformat_minor": 0
}
