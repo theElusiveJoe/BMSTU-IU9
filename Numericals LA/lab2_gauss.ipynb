{
  "cells": [
    {
      "cell_type": "code",
      "execution_count": 1,
      "metadata": {
        "id": "hhyOVVS42X7O"
      },
      "outputs": [],
      "source": [
        "import numpy as np\n",
        "import pandas as pd\n",
        "# pd.set_option('float_format', '{:f}'.format)\n",
        "import matplotlib.pyplot as plt\n",
        "\n",
        "from sympy.combinatorics import Permutation\n",
        "from sympy import init_printing\n",
        "init_printing(perm_cyclic=False, pretty_print=False)\n",
        "from copy import deepcopy as dc\n",
        "\n",
        "from collections import namedtuple\n",
        "from tqdm import tqdm\n",
        "import time"
      ]
    },
    {
      "cell_type": "markdown",
      "metadata": {
        "id": "TwnQqSueddK-"
      },
      "source": [
        "# методы из прошлой лабы"
      ]
    },
    {
      "cell_type": "code",
      "execution_count": 2,
      "metadata": {
        "id": "0ULok3-jdcro"
      },
      "outputs": [],
      "source": [
        "def norm(x ):\n",
        "    return np.sqrt(sum([xi**2 for xi in x]))\n",
        "\n",
        "def scalar_product(x,y):\n",
        "    return (sum([xi*yi for xi, yi in zip(x,y)]))\n",
        "\n",
        "def mat_vec_product(a, x):\n",
        "    assert len(a[0]) == len(x)\n",
        "\n",
        "    return np.array([\n",
        "        scalar_product(y,x)\n",
        "        for y in a\n",
        "    ])\n",
        "\n",
        "def matrix_product(a, b):\n",
        "    k, l = len(a), len(a[0])\n",
        "    l2, m = len(b), len(b[0])\n",
        "    assert l == l2\n",
        "\n",
        "    return np.array(\n",
        "        [\n",
        "            [\n",
        "                sum(a[i][t]*b[t][j] for t in range(l))\n",
        "                for j in range(m)\n",
        "            ]\n",
        "            for i in range(k)\n",
        "        ]\n",
        "    )\n",
        "\n",
        "def transpose(a):\n",
        "    return np.array([\n",
        "        [a[j][i]for j in range(len(a))]\n",
        "        for i in range(len(a[0]))\n",
        "    ])\n",
        "\n"
      ]
    },
    {
      "cell_type": "code",
      "execution_count": 3,
      "metadata": {
        "id": "fStqHvhDiQWb"
      },
      "outputs": [],
      "source": [
        "def plotter(f, a, b, dots_num=100):\n",
        "    x = np.linspace(a,b, dots_num, True)\n",
        "    y = f(x)\n",
        "    plt.plot(x,y)\n",
        "    plt.show()"
      ]
    },
    {
      "cell_type": "markdown",
      "metadata": {
        "id": "WmFEDG9Km2j8"
      },
      "source": [
        "# метод гаусса"
      ]
    },
    {
      "cell_type": "code",
      "execution_count": 23,
      "metadata": {
        "id": "HR8cYOT52Zdi"
      },
      "outputs": [],
      "source": [
        "NORMAL = 1\n",
        "SWAP_ROWS = 2\n",
        "SWAP_COLS = 3\n",
        "SWAP_ALL = 4\n",
        "\n",
        "def max_elem_in_matrix(A, iter_num):\n",
        "    m = 0\n",
        "    mi, mj = -1,-1\n",
        "    for i in range(iter_num, len(A)):\n",
        "        for j in range(iter_num, len(A)):\n",
        "            if abs(A[i][j]) > m:\n",
        "                m = abs(A[i][j])\n",
        "                mi, mj = i,j\n",
        "    return mi, mj\n",
        "\n",
        "def max_elem_in_row(A, iter_num):\n",
        "    m = 0\n",
        "    mi, mj = -1,-1\n",
        "    i = iter_num\n",
        "    for j in range(iter_num, len(A)):\n",
        "        if abs(A[i][j]) > m:\n",
        "            m = abs(A[i][j])\n",
        "            mi, mj = i,j\n",
        "\n",
        "    return mi, mj\n",
        "\n",
        "\n",
        "def max_elem_in_column(A, iter_num):\n",
        "    m = 0\n",
        "    mi, mj = -1,-1\n",
        "    j = iter_num\n",
        "    for i in range(iter_num, len(A)):\n",
        "        if abs(A[i][j]) > m:\n",
        "            m = abs(A[i][j])\n",
        "            mi, mj = i,j\n",
        "    return mi, mj\n",
        "\n",
        "def permute_rows(A, f, i, j):\n",
        "    for t in range(len(A)):\n",
        "        A[i][t], A[j][t] = A[j][t], A[i][t]\n",
        "    f[i], f[j] = f[j], f[i]\n",
        "    return A, f\n",
        "\n",
        "def permute_cols(A, f, i, j):\n",
        "    for t in range(len(A)):\n",
        "        A[t][i], A[t][j] = A[t][j], A[t][i]\n",
        "    return A, f\n",
        "\n",
        "def gaussian(A, f, mode=NORMAL):\n",
        "    assert len(A) == len(A[0]) == len(f)\n",
        "    A, f = dc(A), dc(f)\n",
        "    D = np.zeros((len(A), len(A)))\n",
        "    Dr = np.zeros((len(A),))\n",
        "    N = len(A)\n",
        "    p = Permutation()\n",
        "\n",
        "    # прямой ход\n",
        "    for iter_num in range(N-1):\n",
        "        for t in range(iter_num+1, N):\n",
        "            c = A[t, iter_num]/A[iter_num, iter_num]\n",
        "            A[t] = A[t] - c*A[iter_num]\n",
        "            D[t] = abs(c) * abs(A[iter_num]) + abs(A[t])\n",
        "            f[t] = f[t] - c*f[iter_num]\n",
        "            Dr[t] = abs(f[t]) + abs(c) + abs(f[iter_num])\n",
        "\n",
        "    # обратный ход\n",
        "    x = np.zeros(N)\n",
        "    for iter_num in range(N-1, -1, -1):\n",
        "        x[iter_num] = (f[iter_num] - scalar_product(x, A[iter_num])) / A[iter_num, iter_num]\n",
        "\n",
        "    # перестановка элементов x\n",
        "    for i,j in p.transpositions():\n",
        "        i,j = i-1, j-1\n",
        "        x[i], x[j] = x[j], x[i]\n",
        "\n",
        "    print(D)\n",
        "    print(Dr)\n",
        "    print('delta norm:', max(np.linalg.norm(D), np.linalg.norm(Dr)))\n",
        "\n",
        "\n",
        "    return x"
      ]
    },
    {
      "cell_type": "markdown",
      "metadata": {
        "id": "iHCxb3j4i3sI"
      },
      "source": [
        "## проверка"
      ]
    },
    {
      "cell_type": "code",
      "execution_count": 24,
      "metadata": {
        "id": "7Ftchy8sf8u_"
      },
      "outputs": [],
      "source": [
        "A = np.random.rand(5,5)\n",
        "f = np.random.rand(5)"
      ]
    },
    {
      "cell_type": "code",
      "execution_count": 25,
      "metadata": {
        "colab": {
          "base_uri": "https://localhost:8080/"
        },
        "id": "MpedSB3eelyr",
        "outputId": "78f17d8d-e55e-4d86-db04-19f180acf5ce"
      },
      "outputs": [
        {
          "name": "stdout",
          "output_type": "stream",
          "text": [
            "[[0.         0.         0.         0.         0.        ]\n",
            " [0.25764382 0.6855051  0.25025911 0.95562458 0.28177488]\n",
            " [0.         0.0671283  0.89234173 0.49249202 0.04093266]\n",
            " [0.         0.         0.28085231 0.48483122 0.09753412]\n",
            " [0.         0.         0.         0.25905381 0.28700987]]\n",
            "[0.         1.30280296 0.89370698 1.11226048 1.63229611]\n",
            "delta norm: 2.5293322622916294\n",
            "[0.87822307 0.38618883 0.73437477 0.85749108 0.52684888]\n",
            "[0.87822307 0.38618883 0.73437477 0.85749108 0.52684888]\n"
          ]
        }
      ],
      "source": [
        "x = gaussian(A, f)\n",
        "\n",
        "print(A@x)\n",
        "print(f)"
      ]
    },
    {
      "cell_type": "markdown",
      "metadata": {
        "id": "YB-xu26ajVAy"
      },
      "source": [
        "# метод томаса"
      ]
    },
    {
      "cell_type": "markdown",
      "metadata": {
        "id": "1ut-dGMznUGY"
      },
      "source": [
        "# создание матриц"
      ]
    },
    {
      "cell_type": "code",
      "execution_count": 69,
      "metadata": {
        "id": "I3LZ6a4VgG3H"
      },
      "outputs": [],
      "source": [
        "def input_matrix():\n",
        "    a, b = int(input()), int(input())\n",
        "    A = np.zeros((a,b))\n",
        "    for i in range(a):\n",
        "        for j in range(b):\n",
        "            A[i,j] = float(input())\n",
        "\n",
        "    return A"
      ]
    },
    {
      "cell_type": "code",
      "execution_count": 70,
      "metadata": {
        "id": "UokZ7_MYnk0a"
      },
      "outputs": [],
      "source": [
        "def gen_matrix(n,m,a=-1, b=1, dd=None):\n",
        "    A = np.random.rand(n,m)\n",
        "    A *= b-a\n",
        "    A += a\n",
        "\n",
        "    if dd is None:\n",
        "        return A\n",
        "\n",
        "    if n != m:\n",
        "        raise RuntimeError(f'диагональное преобладание возможно только у квадратных матриц')\n",
        "\n",
        "    # генерируем коэффициенты для диагонального преобладания\n",
        "    dd_coefs = [dd * np.random.random() for _ in range(n)]\n",
        "    dd_coefs[np.random.randint(0, n)] = 1 * dd\n",
        "    for i in range(n):\n",
        "        A[i,i] = (sum(abs(A[i])) - abs(A[i,i])) + dd_coefs[i]\n",
        "\n",
        "\n",
        "    return A"
      ]
    },
    {
      "cell_type": "code",
      "execution_count": 71,
      "metadata": {
        "id": "gEcfLIMDOXhy"
      },
      "outputs": [],
      "source": [
        "from pprint import pp"
      ]
    },
    {
      "cell_type": "code",
      "execution_count": 72,
      "metadata": {
        "colab": {
          "base_uri": "https://localhost:8080/"
        },
        "id": "lv7j75-VOQ6E",
        "outputId": "a17170f5-cd8d-4fe9-d698-cc05fa775671"
      },
      "outputs": [
        {
          "name": "stdout",
          "output_type": "stream",
          "text": [
            "array([[ 1.05700156e+01, -8.92616640e-01, -9.45386076e-01,\n",
            "        -3.30569812e-02],\n",
            "       [-6.55904800e-01,  1.22361289e+01,  9.78919880e-01,\n",
            "        -6.01304190e-01],\n",
            "       [-6.13078060e-01,  4.01048899e-02,  6.13395892e+00,\n",
            "        -3.01068310e-01],\n",
            "       [ 1.21672206e-01,  7.78550769e-03,  6.86191380e-01,\n",
            "         5.00117886e+00]])\n"
          ]
        }
      ],
      "source": [
        "pp(gen_matrix(4,4, dd=10))"
      ]
    },
    {
      "cell_type": "markdown",
      "metadata": {
        "id": "vnsw017-p6au"
      },
      "source": [
        "# тестирование"
      ]
    },
    {
      "cell_type": "markdown",
      "metadata": {
        "id": "_EHU1MGNoPMY"
      },
      "source": [
        "## функции тестирования"
      ]
    },
    {
      "cell_type": "code",
      "execution_count": 73,
      "metadata": {
        "id": "UnWzVa16Hj2c"
      },
      "outputs": [],
      "source": [
        "HyperParams = namedtuple('HyperParams', ['diag_dom', 'N'])\n",
        "Test = namedtuple('Test', ['name', 'func'])"
      ]
    },
    {
      "cell_type": "code",
      "execution_count": 79,
      "metadata": {
        "id": "uoBb4HNMmrjy"
      },
      "outputs": [],
      "source": [
        "def run_tests(hyperparams, tests):\n",
        "    '''\n",
        "    вычисляет значения для всех тестов и наборов гиперпараметров\n",
        "    '''\n",
        "\n",
        "    # создаем табличку для результатов\n",
        "    res_df = pd.DataFrame(columns = ['method', 'res', 'N', 'diag_dom', 'x_true', 'time'])\n",
        "\n",
        "    # заполняем табличку\n",
        "    for hp in tqdm(hyperparams, position=0, leave=True):\n",
        "        # создаем тестовые данные\n",
        "        A = gen_matrix(hp.N,hp.N, -1,1, hp.diag_dom)\n",
        "        x = np.random.rand(hp.N)\n",
        "        b = mat_vec_product(A, x)\n",
        "        for test in tests:\n",
        "            # вычисляем и сохраняем\n",
        "            t = time.time()\n",
        "            res_x = test.func(A,b)\n",
        "            t2 = time.time()\n",
        "            res_df.loc[len(res_df)] = [test.name, res_x, hp.N, hp.diag_dom, x, t2-t]\n",
        "\n",
        "    return res_df\n",
        "\n",
        "\n",
        "def process_results(res_df):\n",
        "    res_df['abs_diff'] = (res_df['res'] - res_df['x_true']).map(norm)\n",
        "    res_df = res_df.drop(['res', 'x_true'], axis=1)\n",
        "    return res_df\n",
        "\n",
        "\n",
        "def draw_results(res_df):\n",
        "    methods = res_df.groupby('N')\n",
        "    for N, ngroup in res_df.groupby('N'):\n",
        "        plt.figure()\n",
        "        for name, method_df in ngroup.groupby('method'):\n",
        "            xls = np.arange(len(method_df.diag_dom))\n",
        "            plt.plot(xls, method_df.abs_diff, 'o--', label=name)\n",
        "            plt.xticks(np.arange(len(method_df.diag_dom)), map(lambda x:\"{:3.2f}\".format(x) if isinstance(x, int) else 'none', method_df.diag_dom))\n",
        "        plt.title(f'N = {N}')\n",
        "        plt.legend()\n",
        "        plt.grid()\n",
        "        plt.show()"
      ]
    },
    {
      "cell_type": "code",
      "execution_count": 80,
      "metadata": {
        "id": "uprBXSI5mdGb"
      },
      "outputs": [],
      "source": [
        "def combo(hps, tsts):\n",
        "    res_df = run_tests(hps, tsts)\n",
        "    res_df = process_results(res_df)\n",
        "    print(res_df)\n",
        "    # draw_results(res_df)"
      ]
    },
    {
      "cell_type": "markdown",
      "metadata": {
        "id": "_tEVbdhUHxh-"
      },
      "source": [
        "## определим тесты"
      ]
    },
    {
      "cell_type": "code",
      "execution_count": 85,
      "metadata": {
        "id": "ry3Lr5-pl0p7"
      },
      "outputs": [],
      "source": [
        "HP_LIST_BIG = []\n",
        "for N in [100]:\n",
        "    for dd in [150]:\n",
        "        HP_LIST_BIG.append(HyperParams(dd,N))\n",
        "\n",
        "HP_LIST_SMALL = []\n",
        "for N in [100]:\n",
        "    for dd in [-25, -10, 0, 5, 10]:\n",
        "        HP_LIST_SMALL.append(HyperParams(dd,N))\n",
        "\n",
        "TESTS = [\n",
        "    Test('normal', lambda x,y: gaussian(x,y, NORMAL)),\n",
        "    Test('swap_rows', lambda x,y: gaussian(x,y, SWAP_ROWS)),\n",
        "    Test('swap_cols', lambda x,y: gaussian(x,y, SWAP_COLS)),\n",
        "    Test('swap_all', lambda x,y: gaussian(x,y, SWAP_ALL)),\n",
        "]"
      ]
    },
    {
      "cell_type": "markdown",
      "metadata": {
        "id": "w-Jms4roH0s8"
      },
      "source": [
        "## запускаем тесты"
      ]
    },
    {
      "cell_type": "code",
      "execution_count": 86,
      "metadata": {
        "colab": {
          "base_uri": "https://localhost:8080/",
          "height": 1000
        },
        "id": "a_zTur4ZqorE",
        "outputId": "7c7c5147-73cf-490c-f9a2-49b0c8829635"
      },
      "outputs": [
        {
          "name": "stderr",
          "output_type": "stream",
          "text": [
            "100%|██████████| 1/1 [00:00<00:00,  2.14it/s]"
          ]
        },
        {
          "name": "stdout",
          "output_type": "stream",
          "text": [
            "      method    N  diag_dom      time      abs_diff\n",
            "0     normal  100       150  0.040716  3.666567e-15\n",
            "1  swap_rows  100       150  0.057816  3.666567e-15\n",
            "2  swap_cols  100       150  0.072892  3.666567e-15\n",
            "3   swap_all  100       150  0.274651  3.810604e-15\n"
          ]
        },
        {
          "name": "stderr",
          "output_type": "stream",
          "text": [
            "\n"
          ]
        }
      ],
      "source": [
        "combo(HP_LIST_BIG, TESTS)"
      ]
    },
    {
      "cell_type": "code",
      "execution_count": null,
      "metadata": {
        "id": "dXe4n88RzQnM"
      },
      "outputs": [],
      "source": []
    }
  ],
  "metadata": {
    "colab": {
      "collapsed_sections": [
        "1ut-dGMznUGY",
        "PP6sme4qnuHe"
      ],
      "provenance": []
    },
    "kernelspec": {
      "display_name": "Python 3",
      "name": "python3"
    },
    "language_info": {
      "codemirror_mode": {
        "name": "ipython",
        "version": 3
      },
      "file_extension": ".py",
      "mimetype": "text/x-python",
      "name": "python",
      "nbconvert_exporter": "python",
      "pygments_lexer": "ipython3",
      "version": "3.11.6"
    }
  },
  "nbformat": 4,
  "nbformat_minor": 0
}
