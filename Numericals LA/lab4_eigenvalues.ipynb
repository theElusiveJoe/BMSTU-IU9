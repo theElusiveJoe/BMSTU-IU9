{
 "cells": [
  {
   "cell_type": "code",
   "execution_count": 1,
   "metadata": {},
   "outputs": [],
   "source": [
    "import numpy as np\n",
    "import pandas as pd\n",
    "from copy import deepcopy as dc"
   ]
  },
  {
   "attachments": {},
   "cell_type": "markdown",
   "metadata": {},
   "source": [
    "#### приведение к нормальной форме Фробениуса"
   ]
  },
  {
   "cell_type": "code",
   "execution_count": 2,
   "metadata": {},
   "outputs": [],
   "source": [
    "def to_frob_nf(A, log=False):\n",
    "    A = dc(A)\n",
    "    N = len(A)\n",
    "    Bs = np.eye(N)\n",
    "    for k in range(N-1, 0, -1):\n",
    "        B, Bi = np.eye(N), np.eye(N)\n",
    "        B[k-1] = -A[k]/A[k,k-1]\n",
    "        B[k-1,k-1] = 1/A[k, k-1]\n",
    "        Bi[k-1] = A[k]\n",
    "        A = Bi @ A @ B\n",
    "        Bs = Bs @ B\n",
    "        if log:\n",
    "            print('-'*30)\n",
    "            print('B')\n",
    "            print(B)\n",
    "            print('Bi')\n",
    "            print(Bi)\n",
    "            print('new A')\n",
    "            print(A)\n",
    "\n",
    "    return A, Bs"
   ]
  },
  {
   "attachments": {},
   "cell_type": "markdown",
   "metadata": {},
   "source": [
    "#### применение теоремы Гершгольма"
   ]
  },
  {
   "cell_type": "code",
   "execution_count": 3,
   "metadata": {},
   "outputs": [],
   "source": [
    "def check_gersh(A):\n",
    "    assert not (A - A.T).any()\n",
    "    print('Проверка на симметричность пройдена')"
   ]
  },
  {
   "cell_type": "code",
   "execution_count": 4,
   "metadata": {},
   "outputs": [],
   "source": [
    "class Interval:\n",
    "    a: float\n",
    "    b: float\n",
    "    i: int\n",
    "\n",
    "    def __init__(self, a, b, i) -> None:\n",
    "        self.a, self.b ,self.i = a, b, i\n",
    "\n",
    "    def __repr__(self):\n",
    "        return f'({self.a}<-{self.i}->{self.b})'\n",
    "\n",
    "    def len(self):\n",
    "        return self.b - self.a\n",
    "    \n",
    "    def __add__(self, o):\n",
    "        return Interval(\n",
    "            min(self.a, o.a),\n",
    "            max(self.b, o.b), \n",
    "            self.i + o.i)\n",
    "\n",
    "    def __hash__(self) -> int:\n",
    "        return self.i\n",
    "\n",
    "    def inter(self, o):\n",
    "        return self.a <= o.a <= self.b or o.a <= self.a <= o.b \n",
    "    \n",
    "    @staticmethod\n",
    "    def from_row(row, i):\n",
    "        c = row[i]\n",
    "        r = abs(row).sum() - abs(row[i])\n",
    "        return Interval(c-r, c+r, 1)\n",
    "    \n",
    "    def __eq__(self, o) -> bool:\n",
    "        return self.a == o.a and self.b == o.b and self.i == o.i\n"
   ]
  },
  {
   "cell_type": "code",
   "execution_count": 6,
   "metadata": {},
   "outputs": [],
   "source": [
    "def find_gersh(A):\n",
    "    N = len(A)\n",
    "    intervals = set(Interval.from_row(A[i], i) for i in range(N))\n",
    "\n",
    "    while True:\n",
    "        to_remove = set()\n",
    "        to_add = set()\n",
    "        for x in intervals:\n",
    "            for y in intervals - {x}:\n",
    "                if x.inter(y):\n",
    "                    to_remove |= {x,y}\n",
    "                    to_add |= {x+y}\n",
    "                    break\n",
    "            else:\n",
    "                continue\n",
    "            break\n",
    "\n",
    "        if to_remove == to_add == set():\n",
    "            break\n",
    "\n",
    "        intervals -= to_remove\n",
    "        intervals |= to_add\n",
    "\n",
    "    return intervals"
   ]
  },
  {
   "attachments": {},
   "cell_type": "markdown",
   "metadata": {},
   "source": [
    "#### построение полиномиальной функции"
   ]
  },
  {
   "cell_type": "code",
   "execution_count": 7,
   "metadata": {},
   "outputs": [],
   "source": [
    "class Poly:\n",
    "    def __init__(self, coefs) -> None:\n",
    "        self.coefs = coefs[::-1]\n",
    "\n",
    "    def __call__(self, x) -> float:\n",
    "        return sum([ x**i * c for i, c in enumerate(self.coefs)])"
   ]
  },
  {
   "attachments": {},
   "cell_type": "markdown",
   "metadata": {},
   "source": [
    "#### поиск нулей функции на интервале"
   ]
  },
  {
   "cell_type": "code",
   "execution_count": 8,
   "metadata": {},
   "outputs": [],
   "source": [
    "def lin_search(p, a, b, delta = 0.05):\n",
    "    linsp = np.arange(a, b+delta, delta)\n",
    "    search_here = []\n",
    "    for ai, bi in zip(linsp, linsp[1:]):\n",
    "        if p(ai) * p(bi) < 0:\n",
    "            search_here.append((ai, bi))\n",
    "\n",
    "    return search_here\n",
    "\n",
    "def binary_search(p, a, b, delta = 0.001):\n",
    "    c = (a+b)/2\n",
    "    if b-a < delta:\n",
    "        return c\n",
    "    if p(c) == 0:\n",
    "        return c\n",
    "    try:\n",
    "        if p(a)*p(c) < 0:\n",
    "            return binary_search(p, a, c, delta)\n",
    "        return binary_search(p, c, b, delta)\n",
    "    except RecursionError:\n",
    "        return c"
   ]
  },
  {
   "attachments": {},
   "cell_type": "markdown",
   "metadata": {},
   "source": [
    "#### метод Крылова"
   ]
  },
  {
   "cell_type": "code",
   "execution_count": 9,
   "metadata": {},
   "outputs": [],
   "source": [
    "def krylov_find_ps(A):\n",
    "    N = len(A)\n",
    "\n",
    "    # генерируем y_k - е\n",
    "    y0 = np.zeros(N)\n",
    "    y0[0] = 1\n",
    "    Yks = [y0]\n",
    "    # Yks = [np.random.rand(N)]\n",
    "    for _ in range(N-1):\n",
    "        Yks.append(A@Yks[-1])\n",
    "\n",
    "    # составляем СЛАУ для нахождения p_i\n",
    "    b = A@Yks[-1]\n",
    "    Ymat = np.array(dc(Yks[::-1])).T\n",
    "    \n",
    "    # находим p_i\n",
    "    ps = np.linalg.solve(Ymat, b)\n",
    "    return ps, np.array(Yks[::-1])"
   ]
  },
  {
   "cell_type": "code",
   "execution_count": 10,
   "metadata": {},
   "outputs": [],
   "source": [
    "def krylov_eigenvecs(A, Yks, ps, lambdas):\n",
    "    N = len(A)\n",
    "\n",
    "    # составляем матрицу кожффициентов многочленов Q_i\n",
    "    Q = np.empty((N,N))\n",
    "    for i in range(N):\n",
    "        for j in range(N):\n",
    "            Q[j,i] = 1 if j == 0 else (lambdas[i]*Q[j-1,i] + ps[j-1])\n",
    "\n",
    "    eigenvecs = []\n",
    "    for i in range(N):\n",
    "        x = np.zeros(N)\n",
    "        for j in range(N):\n",
    "            x += Q[j,i]*Yks[j]\n",
    "        eigenvecs.append(x/np.linalg.norm(x))\n",
    "    \n",
    "    return eigenvecs\n"
   ]
  },
  {
   "attachments": {},
   "cell_type": "markdown",
   "metadata": {},
   "source": [
    "#### проверки результатов"
   ]
  },
  {
   "cell_type": "code",
   "execution_count": 11,
   "metadata": {},
   "outputs": [],
   "source": [
    "def find_eigenvector(B, alpha):\n",
    "    vec = np.array([alpha**i for i in range(len(B))][::-1])\n",
    "    eigv = B.dot(vec)\n",
    "    return eigv / np.linalg.norm(eigv)\n",
    "\n",
    "def check_orthogonality(vecs):\n",
    "    A = np.array([[v1@v2 for v2 in vecs] for v1 in vecs])\n",
    "    print('ОРТОГОНАЛЬНОСТЬ:')\n",
    "    print(A)\n",
    "\n",
    "def check_eigenvalues(A, eigenvalues):\n",
    "    print('|tr(A) - sum(eigenvalues)| =', abs(sum(eigenvalues) - np.trace(A)))"
   ]
  },
  {
   "attachments": {},
   "cell_type": "markdown",
   "metadata": {},
   "source": [
    "#### все вместе"
   ]
  },
  {
   "cell_type": "code",
   "execution_count": 12,
   "metadata": {},
   "outputs": [],
   "source": [
    "DANYLEVSKY = 1\n",
    "KRYLOV = 2"
   ]
  },
  {
   "cell_type": "code",
   "execution_count": 13,
   "metadata": {},
   "outputs": [],
   "source": [
    "def main(TestMat, method=DANYLEVSKY):\n",
    "    print(f'method: {method}')\n",
    "    # проверяем симметричность\n",
    "    check_gersh(TestMat)\n",
    "\n",
    "    # ищемм коэффициенты характерристического многочлена\n",
    "    if method == DANYLEVSKY:\n",
    "        P, B = to_frob_nf(TestMat)\n",
    "        P = P[0]\n",
    "    elif method == KRYLOV:\n",
    "        P, Yks = krylov_find_ps(TestMat)\n",
    "    else: \n",
    "        raise RuntimeError(f'unknown method {method}')\n",
    "\n",
    "    # строим хар. мн-н\n",
    "    p = Poly([1] + list(-P))\n",
    "    print(p.coefs)\n",
    "\n",
    "    # ищем интервалы Гершгорина\n",
    "    intervals = find_gersh(TestMat)\n",
    "\n",
    "    # ищем нули полинома\n",
    "    eigenvalues = []\n",
    "    for inter in intervals:\n",
    "        eigenvalues += [binary_search(p, *sh) for sh in lin_search(p, inter.a, inter.b)]\n",
    "\n",
    "\n",
    "    print('СОБСТВЕННЫЕ ЗНАЧЕНИЯ:\\n', eigenvalues)\n",
    "    print()\n",
    "    check_eigenvalues(TestMat, eigenvalues)\n",
    "    print()\n",
    "\n",
    "    if method == DANYLEVSKY:\n",
    "        eigenvectors = np.array([find_eigenvector(B, alpha) for alpha in eigenvalues ])\n",
    "    elif method == KRYLOV:\n",
    "        eigenvectors = np.array(krylov_eigenvecs(TestMat, Yks, -P, eigenvalues))\n",
    "    \n",
    "    \n",
    "    print('СОБСТВЕННЫЕ ВЕКТОРЫ:\\n', eigenvectors)\n",
    "    check_orthogonality(eigenvectors)\n",
    "\n",
    "    return eigenvalues"
   ]
  },
  {
   "attachments": {},
   "cell_type": "markdown",
   "metadata": {},
   "source": [
    "### Тестирование"
   ]
  },
  {
   "cell_type": "code",
   "execution_count": 14,
   "metadata": {},
   "outputs": [],
   "source": [
    "TestMat = np.array([2.2, 1, 0.5, 2, 1, 1.3, 2, 1, 0.5, 2, 0.5, 1.6, 2, 1, 1.6, 2]).reshape((4,4))"
   ]
  },
  {
   "cell_type": "code",
   "execution_count": 17,
   "metadata": {},
   "outputs": [
    {
     "name": "stdout",
     "output_type": "stream",
     "text": [
      "method: 1\n",
      "Проверка на симметричность пройдена\n",
      "[-2.7616000000000085, 12.735000000000014, -0.20000000000000284, -6.000000000000001, 1]\n",
      "СОБСТВЕННЫЕ ЗНАЧЕНИЯ:\n",
      " [-1.419921875000007, 0.22226562499998678, 1.545703124999982, 5.651953124999968]\n",
      "\n",
      "|tr(A) - sum(eigenvalues)| = 7.016609515630989e-14\n",
      "\n",
      "СОБСТВЕННЫЕ ВЕКТОРЫ:\n",
      " [[-0.22223691  0.51596093 -0.75715654  0.33333023]\n",
      " [-0.52240375 -0.45437229  0.15367346  0.70499973]\n",
      " [ 0.62896892 -0.57252084 -0.48568631  0.20180878]\n",
      " [ 0.53214978  0.44599829  0.40845218  0.59251071]]\n",
      "ОРТОГОНАЛЬНОСТЬ:\n",
      "[[ 1.00000000e+00  3.01909159e-04 -1.68954764e-04  9.38629489e-05]\n",
      " [ 3.01909159e-04  1.00000000e+00 -8.00077296e-04 -1.58154035e-04]\n",
      " [-1.68954764e-04 -8.00077296e-04  1.00000000e+00  5.56586533e-04]\n",
      " [ 9.38629489e-05 -1.58154035e-04  5.56586533e-04  1.00000000e+00]]\n"
     ]
    },
    {
     "data": {
      "text/plain": [
       "[-1.419921875000007, 0.22226562499998678, 1.545703124999982, 5.651953124999968]"
      ]
     },
     "execution_count": 17,
     "metadata": {},
     "output_type": "execute_result"
    }
   ],
   "source": [
    "main(TestMat, method=DANYLEVSKY)"
   ]
  },
  {
   "attachments": {},
   "cell_type": "markdown",
   "metadata": {},
   "source": [
    "##### произвольной размерности"
   ]
  },
  {
   "cell_type": "code",
   "execution_count": 19,
   "metadata": {},
   "outputs": [
    {
     "name": "stdout",
     "output_type": "stream",
     "text": [
      "method: 1\n",
      "Проверка на симметричность пройдена\n",
      "[5.771302755360793, -36.510673115142595, 33.38900960339625, 105.96874301626735, -116.89820231567161, -112.51970374353232, 96.54109668878169, 55.68996077540049, -21.772270584104305, -8.530691325656404, 1]\n",
      "СОБСТВЕННЫЕ ЗНАЧЕНИЯ:\n",
      " [-2.07181546175652, -1.7265029617565149, -1.243690461756508, -0.8413467117565024, 0.23443453824351287, 0.4758407882435163, 0.7563095382435203, 0.9274032882435227, 1.9586532882435375, 10.061778288243653]\n",
      "\n",
      "|tr(A) - sum(eigenvalues)| = 0.00037280677874207413\n",
      "\n",
      "СОБСТВЕННЫЕ ВЕКТОРЫ:\n",
      " [[-1.02236469e-01 -8.24840342e-02  4.77043316e-01 -3.06719684e-01\n",
      "  -2.64143329e-01 -4.00127670e-01  2.27954725e-01 -2.29599124e-01\n",
      "   5.30210709e-01  2.13120713e-01]\n",
      " [-1.58118531e-02 -6.51175117e-01  6.49743311e-02  4.69704180e-01\n",
      "   2.76045090e-01  6.58608795e-02 -2.39993530e-01 -3.76383082e-01\n",
      "   2.64266419e-01  3.52259096e-02]\n",
      " [ 9.12988390e-02  3.20559181e-01 -6.02541519e-01  3.33979482e-01\n",
      "  -3.17001597e-01 -3.11356730e-02  2.15746214e-01 -4.10080233e-01\n",
      "   2.85524915e-01  1.28886038e-01]\n",
      " [ 7.75181321e-02  1.18352191e-01  3.56655783e-02  2.55845268e-01\n",
      "   3.36169318e-01 -7.69322600e-01  1.11789633e-01 -1.14485416e-01\n",
      "  -4.05517947e-01  1.35422130e-01]\n",
      " [ 6.63241873e-01 -5.26362241e-02 -2.06491211e-01 -5.32275329e-01\n",
      "   3.09760508e-01  3.97125064e-02 -1.54794916e-01 -2.60003036e-01\n",
      "   3.57762051e-02  2.02515095e-01]\n",
      " [ 3.37047241e-01 -4.44858668e-01  1.13282835e-01  6.75139486e-02\n",
      "  -4.00793576e-01  1.43300477e-01  5.53675360e-01 -3.68616144e-02\n",
      "  -4.08402248e-01  1.23412692e-01]\n",
      " [-1.33940369e-01 -3.29001683e-01 -3.99377319e-01 -5.57799919e-02\n",
      "  -1.40091375e-01 -2.09657704e-01 -1.78941064e-01  5.24348218e-01\n",
      "   8.46210384e-02  5.77495105e-01]\n",
      " [ 7.14490218e-02  2.57409677e-01  3.41371012e-01  1.59384014e-01\n",
      "  -3.55714172e-01  1.40355489e-01 -5.49381580e-01 -2.26307403e-01\n",
      "  -2.75097535e-01  4.60164986e-01]\n",
      " [-5.57607970e-01  4.77182902e-02 -7.53699683e-02 -2.29453929e-01\n",
      "   3.58963117e-01  2.99153460e-01  2.83010434e-01 -3.17193878e-01\n",
      "  -1.96926911e-01  4.36614471e-01]\n",
      " [ 1.53062003e-01 -3.78420592e-01  3.13834638e-01  2.76817782e-01\n",
      "  -4.00068265e-01  1.21767813e-01  5.13896100e-01 -8.65838775e-02\n",
      "  -4.60197373e-01  7.46796017e-05]]\n",
      "ОРТОГОНАЛЬНОСТЬ:\n",
      "[[ 1.00000000e+00  2.23217451e-02 -7.26838663e-03  5.50430542e-03\n",
      "  -9.88370889e-03  2.85355083e-02 -4.92363521e-03  2.16195619e-03\n",
      "  -1.04228751e-03  3.03640512e-02]\n",
      " [ 2.23217451e-02  1.00000000e+00  5.45044404e-04  1.92035763e-04\n",
      "   8.18594130e-05 -3.59680045e-04  2.05963771e-05 -1.17049456e-04\n",
      "  -1.33150645e-03  7.96392864e-02]\n",
      " [-7.26838663e-03  5.45044404e-04  1.00000000e+00 -9.04618208e-04\n",
      "   4.41680244e-04 -1.08366193e-03  2.17731064e-04  9.76612758e-06\n",
      "   1.24131935e-03 -6.59585117e-02]\n",
      " [ 5.50430542e-03  1.92035763e-04 -9.04618208e-04  1.00000000e+00\n",
      "   5.98377359e-04 -1.74556862e-03  2.20328593e-04 -2.35164083e-04\n",
      "  -1.50674750e-03  7.49136357e-02]\n",
      " [-9.88370889e-03  8.18594130e-05  4.41680244e-04  5.98377359e-04\n",
      "   1.00000000e+00  3.43225524e-03  2.65890507e-04  1.13078015e-03\n",
      "   8.46648666e-03 -2.83286678e-01]\n",
      " [ 2.85355083e-02 -3.59680045e-04 -1.08366193e-03 -1.74556862e-03\n",
      "   3.43225524e-03  1.00000000e+00 -3.38260633e-03 -5.01248292e-03\n",
      "  -3.15015223e-02  9.27646210e-01]\n",
      " [-4.92363521e-03  2.05963771e-05  2.17731064e-04  2.20328593e-04\n",
      "   2.65890507e-04 -3.38260633e-03  1.00000000e+00  3.02850322e-03\n",
      "   7.39567590e-03 -1.82519415e-01]\n",
      " [ 2.16195619e-03 -1.17049456e-04  9.76612758e-06 -2.35164083e-04\n",
      "   1.13078015e-03 -5.01248292e-03  3.02850322e-03  1.00000000e+00\n",
      "  -4.16684012e-03  8.80851670e-02]\n",
      " [-1.04228751e-03 -1.33150645e-03  1.24131935e-03 -1.50674750e-03\n",
      "   8.46648666e-03 -3.15015223e-02  7.39567590e-03 -4.16684012e-03\n",
      "   1.00000000e+00 -3.41996119e-02]\n",
      " [ 3.03640512e-02  7.96392864e-02 -6.59585117e-02  7.49136357e-02\n",
      "  -2.83286678e-01  9.27646210e-01 -1.82519415e-01  8.80851670e-02\n",
      "  -3.41996119e-02  1.00000000e+00]]\n"
     ]
    },
    {
     "data": {
      "text/plain": [
       "[-2.07181546175652,\n",
       " -1.7265029617565149,\n",
       " -1.243690461756508,\n",
       " -0.8413467117565024,\n",
       " 0.23443453824351287,\n",
       " 0.4758407882435163,\n",
       " 0.7563095382435203,\n",
       " 0.9274032882435227,\n",
       " 1.9586532882435375,\n",
       " 10.061778288243653]"
      ]
     },
     "execution_count": 19,
     "metadata": {},
     "output_type": "execute_result"
    }
   ],
   "source": [
    "random_mat = np.random.rand(10,10)\n",
    "random_mat += random_mat.T\n",
    "random_mat\n",
    "main(random_mat, method=DANYLEVSKY)"
   ]
  },
  {
   "cell_type": "code",
   "execution_count": null,
   "metadata": {},
   "outputs": [],
   "source": []
  }
 ],
 "metadata": {
  "kernelspec": {
   "display_name": "Python 3",
   "language": "python",
   "name": "python3"
  },
  "language_info": {
   "codemirror_mode": {
    "name": "ipython",
    "version": 3
   },
   "file_extension": ".py",
   "mimetype": "text/x-python",
   "name": "python",
   "nbconvert_exporter": "python",
   "pygments_lexer": "ipython3",
   "version": "3.11.4"
  },
  "orig_nbformat": 4
 },
 "nbformat": 4,
 "nbformat_minor": 2
}
