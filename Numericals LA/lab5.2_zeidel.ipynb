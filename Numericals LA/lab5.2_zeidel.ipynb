{
 "cells": [
  {
   "cell_type": "code",
   "execution_count": 16,
   "metadata": {},
   "outputs": [],
   "source": [
    "import numpy as np\n",
    "import pandas as pd\n",
    "import matplotlib.pyplot as plt\n",
    "from tqdm import tqdm\n",
    "\n",
    "from copy import deepcopy as dc\n",
    "from collections import namedtuple\n",
    "\n",
    "import gauss\n",
    "from basic_ops import *"
   ]
  },
  {
   "cell_type": "code",
   "execution_count": 17,
   "metadata": {},
   "outputs": [],
   "source": [
    "def vec_norm(x):\n",
    "    return max(abs(x))\n",
    "\n",
    "def mat_norm(x):\n",
    "    return max(\n",
    "        (sum(abs(row))-abs(row[i]))/abs(row[i]) \n",
    "        for i, row in enumerate(x)\n",
    "    )"
   ]
  },
  {
   "cell_type": "code",
   "execution_count": 18,
   "metadata": {},
   "outputs": [],
   "source": [
    "def jacobi(A, f, eps=0.05):\n",
    "    N = len(A)\n",
    "    A, f = dc(A), dc(f)\n",
    "\n",
    "    D = np.diag(np.diag(A))\n",
    "    Dm = np.diag(1/np.diag(A))\n",
    "    LU = A - D\n",
    "\n",
    "    x = np.array([A[i,i] * f[i] for i in range(N)])\n",
    "    diff = np.ones(N)*9999\n",
    "    i = 0\n",
    "    while vec_norm(diff) > eps:\n",
    "        i+=1\n",
    "        x_new = Dm @ (f - LU@x)\n",
    "        diff = abs(x_new - x)\n",
    "        x = x_new\n",
    "    print(f'ITERS: {i}')\n",
    "    return x_new"
   ]
  },
  {
   "cell_type": "code",
   "execution_count": 19,
   "metadata": {},
   "outputs": [],
   "source": [
    "def zeidel(A, f, eps=0.05):\n",
    "    N = len(A)\n",
    "    A, f = dc(A), dc(f)\n",
    "\n",
    "    x = np.random.random(N)\n",
    "    diff = np.ones(N)*9999\n",
    "    c = 0\n",
    "    while vec_norm(diff) > eps:\n",
    "        c+=1\n",
    "        x_new = np.empty(N)\n",
    "        \n",
    "        for i in range(N):\n",
    "            s1 = sum(A[i][j] * x_new[j] for j in range(i))\n",
    "            s2 = sum(A[i][j] * x[j] for j in range(i+1, N))\n",
    "            x_new[i] = (f[i] - s1 - s2) / A[i,i]\n",
    "\n",
    "        diff = abs(x_new - x)\n",
    "        x = x_new\n",
    "        \n",
    "    print(f'ITERS: {c}')\n",
    "    return x_new"
   ]
  },
  {
   "cell_type": "code",
   "execution_count": 20,
   "metadata": {},
   "outputs": [
    {
     "name": "stdout",
     "output_type": "stream",
     "text": [
      "size: 5, dd: 100\n",
      "    jacobi ITERS: 7\n",
      "    zeidel ITERS: 4\n",
      "size: 10, dd: 100\n",
      "    jacobi ITERS: 9\n",
      "    zeidel ITERS: 4\n",
      "size: 100, dd: 100\n",
      "    jacobi ITERS: 31\n",
      "    zeidel ITERS: 4\n",
      "size: 200, dd: 100\n",
      "    jacobi ITERS: 52\n",
      "    zeidel ITERS: 5\n"
     ]
    }
   ],
   "source": [
    "for N in [5,10,100,200]:\n",
    "    for dd in [100]:\n",
    "        A = gen_matrix(N,N, dd=100)\n",
    "        x = np.random.rand(N)\n",
    "        b = mat_vec_product(A, x)\n",
    "\n",
    "        print(f'size: {N}, dd: {dd}')\n",
    "        print('    jacobi', end = ' ')\n",
    "        jacobi(A, b, 0.0005)\n",
    "        print('    zeidel', end = ' ')\n",
    "        zeidel(A, b, 0.0005)\n",
    "    "
   ]
  },
  {
   "cell_type": "code",
   "execution_count": null,
   "metadata": {},
   "outputs": [],
   "source": []
  },
  {
   "cell_type": "code",
   "execution_count": null,
   "metadata": {},
   "outputs": [],
   "source": []
  }
 ],
 "metadata": {
  "kernelspec": {
   "display_name": "Python 3",
   "language": "python",
   "name": "python3"
  },
  "language_info": {
   "codemirror_mode": {
    "name": "ipython",
    "version": 3
   },
   "file_extension": ".py",
   "mimetype": "text/x-python",
   "name": "python",
   "nbconvert_exporter": "python",
   "pygments_lexer": "ipython3",
   "version": "3.11.4"
  },
  "orig_nbformat": 4
 },
 "nbformat": 4,
 "nbformat_minor": 2
}
