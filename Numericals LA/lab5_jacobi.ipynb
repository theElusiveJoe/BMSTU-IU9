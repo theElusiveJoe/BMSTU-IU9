{
 "cells": [
  {
   "cell_type": "code",
   "execution_count": 21,
   "metadata": {},
   "outputs": [],
   "source": [
    "import numpy as np\n",
    "import pandas as pd\n",
    "import matplotlib.pyplot as plt\n",
    "from tqdm import tqdm\n",
    "\n",
    "from copy import deepcopy as dc\n",
    "from collections import namedtuple\n",
    "\n",
    "import gauss"
   ]
  },
  {
   "cell_type": "code",
   "execution_count": 22,
   "metadata": {},
   "outputs": [],
   "source": [
    "def vec_norm(x):\n",
    "    return max(abs(x))\n",
    "\n",
    "def mat_norm(x):\n",
    "    return max(\n",
    "        (sum(abs(row))-abs(row[i]))/abs(row[i]) \n",
    "        for i, row in enumerate(x)\n",
    "    )"
   ]
  },
  {
   "cell_type": "code",
   "execution_count": 23,
   "metadata": {},
   "outputs": [],
   "source": [
    "def gen_matrix(n,m,dd=None):\n",
    "    A = np.random.rand(n,m)\n",
    "\n",
    "    if dd is None:\n",
    "        return A\n",
    "\n",
    "    if n != m:\n",
    "        raise RuntimeError(f'диагональное преобладание возможно только у квадратных матриц')\n",
    "\n",
    "    # генерируем коэффициенты для диагонального преобладания\n",
    "    dd_coefs = [dd * np.random.random() for _ in range(n)]\n",
    "    dd_coefs[np.random.randint(0, n)] = 1 * dd\n",
    "    for i in range(n):\n",
    "        A[i,i] = (sum(abs(A[i])) - abs(A[i,i])) + dd_coefs[i]\n",
    "\n",
    "    return A\n",
    "\n"
   ]
  },
  {
   "cell_type": "code",
   "execution_count": 24,
   "metadata": {},
   "outputs": [],
   "source": [
    "def jacobi(A, f, eps=0.05):\n",
    "    N = len(A)\n",
    "    D = np.diag(np.diag(A))\n",
    "    Dm = np.diag(1/np.diag(A))\n",
    "    LU = A - D\n",
    "\n",
    "    x = np.array([A[i,i] * f[i] for i in range(N)])\n",
    "    diff = np.ones(N)*9999\n",
    "    i = 0\n",
    "    while vec_norm(diff) > eps:\n",
    "        i+=1\n",
    "        x_new = Dm @ (f - LU@x)\n",
    "\n",
    "        diff = abs(x_new - x)\n",
    "        x = x_new\n",
    "    print(f'ITERS: {i}, EPS = {eps}')\n",
    "    return x_new"
   ]
  },
  {
   "cell_type": "code",
   "execution_count": 25,
   "metadata": {},
   "outputs": [
    {
     "name": "stdout",
     "output_type": "stream",
     "text": [
      "ITERS: 161, EPS = 1e-05\n",
      "diff: 0.00013679618355280876\n",
      "0.9987879289574051 <= q < 1\n"
     ]
    }
   ],
   "source": [
    "TestMat = gen_matrix(10, 10, dd=1)\n",
    "\n",
    "f = np.random.rand(10)\n",
    "x = jacobi(TestMat, f, eps=0.00001)\n",
    "print('diff:', norm(TestMat@x - f))\n",
    "\n",
    "print(f'{mat_norm(TestMat)} <= q < 1')"
   ]
  },
  {
   "cell_type": "code",
   "execution_count": 26,
   "metadata": {},
   "outputs": [],
   "source": [
    "HyperParams = namedtuple('HyperParams', ['diag_dom', 'N'])\n",
    "Test = namedtuple('Test', ['name', 'func'])\n",
    "\n",
    "def run_tests(hyperparams, tests):\n",
    "    '''\n",
    "    вычисляет значения для всех тестов и наборов гиперпараметров\n",
    "    '''\n",
    "\n",
    "    # создаем табличку для результатов\n",
    "    res_df = pd.DataFrame(columns = ['method', 'res', 'N', 'diag_dom', 'x_true'])\n",
    "\n",
    "    # заполняем табличку\n",
    "    for hp in tqdm(hyperparams, position=0, leave=True):\n",
    "        # создаем тестовые данные\n",
    "        print('generated')\n",
    "        A = gen_matrix(hp.N,hp.N,hp.diag_dom)\n",
    "        x = np.random.rand(hp.N)\n",
    "        b = A@x\n",
    "        for test in tests:\n",
    "            # вычисляем и сохраняем\n",
    "            res_x = test.func(A,b)\n",
    "            res_df.loc[len(res_df)] = [test.name, res_x, hp.N, hp.diag_dom, x]\n",
    "\n",
    "    return res_df\n",
    "\n",
    "def process_results(res_df):\n",
    "    res_df['abs_diff'] = (res_df['res'] - res_df['x_true']).map(vec_norm)\n",
    "    res_df = res_df.drop(['res', 'x_true'], axis=1)\n",
    "    return res_df\n",
    "\n",
    "def combo(hps, tsts):\n",
    "    res_df = run_tests(hps, tsts)\n",
    "    res_df = process_results(res_df)\n",
    "    return res_df"
   ]
  },
  {
   "cell_type": "code",
   "execution_count": 27,
   "metadata": {},
   "outputs": [],
   "source": [
    "HP_LIST = []\n",
    "for N in [100]:\n",
    "    for dd in [10, 100]:\n",
    "        HP_LIST.append(HyperParams(dd,N))\n",
    "\n",
    "TESTS = [\n",
    "    Test('normal', lambda x,y: gauss.gaussian(x,y, gauss.NORMAL)),\n",
    "    Test('jacobi', lambda x,y: jacobi(x,y)),\n",
    "]"
   ]
  },
  {
   "cell_type": "code",
   "execution_count": 30,
   "metadata": {},
   "outputs": [
    {
     "name": "stderr",
     "output_type": "stream",
     "text": [
      "  0%|          | 0/2 [00:00<?, ?it/s]"
     ]
    },
    {
     "name": "stdout",
     "output_type": "stream",
     "text": [
      "generated\n"
     ]
    },
    {
     "name": "stderr",
     "output_type": "stream",
     "text": [
      "100%|██████████| 2/2 [00:00<00:00,  3.74it/s]"
     ]
    },
    {
     "name": "stdout",
     "output_type": "stream",
     "text": [
      "ITERS: 132, EPS = 0.05\n",
      "generated\n",
      "ITERS: 22, EPS = 0.05\n"
     ]
    },
    {
     "name": "stderr",
     "output_type": "stream",
     "text": [
      "\n"
     ]
    },
    {
     "data": {
      "text/html": [
       "<div>\n",
       "<style scoped>\n",
       "    .dataframe tbody tr th:only-of-type {\n",
       "        vertical-align: middle;\n",
       "    }\n",
       "\n",
       "    .dataframe tbody tr th {\n",
       "        vertical-align: top;\n",
       "    }\n",
       "\n",
       "    .dataframe thead th {\n",
       "        text-align: right;\n",
       "    }\n",
       "</style>\n",
       "<table border=\"1\" class=\"dataframe\">\n",
       "  <thead>\n",
       "    <tr style=\"text-align: right;\">\n",
       "      <th></th>\n",
       "      <th>method</th>\n",
       "      <th>N</th>\n",
       "      <th>diag_dom</th>\n",
       "      <th>abs_diff</th>\n",
       "    </tr>\n",
       "  </thead>\n",
       "  <tbody>\n",
       "    <tr>\n",
       "      <th>0</th>\n",
       "      <td>normal</td>\n",
       "      <td>100</td>\n",
       "      <td>10</td>\n",
       "      <td>1.665335e-15</td>\n",
       "    </tr>\n",
       "    <tr>\n",
       "      <th>1</th>\n",
       "      <td>jacobi</td>\n",
       "      <td>100</td>\n",
       "      <td>10</td>\n",
       "      <td>2.265597e-02</td>\n",
       "    </tr>\n",
       "    <tr>\n",
       "      <th>2</th>\n",
       "      <td>normal</td>\n",
       "      <td>100</td>\n",
       "      <td>100</td>\n",
       "      <td>1.221245e-15</td>\n",
       "    </tr>\n",
       "    <tr>\n",
       "      <th>3</th>\n",
       "      <td>jacobi</td>\n",
       "      <td>100</td>\n",
       "      <td>100</td>\n",
       "      <td>9.092238e-03</td>\n",
       "    </tr>\n",
       "  </tbody>\n",
       "</table>\n",
       "</div>"
      ],
      "text/plain": [
       "   method    N  diag_dom      abs_diff\n",
       "0  normal  100        10  1.665335e-15\n",
       "1  jacobi  100        10  2.265597e-02\n",
       "2  normal  100       100  1.221245e-15\n",
       "3  jacobi  100       100  9.092238e-03"
      ]
     },
     "execution_count": 30,
     "metadata": {},
     "output_type": "execute_result"
    }
   ],
   "source": [
    "print(combo(HP_LIST, TESTS))"
   ]
  },
  {
   "cell_type": "code",
   "execution_count": null,
   "metadata": {},
   "outputs": [],
   "source": []
  }
 ],
 "metadata": {
  "kernelspec": {
   "display_name": "Python 3",
   "language": "python",
   "name": "python3"
  },
  "language_info": {
   "codemirror_mode": {
    "name": "ipython",
    "version": 3
   },
   "file_extension": ".py",
   "mimetype": "text/x-python",
   "name": "python",
   "nbconvert_exporter": "python",
   "pygments_lexer": "ipython3",
   "version": "3.11.4"
  },
  "orig_nbformat": 4
 },
 "nbformat": 4,
 "nbformat_minor": 2
}
