{
 "cells": [
  {
   "cell_type": "code",
   "execution_count": 2,
   "metadata": {},
   "outputs": [],
   "source": [
    "import numpy as np\n",
    "\n",
    "from basic_ops import  gen_matrix"
   ]
  },
  {
   "cell_type": "code",
   "execution_count": 3,
   "metadata": {},
   "outputs": [],
   "source": [
    "def holetsky(A: np.ndarray):\n",
    "    N = len(A)\n",
    "\n",
    "    L = np.zeros((N,N))\n",
    "\n",
    "    L[0,0] = np.sqrt(A[0,0])\n",
    "\n",
    "    for j in range(1, N):\n",
    "        L[j,0] = A[j,0]/L[0,0]\n",
    "\n",
    "    for i in range(1, N):\n",
    "        for j in range(1, i):\n",
    "            L[i,j] = (A[i,j] - L[i,:j]@L[j,:j]) / L[j,j]\n",
    "        L[i,i] = np.sqrt(A[i,i] - np.sum(L[i,:i+1]**2))\n",
    "\n",
    "    return L\n"
   ]
  },
  {
   "cell_type": "code",
   "execution_count": 4,
   "metadata": {},
   "outputs": [],
   "source": [
    "def lu(A: np.ndarray):\n",
    "    N = len(A)\n",
    "\n",
    "    L = np.identity(N)\n",
    "    U = np.zeros((N,N))\n",
    "\n",
    "    for i in range(N):\n",
    "        for j in range(N):\n",
    "            if i <= j:\n",
    "                U[i,j] = A[i,j] - L[i,:i]@U[:i,j].T\n",
    "            else:\n",
    "                L[i,j] = (A[i,j] - L[i,:j]@U[:j,j])/U[j,j]\n",
    "\n",
    "    return L, U"
   ]
  },
  {
   "cell_type": "code",
   "execution_count": 10,
   "metadata": {},
   "outputs": [
    {
     "name": "stdout",
     "output_type": "stream",
     "text": [
      "Holetsky euclid diff norm: 2.9003084578989518e-09; N = 1000\n",
      "LU euclid diff norm: 1.7819517635291647e-09; N = 1000\n"
     ]
    }
   ],
   "source": [
    "N = 1000\n",
    "a,b = -1, 1\n",
    "A = gen_matrix(N,N, a, b)\n",
    "A = A@A.T\n",
    "\n",
    "L = holetsky(A) \n",
    "LT = L.T\n",
    "\n",
    "print(f'Holetsky euclid diff norm: {np.linalg.norm(A - L@LT)}; N = {N}')\n",
    "\n",
    "L,U = lu(A)\n",
    "\n",
    "print(f'LU euclid diff norm: {np.linalg.norm(A - L@U)}; N = {N}')"
   ]
  },
  {
   "cell_type": "code",
   "execution_count": null,
   "metadata": {},
   "outputs": [],
   "source": []
  }
 ],
 "metadata": {
  "kernelspec": {
   "display_name": ".venv",
   "language": "python",
   "name": "python3"
  },
  "language_info": {
   "codemirror_mode": {
    "name": "ipython",
    "version": 3
   },
   "file_extension": ".py",
   "mimetype": "text/x-python",
   "name": "python",
   "nbconvert_exporter": "python",
   "pygments_lexer": "ipython3",
   "version": "3.11.6"
  }
 },
 "nbformat": 4,
 "nbformat_minor": 2
}
