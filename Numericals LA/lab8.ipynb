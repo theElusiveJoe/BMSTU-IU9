{
 "cells": [
  {
   "cell_type": "code",
   "execution_count": 17,
   "metadata": {},
   "outputs": [],
   "source": [
    "import numpy as np\n",
    "from numpy import ndarray\n",
    "from matplotlib import pyplot as plt\n",
    "\n",
    "import multiprocessing\n",
    "import time\n",
    "from tqdm import tqdm\n",
    "\n",
    "from basic_ops import gen_matrix\n"
   ]
  },
  {
   "cell_type": "code",
   "execution_count": 18,
   "metadata": {},
   "outputs": [],
   "source": [
    "def mult(A: ndarray, B: ndarray):\n",
    "    n, m, t = A.shape[0], B.shape[1], A.shape[1]\n",
    "    C = np.zeros((n, m))\n",
    "    for i in range(n):\n",
    "        for j in range(m):\n",
    "            # C[i,j] = A[i,:] @ B [:, j]\n",
    "            for k in range(t):\n",
    "                C[i,j] += A[i,k]*B[k,j]\n",
    "                C[i,j] += A[i,k]*B[k,j]\n",
    "              \n",
    "              \n",
    "                \n",
    "    return C"
   ]
  },
  {
   "cell_type": "code",
   "execution_count": 19,
   "metadata": {},
   "outputs": [],
   "source": [
    "def split(A: ndarray):\n",
    "    N = len(A)\n",
    "    n = N//2\n",
    "    return A[:n, :n], A[:n, n:], A[n:, :n], A[n:, n:]\n",
    "\n",
    "\n",
    "def mult_strass(A: ndarray, B:ndarray):\n",
    "    if len(A) == 2:\n",
    "        return mult(A, B)\n",
    "\n",
    "    a11, a12, a21, a22 = split(A)\n",
    "    b11, b12, b21, b22 = split(B)\n",
    "\n",
    "    p1, p2, p3, p4, p5, p6, p7 = (\n",
    "        mult_strass(a11+a22, b11+b22),\n",
    "        mult_strass(a21+a22, b11),\n",
    "        mult_strass(a11, b12-b22),\n",
    "        mult_strass(a22, b21-b11),\n",
    "        mult_strass(a11+a12, b22),\n",
    "        mult_strass(a21-a11, b11+b12),\n",
    "        mult_strass(a12-a22, b21+b22),\n",
    "    )\n",
    "    \n",
    "    c11, c12, c21, c22 = (\n",
    "        p1 + p4 - p5 + p7,\n",
    "        p3 + p5,\n",
    "        p2 + p4,\n",
    "        p1 + p3 - p2 + p6,\n",
    "    )\n",
    "\n",
    "    c = np.vstack((\n",
    "        np.hstack((c11, c12)), \n",
    "        np.hstack((c21, c22)),\n",
    "    ))\n",
    "    \n",
    "    return c"
   ]
  },
  {
   "cell_type": "code",
   "execution_count": 20,
   "metadata": {},
   "outputs": [],
   "source": [
    "def mult_strass_parallel(A: ndarray, B: ndarray, mn: int):\n",
    "    if len(A) <= 64:\n",
    "        return mult(A, B)\n",
    "\n",
    "    a11, a12, a21, a22 = split(A)\n",
    "    b11, b12, b21, b22 = split(B)\n",
    "\n",
    "    pool = multiprocessing.Pool(7)\n",
    "    res = [\n",
    "        pool.apply_async(mult_strass, (a11+a22, b11+b22)),\n",
    "        pool.apply_async(mult_strass, (a21+a22, b11)),\n",
    "        pool.apply_async(mult_strass, (a11, b12-b22)),\n",
    "        pool.apply_async(mult_strass, (a22, b21-b11)),\n",
    "        pool.apply_async(mult_strass, (a11+a12, b22)),\n",
    "        pool.apply_async(mult_strass, (a21-a11, b11+b12)),\n",
    "        pool.apply_async(mult_strass, (a12-a22, b21+b22)),\n",
    "    ]\n",
    "    p1, p2, p3, p4, p5, p6, p7 = map(lambda x: x.get(), res)\n",
    "\n",
    "    c11, c12, c21, c22 = (\n",
    "        p1 + p4 - p5 + p7,\n",
    "        p3 + p5,\n",
    "        p2 + p4,\n",
    "        p1 + p3 - p2 + p6,\n",
    "    )\n",
    "\n",
    "    c = np.vstack((\n",
    "        np.hstack((c11, c12)),\n",
    "        np.hstack((c21, c22)),\n",
    "    ))\n",
    "\n",
    "    return c"
   ]
  },
  {
   "cell_type": "code",
   "execution_count": 21,
   "metadata": {},
   "outputs": [],
   "source": [
    "def timer(func, args):\n",
    "    t1 = time.time()\n",
    "    res = func(*args)\n",
    "    t2 = time.time()\n",
    "    return res, t2-t1\n",
    "    \n",
    "\n",
    "def demo():\n",
    "    base_acc, st_acc = [], []\n",
    "    base_time, st_time, par_time = [], [], []\n",
    "\n",
    "    x = list(range(3,8))\n",
    "\n",
    "    for n in x:\n",
    "        N = 2**n\n",
    "        a, b = gen_matrix(N,N), gen_matrix(N,N)\n",
    "        c = a@b\n",
    "        \n",
    "        res, tm = timer(mult, (a,b))\n",
    "        base_acc.append(np.linalg.norm(c - res))\n",
    "        base_time.append(tm)\n",
    "\n",
    "        res, tm = timer(mult_strass, (a,b))\n",
    "        st_acc.append(np.linalg.norm(c - res))\n",
    "        st_time.append(tm)\n",
    "\n",
    "        print(N, st_time[-1]>base_time[-1])\n",
    "\n",
    "        _, tm = timer(mult_strass_parallel, (a,b, 2))\n",
    "        par_time.append(tm)\n",
    "\n",
    "    plt.plot(x, st_time, label='strassen time')\n",
    "    plt.plot(x, par_time, label='parallel time')\n",
    "    plt.plot(x, base_time, label='base time')\n",
    "    plt.legend()\n",
    "    plt.show()\n",
    "        \n",
    "\n",
    "    # plt.plot(x, base_acc, label='base acc')\n",
    "    # plt.plot(x, st_acc, label='strassen acc')\n",
    "    # plt.legend()\n",
    "    # plt.show()"
   ]
  },
  {
   "cell_type": "code",
   "execution_count": 22,
   "metadata": {},
   "outputs": [
    {
     "name": "stdout",
     "output_type": "stream",
     "text": [
      "8 True\n",
      "16 True\n",
      "32 True\n",
      "64 False\n",
      "128 False\n"
     ]
    },
    {
     "data": {
      "image/png": "[encoded data removed]",
      "text/plain": [
       "<Figure size 640x480 with 1 Axes>"
      ]
     },
     "metadata": {},
     "output_type": "display_data"
    }
   ],
   "source": [
    "demo()"
   ]
  }
 ],
 "metadata": {
  "kernelspec": {
   "display_name": ".venv",
   "language": "python",
   "name": "python3"
  },
  "language_info": {
   "codemirror_mode": {
    "name": "ipython",
    "version": 3
   },
   "file_extension": ".py",
   "mimetype": "text/x-python",
   "name": "python",
   "nbconvert_exporter": "python",
   "pygments_lexer": "ipython3",
   "version": "3.11.6"
  }
 },
 "nbformat": 4,
 "nbformat_minor": 2
}
