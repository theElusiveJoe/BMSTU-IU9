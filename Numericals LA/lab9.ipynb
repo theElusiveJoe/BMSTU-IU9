{
 "cells": [
  {
   "cell_type": "code",
   "execution_count": 99,
   "metadata": {},
   "outputs": [],
   "source": [
    "import numpy as np\n",
    "\n",
    "from basic_ops import gen_matrix"
   ]
  },
  {
   "cell_type": "code",
   "execution_count": 105,
   "metadata": {},
   "outputs": [
    {
     "name": "stdout",
     "output_type": "stream",
     "text": [
      "[[ 1.00000000e+00  3.46944695e-16  2.77555756e-16]\n",
      " [ 3.46944695e-16  1.00000000e+00 -8.04911693e-16]\n",
      " [ 2.77555756e-16 -8.04911693e-16  1.00000000e+00]]\n",
      "U: \n",
      "[[-0.56826071 -0.77169259 -0.28560516]\n",
      " [-0.59670192  0.6254638  -0.50273438]\n",
      " [-0.56659208  0.11526305  0.81589695]]\n",
      "u: \n",
      "[[-0.56826071  0.77169259 -0.28560516]\n",
      " [-0.59670192 -0.6254638  -0.50273438]\n",
      " [-0.56659208 -0.11526305  0.81589695]]\n",
      "SIGMA: \n",
      "[[1.76110928 0.         0.        ]\n",
      " [0.         0.31753153 0.        ]\n",
      " [0.         0.         0.10093385]]\n",
      "sigma: \n",
      "[1.76110928 0.31753153 0.10093385]\n",
      "V: \n",
      "[[-0.7462262  -0.6295889  -0.21625049]\n",
      " [-0.53230693  0.75941292 -0.37408734]\n",
      " [-0.39974466  0.16404214  0.90182836]]\n",
      "v: \n",
      "[[-0.7462262  -0.6295889  -0.21625049]\n",
      " [ 0.53230693 -0.75941292  0.37408734]\n",
      " [-0.39974466  0.16404214  0.90182836]]\n",
      "A:\n",
      "[[0.88875848 0.43926025 0.28208476]\n",
      " [0.6987429  0.80410691 0.10719159]\n",
      " [0.69220545 0.66952644 0.27635691]]\n",
      "resA:\n",
      "[[0.88875848 0.43926025 0.28208476]\n",
      " [0.6987429  0.80410691 0.10719159]\n",
      " [0.69220545 0.66952644 0.27635691]]\n"
     ]
    },
    {
     "data": {
      "text/plain": [
       "(array([[-0.56826071, -0.77169259, -0.28560516],\n",
       "        [-0.59670192,  0.6254638 , -0.50273438],\n",
       "        [-0.56659208,  0.11526305,  0.81589695]]),\n",
       " array([[1.76110928, 0.        , 0.        ],\n",
       "        [0.        , 0.31753153, 0.        ],\n",
       "        [0.        , 0.        , 0.10093385]]),\n",
       " array([[-0.7462262 , -0.6295889 , -0.21625049],\n",
       "        [-0.53230693,  0.75941292, -0.37408734],\n",
       "        [-0.39974466,  0.16404214,  0.90182836]]))"
      ]
     },
     "execution_count": 105,
     "metadata": {},
     "output_type": "execute_result"
    }
   ],
   "source": [
    "def svd(C: np.ndarray, iters=100):\n",
    "    CTC = C.T @ C\n",
    "    eigen_values, eigen_vectors = np.linalg.eig(CTC)\n",
    "    indxs = np.argsort(eigen_values)[::-1]\n",
    "    eigen_values = eigen_values[indxs]\n",
    "    eigen_vectors = eigen_vectors[:, indxs]\n",
    "\n",
    "    SIGMA = np.diag(np.sqrt(eigen_values))\n",
    "    SIGMA_INV = np.diag(1/np.sqrt(eigen_values))\n",
    "\n",
    "    V = eigen_vectors\n",
    "\n",
    "    for x in V:\n",
    "        for y in V:\n",
    "            if np.linalg.norm(x-y) < 0.001: \n",
    "                pass\n",
    "            else: \n",
    "                assert x@y , 0.0001\n",
    "\n",
    "    O = np.empty((len(V), len(V)))\n",
    "    for i, x in enumerate(V):\n",
    "        for j, y in enumerate(V):\n",
    "            O[i][j] = x@y\n",
    "\n",
    "    print(O)\n",
    "\n",
    "\n",
    "    U = C @ V @ SIGMA_INV\n",
    "\n",
    "    return U, SIGMA, V.T\n",
    "\n",
    "\n",
    "def demo(n: int, m: int):\n",
    "    A = gen_matrix(n, m)\n",
    "    \n",
    "    if n < m:\n",
    "        A = A.T\n",
    "\n",
    "    U, SIGMA, V = svd(A)\n",
    "    u, sigma, v = np.linalg.svd(A, full_matrices=True)\n",
    "\n",
    "    print(f'U: \\n{U}')\n",
    "    print(f'u: \\n{u}')\n",
    "    print(f'SIGMA: \\n{SIGMA}')\n",
    "    print(f'sigma: \\n{sigma}')\n",
    "    print(f'V: \\n{V}')\n",
    "    print(f'v: \\n{v}')\n",
    "\n",
    "    resA = U @ SIGMA @ V\n",
    "    print(f'A:\\n{A}')  \n",
    "    print(f'resA:\\n{resA}')\n",
    "\n",
    "    assert np.linalg.norm(A - resA) < 0.001\n",
    "\n",
    "    for x, y in zip(U.T, u.T):\n",
    "        assert np.linalg.norm(x - y) < 0.001 or np.linalg.norm(x + y) < 0.001\n",
    "    \n",
    "    for x, y in zip(V, v):\n",
    "        assert np.linalg.norm(x - y) < 0.001 or np.linalg.norm(x + y) < 0.001\n",
    "\n",
    "    if n < m:\n",
    "        V.T, SIGMA, U.T\n",
    "\n",
    "    return U, SIGMA, V\n",
    "\n",
    "demo(3, 3)"
   ]
  }
 ],
 "metadata": {
  "kernelspec": {
   "display_name": ".venv",
   "language": "python",
   "name": "python3"
  },
  "language_info": {
   "codemirror_mode": {
    "name": "ipython",
    "version": 3
   },
   "file_extension": ".py",
   "mimetype": "text/x-python",
   "name": "python",
   "nbconvert_exporter": "python",
   "pygments_lexer": "ipython3",
   "version": "3.11.6"
  }
 },
 "nbformat": 4,
 "nbformat_minor": 2
}
