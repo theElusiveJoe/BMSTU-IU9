{
 "cells": [
  {
   "cell_type": "code",
   "execution_count": 9,
   "metadata": {},
   "outputs": [],
   "source": [
    "import numpy as np\n",
    "from basic_ops import  gen_matrix"
   ]
  },
  {
   "cell_type": "code",
   "execution_count": 10,
   "metadata": {},
   "outputs": [],
   "source": [
    "def lu(A: np.ndarray):\n",
    "    N = len(A)\n",
    "\n",
    "    L = np.identity(N)\n",
    "    U = np.zeros((N,N))\n",
    "\n",
    "    for i in range(N):\n",
    "        for j in range(N):\n",
    "            if i <= j:\n",
    "                U[i,j] = A[i,j] - L[i,:i]@U[:i,j].T\n",
    "            else:\n",
    "                L[i,j] = (A[i,j] - L[i,:j]@U[:j,j])/U[j,j]\n",
    "\n",
    "    return L, U"
   ]
  },
  {
   "cell_type": "code",
   "execution_count": 11,
   "metadata": {},
   "outputs": [],
   "source": [
    "def solve(A, f):\n",
    "    N = len(A)\n",
    "    L, U = lu(A)\n",
    "    y = [f[0]]\n",
    "\n",
    "    for i in range(1, N):\n",
    "        y.append(f[i] - L[i, :i]@y[:i])\n",
    "    \n",
    "    x = np.zeros(N)\n",
    "    x[N-1] = y[N-1]/U[N-1,N-1]\n",
    "\n",
    "    for i in range(N-2, -1, -1):\n",
    "        x[i] = (y[i] - U[i,i+1:]@x[i+1:])/U[i,i]\n",
    "\n",
    "    return x"
   ]
  },
  {
   "cell_type": "code",
   "execution_count": 14,
   "metadata": {},
   "outputs": [
    {
     "name": "stdout",
     "output_type": "stream",
     "text": [
      "2.822399360250566e-15\n",
      "2.4404303740081994e-11\n"
     ]
    }
   ],
   "source": [
    "N = 100\n",
    "a, b = -1, 1\n",
    "A = gen_matrix(N,N, a, b)\n",
    "A = A@A.T\n",
    "\n",
    "x = np.random.random(N)\n",
    "\n",
    "f = A @ x\n",
    "\n",
    "x_my = solve(A, f)\n",
    "print(np.linalg.norm(x - x_my))\n",
    "print(np.linalg.norm(f - A@x_my))\n",
    "\n"
   ]
  }
 ],
 "metadata": {
  "kernelspec": {
   "display_name": ".venv",
   "language": "python",
   "name": "python3"
  },
  "language_info": {
   "codemirror_mode": {
    "name": "ipython",
    "version": 3
   },
   "file_extension": ".py",
   "mimetype": "text/x-python",
   "name": "python",
   "nbconvert_exporter": "python",
   "pygments_lexer": "ipython3",
   "version": "3.11.6"
  }
 },
 "nbformat": 4,
 "nbformat_minor": 2
}
