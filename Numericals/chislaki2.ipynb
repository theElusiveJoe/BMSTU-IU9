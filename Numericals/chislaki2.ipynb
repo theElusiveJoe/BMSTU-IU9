{
 "cells": [
  {
   "cell_type": "code",
   "execution_count": 1,
   "metadata": {
    "pycharm": {
     "is_executing": true
    }
   },
   "outputs": [],
   "source": [
    "import pandas as pd\n",
    "import math\n",
    "import matplotlib.pyplot as plt\n",
    "import numpy as np"
   ]
  },
  {
   "cell_type": "code",
   "execution_count": 22,
   "metadata": {},
   "outputs": [],
   "source": [
    "foo = lambda x: 4 * x**3 / (x**8 + 1)\n",
    "A = -1\n",
    "B = 2\n",
    "\n",
    "# foo = lambda x: math.e ** x\n",
    "# A = 0\n",
    "# B = 1\n",
    "\n",
    "epsilons = [0.1**i for i in range(3,8)]\n",
    "# epsilons = [0.001]"
   ]
  },
  {
   "cell_type": "code",
   "execution_count": 23,
   "metadata": {},
   "outputs": [
    {
     "data": {
      "text/plain": [
       "[<matplotlib.lines.Line2D at 0x7fbefd4a2110>]"
      ]
     },
     "execution_count": 23,
     "metadata": {},
     "output_type": "execute_result"
    },
    {
     "data": {
      "image/png": "[encoded data removed]",
      "text/plain": [
       "<Figure size 640x480 with 1 Axes>"
      ]
     },
     "metadata": {},
     "output_type": "display_data"
    }
   ],
   "source": [
    "x = np.linspace(A, B, 1000, True)\n",
    "y = foo(x)\n",
    "plt.plot(x,y)"
   ]
  },
  {
   "cell_type": "code",
   "execution_count": 24,
   "metadata": {},
   "outputs": [],
   "source": [
    "def rectangle_rule(n):\n",
    "    h = (B-A)/n\n",
    "    return h * sum([foo(A+i*h-h/2) for i in range(1,n+1)])\n",
    "\n",
    "def trapezoidal_rule(n):\n",
    "    h = (B-A)/n\n",
    "    return h * ((foo(A) + foo(B))/2 + sum([foo(A+i*h) for i in range(1,n)]))\n",
    "\n",
    "def simpson_rule(n):\n",
    "    # h = (B-A)/n\n",
    "    a = A\n",
    "    b = B\n",
    "    h = (b - a) / n\n",
    "    summ = 0\n",
    "    for i in range(1, n+1):\n",
    "        summ += foo(a + (i - 1) * h) + 4 * foo(a + (i - 0.5) * h) + foo(a + i * h)\n",
    "    return summ * h / 6\n",
    "#     return h/6 * sum([\n",
    "#         foo(A),\n",
    "#         foo(B),\n",
    "#         4*sum([foo(A+i*h-h/2) for i in range(1,n+1)]),\n",
    "#         2*sum([foo(A+i*h) for i in range(1,n)])\n",
    "#     ])\n",
    "\n",
    "def calc_R(ih1, ih2, k):\n",
    "    return (ih1 - ih2)/(2**k - 1)\n",
    "\n",
    "def run_method(method_func, method_name, k, eps):\n",
    "    n = 1\n",
    "    i_pre = method_func(n)\n",
    "    i_act = method_func(n*2)\n",
    "    R = calc_R(i_act, i_pre, k)\n",
    "    num = 1\n",
    "    while abs(R) > eps:\n",
    "        n *= 2\n",
    "        i_pre = i_act\n",
    "        i_act = method_func(2*n)\n",
    "        R = calc_R(i_act, i_pre, k)\n",
    "        num += 1\n",
    "\n",
    "    return [method_name, num, i_act, i_act + R]    "
   ]
  },
  {
   "cell_type": "code",
   "execution_count": 25,
   "metadata": {},
   "outputs": [
    {
     "name": "stdout",
     "output_type": "stream",
     "text": [
      "EPS = 0.0010000000000000002\n",
      "                   метод итераций          INT        INT+R             R\n",
      "0  метод прямоугольников        5 0.7223422932 0.7230711214  0.0007288282\n",
      "0         метод трапеций        6 0.7232901605 0.7229742047 -0.0003159558\n",
      "0          метод парабол        2 0.8519388854 0.8527303228  0.0007914375\n",
      "\n",
      "EPS = 0.00010000000000000002\n",
      "                   метод итераций          INT        INT+R             R\n",
      "0  метод прямоугольников        7 0.7229405901 0.7229796254  0.0000390353\n",
      "0         метод трапеций        7 0.7230568223 0.7229790429 -0.0000777794\n",
      "0          метод парабол        5 0.7229742047 0.7229806658  0.0000064611\n",
      "\n",
      "EPS = 1.0000000000000003e-05\n",
      "                   метод итераций          INT        INT+R             R\n",
      "0  метод прямоугольников        8 0.7229696752 0.7229793702  0.0000096950\n",
      "0         метод трапеций        9 0.7229841907 0.7229793522 -0.0000048385\n",
      "0          метод парабол        5 0.7229742047 0.7229806658  0.0000064611\n",
      "\n",
      "EPS = 1.0000000000000004e-06\n",
      "                   метод итераций          INT        INT+R             R\n",
      "0  метод прямоугольников       10 0.7229787488 0.7229793535  0.0000006047\n",
      "0         метод трапеций       11 0.7229796557 0.7229793534 -0.0000003023\n",
      "0          метод парабол        6 0.7229790429 0.7229793655  0.0000003225\n",
      "\n",
      "EPS = 1.0000000000000004e-07\n",
      "                   метод итераций          INT        INT+R             R\n",
      "0  метод прямоугольников       12 0.7229793156 0.7229793534  0.0000000378\n",
      "0         метод трапеций       12 0.7229794290 0.7229793534 -0.0000000756\n",
      "0          метод парабол        7 0.7229793342 0.7229793536  0.0000000194\n",
      "\n"
     ]
    }
   ],
   "source": [
    "columns = ['метод', 'итераций', 'INT', 'INT+R']\n",
    "functs = [rectangle_rule, trapezoidal_rule, simpson_rule]\n",
    "funct_names = ['метод прямоугольников',  'метод трапеций', 'метод парабол']\n",
    "ks = [2,2,4]\n",
    "pd.options.display.float_format = '{:,.10f}'.format\n",
    "for eps in epsilons:\n",
    "    results = pd.DataFrame(columns=columns)\n",
    "    results.set_index('метод')\n",
    "    for funct, name, k in zip(functs, funct_names, ks):\n",
    "        res = run_method(funct, name, k, eps)\n",
    "        results = pd.concat(\n",
    "            [results, pd.DataFrame([res], columns=columns)]\n",
    "        )\n",
    "    results['R'] = results['INT+R'] - results['INT'] \n",
    "    print(f'EPS = {eps}')\n",
    "    print(results)\n",
    "    print()"
   ]
  },
  {
   "cell_type": "code",
   "execution_count": null,
   "metadata": {},
   "outputs": [],
   "source": []
  }
 ],
 "metadata": {
  "kernelspec": {
   "display_name": "Python 3 (ipykernel)",
   "language": "python",
   "name": "python3"
  },
  "language_info": {
   "codemirror_mode": {
    "name": "ipython",
    "version": 3
   },
   "file_extension": ".py",
   "mimetype": "text/x-python",
   "name": "python",
   "nbconvert_exporter": "python",
   "pygments_lexer": "ipython3",
   "version": "3.10.10"
  }
 },
 "nbformat": 4,
 "nbformat_minor": 1
}
