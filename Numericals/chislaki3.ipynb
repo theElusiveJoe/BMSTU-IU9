{
 "cells": [
  {
   "cell_type": "code",
   "execution_count": 1,
   "metadata": {},
   "outputs": [],
   "source": [
    "import pandas as pd\n",
    "import numpy as np"
   ]
  },
  {
   "cell_type": "code",
   "execution_count": 2,
   "metadata": {},
   "outputs": [],
   "source": [
    "def f(x):\n",
    "    return np.exp(x)\n",
    "\n",
    "\n",
    "def count_c(y, h, n):\n",
    "    top = np.ones(n)\n",
    "    top[0] = 0\n",
    "    low = np.ones(n)\n",
    "    low[-1] = 0\n",
    "    mid = np.empty(n)\n",
    "    mid.fill(4)\n",
    "\n",
    "    res = np.empty((n,))\n",
    "    for i in range(n):\n",
    "        res[i] = 3/h**2 *(y[i] - 2*y[i+1] + y[i+2])\n",
    "\n",
    "    alpha = np.zeros((n,))\n",
    "    beta = np.zeros((n,))\n",
    "\n",
    "    alpha[0] = -low[0] / mid[0]\n",
    "    beta[0] = res[0] / mid[0]\n",
    "\n",
    "    for i in range(1, n):\n",
    "        alpha[i] = -low[i]/(top[i]*alpha[i-1] + mid[i])\n",
    "        beta[i] = (res[i] - top[i]*beta[i-1])/(top[i]*alpha[i-1] + mid[i])\n",
    "\n",
    "    x = np.zeros((n,))\n",
    "    x[n-1] = beta[n - 1]\n",
    "\n",
    "    for i in range(n-1,0,-1):\n",
    "        x[i-1] = alpha[i-1]*x[i] + beta[i-1]\n",
    "\n",
    "    return list(x)\n",
    "\n",
    "\n",
    "def find_coefs(y,c,h,n):\n",
    "    a = []\n",
    "    b = []\n",
    "    d = []\n",
    "    for i in range(1,n+1):\n",
    "        a.append(\n",
    "            y[i-1]\n",
    "        )\n",
    "        b.append(\n",
    "            (y[i] - y[i-1])/h - h/3*(c[i] + 2*c[i-1])\n",
    "        )\n",
    "        d.append(\n",
    "            (c[i] - c[i-1])/(3*h)\n",
    "        )\n",
    "    a.append(0)\n",
    "    b.append(0)\n",
    "    d.append(0)\n",
    "    return a,b,d"
   ]
  },
  {
   "cell_type": "code",
   "execution_count": 4,
   "metadata": {},
   "outputs": [
    {
     "name": "stdout",
     "output_type": "stream",
     "text": [
      "      x   expected    splined         delta\n",
      "0   0.0   1.000000   1.000000  0.000000e+00\n",
      "1   0.3   1.349859   1.367525  1.766575e-02\n",
      "2   0.6   1.822119   1.822119  0.000000e+00\n",
      "3   0.9   2.459603   2.448268  1.133547e-02\n",
      "4   1.2   3.320117   3.320117  0.000000e+00\n",
      "5   1.5   4.481689   4.504539  2.284946e-02\n",
      "6   1.8   6.049647   6.049647  0.000000e+00\n",
      "7   2.1   8.166170   8.077313  8.885716e-02\n",
      "8   2.4  11.023176  11.023176  0.000000e+00\n",
      "9   2.7  14.879732  15.196286  3.165540e-01\n",
      "10  3.0  20.085537  20.085537  3.552714e-15\n"
     ]
    }
   ],
   "source": [
    "left = 0\n",
    "right = 3\n",
    "n = 5\n",
    "h = (right-left)/n\n",
    "\n",
    "x = np.linspace(left,right, num=n+1,endpoint=True)\n",
    "y = np.vectorize(f)(x)\n",
    "c = count_c(y, h, n-1)\n",
    "c = [0] + c + [0]\n",
    "a,b,d = find_coefs(y=y, c=c, h=h, n=n)\n",
    "\n",
    "expected_results = []\n",
    "spline_results = []\n",
    "points = [left + point_num * h/2 for point_num in range(2*n+1)]\n",
    "\n",
    "for point_num in range(2*n+1):\n",
    "    point = points[point_num]\n",
    "    i = point_num//2\n",
    "    if point_num == 2*n:\n",
    "        i -= 1\n",
    "\n",
    "    spline_result = a[i] + \\\n",
    "               b[i] * (point - x[i]) + \\\n",
    "               c[i] * (point - x[i]) ** 2 + \\\n",
    "               d[i] * (point - x[i]) ** 3\n",
    "    spline_results.append(spline_result)\n",
    "    expected_results.append(f(point))\n",
    "\n",
    "expected_results = np.array(expected_results)\n",
    "spline_results = np.array(spline_results)\n",
    "\n",
    "df = pd.DataFrame(\n",
    "    {'x':points,\n",
    "        'expected': expected_results,\n",
    "     'splined': spline_results,\n",
    "     'delta': np.abs(expected_results-spline_results)}\n",
    ")\n",
    "print(df)"
   ]
  },
  {
   "cell_type": "code",
   "execution_count": null,
   "metadata": {},
   "outputs": [],
   "source": []
  }
 ],
 "metadata": {
  "kernelspec": {
   "display_name": "Python 3 (ipykernel)",
   "language": "python",
   "name": "python3"
  },
  "language_info": {
   "codemirror_mode": {
    "name": "ipython",
    "version": 3
   },
   "file_extension": ".py",
   "mimetype": "text/x-python",
   "name": "python",
   "nbconvert_exporter": "python",
   "pygments_lexer": "ipython3",
   "version": "3.10.10"
  }
 },
 "nbformat": 4,
 "nbformat_minor": 1
}
