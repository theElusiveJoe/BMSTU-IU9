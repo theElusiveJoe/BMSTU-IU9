{
 "cells": [
  {
   "cell_type": "code",
   "execution_count": 1,
   "id": "93ded9eb",
   "metadata": {},
   "outputs": [],
   "source": [
    "import numpy as np\n",
    "import pandas as pd\n",
    "pd.options.display.float_format = '{:.10f}'.format"
   ]
  },
  {
   "cell_type": "markdown",
   "id": "9d625fa1",
   "metadata": {},
   "source": [
    "y'' -4 y' = x^6+1 ;\n",
    "\n",
    "\n",
    "y(0) = 0 ; \n",
    "\n",
    "\n",
    "y'(0) = 3.56\n",
    "\n",
    "\n",
    "{y''[x] - 4 y'[x] == x^6 + 1, y[0] == 0, y'[0] == 3.56}\n"
   ]
  },
  {
   "cell_type": "code",
   "execution_count": 25,
   "id": "5707f5c3",
   "metadata": {},
   "outputs": [],
   "source": [
    "# ВАРИАНТ 13\n",
    "p = -4\n",
    "q = 0 \n",
    "\n",
    "c1 = (3.56+301/1024)/4\n",
    "\n",
    "def analytic_answer(x):\n",
    "    return -1/28 * x**7 - \\\n",
    "            1/16 * x**6 - \\\n",
    "            3/32 * x**5 - \\\n",
    "            15/128 * x**4 - \\\n",
    "            15/128 *  x**3 - \\\n",
    "            45/512* x**2 - \\\n",
    "            301/1024 *x + \\\n",
    "            c1* np.e**(4*x) + \\\n",
    "            (-c1)\n",
    "def f(x):\n",
    "    return x**6+1"
   ]
  },
  {
   "cell_type": "code",
   "execution_count": 3,
   "id": "a340406f",
   "metadata": {},
   "outputs": [],
   "source": [
    "# ВАРИАНТ 1\n",
    "p=-2\n",
    "q=1\n",
    "def analytic_answer(x):\n",
    "    return 1/2*np.e**x*(3*x*x + 2*x + 4)\n",
    "\n",
    "def f(x):\n",
    "    return 3*np.e**x"
   ]
  },
  {
   "cell_type": "code",
   "execution_count": 18,
   "id": "ebf458bc",
   "metadata": {},
   "outputs": [],
   "source": [
    "# ТЕСТ\n",
    "def analytic_answer(x):\n",
    "    return np.e**x\n",
    "\n",
    "def f(x):\n",
    "    return np.e**x\n",
    "\n",
    "p = -1\n",
    "q = 1"
   ]
  },
  {
   "cell_type": "code",
   "execution_count": 26,
   "id": "264e5ec2",
   "metadata": {},
   "outputs": [
    {
     "data": {
      "text/plain": [
       "(0.0, 50.832909546512695)"
      ]
     },
     "execution_count": 26,
     "metadata": {},
     "output_type": "execute_result"
    }
   ],
   "source": [
    "n = 10\n",
    "h = 1/n\n",
    "x0 = 0\n",
    "y0 = analytic_answer(x0)\n",
    "xn = 1\n",
    "yn = analytic_answer(xn)\n",
    "y0, yn"
   ]
  },
  {
   "cell_type": "code",
   "execution_count": 27,
   "id": "45effa2c",
   "metadata": {},
   "outputs": [
    {
     "data": {
      "text/plain": [
       "[1.0, 1.0, 1.0, 1.0]"
      ]
     },
     "execution_count": 27,
     "metadata": {},
     "output_type": "execute_result"
    }
   ],
   "source": [
    "def create_diagonals():\n",
    "    top = []\n",
    "    mid = []\n",
    "    low = []\n",
    "    res = []\n",
    "    \n",
    "    mid.append(h*h*q-2)\n",
    "    top.append(1+h/2*p)\n",
    "    \n",
    "    x1 = x0 + (xn-x0)*h*1\n",
    "    f1 = analytic_answer(x1)\n",
    "    res.append(h*h*f1 - y0*(1-h/2*p))\n",
    "    \n",
    "    for i in range(2, n-1):\n",
    "        low.append(1-h/2*p)\n",
    "        mid.append(h*h*q-2)\n",
    "        top.append(1+h/2*p)\n",
    "        \n",
    "        xi = x0 + (xn-x0)*h*i\n",
    "        fi = f(xi)\n",
    "        res.append(h*h*fi)\n",
    "    \n",
    "    low.append(1-h/2*p)\n",
    "    mid.append(h*h*q-2)\n",
    "    \n",
    "    xn_1 = x0 + (xn-x0)*h*(n-1)\n",
    "    fn_1 = analytic_answer(xn_1)\n",
    "    res.append(h*h*fn_1 - yn*(1+h/2*p))\n",
    "    \n",
    "    return [0] + low, mid, top + [0], res\n",
    "    \n",
    "def solve_stripe(low, mid, top, res):\n",
    "    n = len(mid)\n",
    "    low = np.array(low)\n",
    "    mid = np.array(mid)\n",
    "    top = np.array(top)\n",
    "    res = np.array(res)\n",
    "    \n",
    "    alpha = np.zeros((n,))\n",
    "    beta = np.zeros((n,))\n",
    "    alpha[0] = -top[0] / mid[0]\n",
    "    beta[0] = res[0] / mid[0]\n",
    "\n",
    "    for i in range(1, n):\n",
    "        alpha[i] = -top[i]/(low[i]*alpha[i-1] + mid[i])\n",
    "        beta[i] = (res[i] - low[i]*beta[i-1])/(low[i]*alpha[i-1] + mid[i])\n",
    "\n",
    "    x = np.zeros((n,))\n",
    "    x[n-1] = beta[n - 1]\n",
    "\n",
    "    for i in range(n-1,0,-1):\n",
    "        x[i-1] = alpha[i-1]*x[i] + beta[i-1]\n",
    "\n",
    "    return list(x)\n",
    "\n",
    "def create_matrix(low, mid, top):\n",
    "    mat = np.diag(mid)\n",
    "    for i in range(1,len(mid)):\n",
    "        mat[i-1, i] = top[i-1]\n",
    "        mat[i, i-1] = low[i]\n",
    "    return mat\n",
    "\n",
    "# убедимся, что работает\n",
    "solve_stripe(\n",
    "    low=[0,1,1,1],\n",
    "    mid=[4,4,4,4],\n",
    "    top=[1,1,1, 0],\n",
    "    res=[5,6,6,5]\n",
    ")"
   ]
  },
  {
   "cell_type": "code",
   "execution_count": 28,
   "id": "226fec62",
   "metadata": {},
   "outputs": [
    {
     "name": "stdout",
     "output_type": "stream",
     "text": [
      "[[-2.   0.8  0.   0.   0.   0.   0.   0.   0. ]\n",
      " [ 1.2 -2.   0.8  0.   0.   0.   0.   0.   0. ]\n",
      " [ 0.   1.2 -2.   0.8  0.   0.   0.   0.   0. ]\n",
      " [ 0.   0.   1.2 -2.   0.8  0.   0.   0.   0. ]\n",
      " [ 0.   0.   0.   1.2 -2.   0.8  0.   0.   0. ]\n",
      " [ 0.   0.   0.   0.   1.2 -2.   0.8  0.   0. ]\n",
      " [ 0.   0.   0.   0.   0.   1.2 -2.   0.8  0. ]\n",
      " [ 0.   0.   0.   0.   0.   0.   1.2 -2.   0.8]\n",
      " [ 0.   0.   0.   0.   0.   0.   0.   1.2 -2. ]]\n"
     ]
    },
    {
     "data": {
      "text/plain": [
       "array([ 0.        ,  0.42652447,  1.07185445,  2.05235023,  3.53560302,\n",
       "        5.77303339,  9.14187426, 14.20821877, 21.82170615, 33.25771402,\n",
       "       50.83290955])"
      ]
     },
     "execution_count": 28,
     "metadata": {},
     "output_type": "execute_result"
    }
   ],
   "source": [
    "low, mid, top, res = create_diagonals()\n",
    "m = create_matrix(low,mid,top)\n",
    "print(m)\n",
    "res_my = np.array(\n",
    "    [y0] + list(solve_stripe(low, mid, top, res)) + [yn]\n",
    ")\n",
    "res_my"
   ]
  },
  {
   "cell_type": "code",
   "execution_count": 29,
   "id": "84a63983",
   "metadata": {},
   "outputs": [
    {
     "data": {
      "text/plain": [
       "array([ 0.        ,  0.44346302,  1.11732778,  2.13491272,  3.66527756,\n",
       "        5.96066496,  9.39747982, 14.537495  , 22.21927103, 33.69469807,\n",
       "       50.83290955])"
      ]
     },
     "execution_count": 29,
     "metadata": {},
     "output_type": "execute_result"
    }
   ],
   "source": [
    "res_true = np.array(\n",
    "    [y0] + list(np.vectorize(analytic_answer)(np.linspace(0.1,1,9,False))) + [yn]\n",
    ")\n",
    "res_true"
   ]
  },
  {
   "cell_type": "code",
   "execution_count": 30,
   "id": "6be8db59",
   "metadata": {},
   "outputs": [
    {
     "data": {
      "text/plain": [
       "[0.0,\n",
       " 0.42547509255389093,\n",
       " 1.0761877438847274,\n",
       " 2.064757520880982,\n",
       " 3.560121298875363,\n",
       " 5.815718165866936,\n",
       " 9.211808778854293,\n",
       " 14.319027898335328,\n",
       " 21.99382719005688,\n",
       " 33.52180292763921,\n",
       " 50.832909546512695]"
      ]
     },
     "execution_count": 30,
     "metadata": {},
     "output_type": "execute_result"
    }
   ],
   "source": [
    "def shooting(Oh):\n",
    "    y_0 = np.empty(n+1)\n",
    "    y_1 = np.empty(n+1)\n",
    "    \n",
    "    y_0[0] = y0\n",
    "    y_0[1] = y0 + Oh\n",
    "    y_1[0] = 0\n",
    "    y_1[1] = Oh\n",
    "\n",
    "    for i in range(1, n):\n",
    "        y_0[i+1] = (f(x0+i*h)*h**2 + (2-q*h**2)*y_0[i] - (1-p*h/2)*y_0[i-1]) / (1 + p*h/2)\n",
    "        y_1[i+1] = ((2-q*h**2)*y_1[i] - (1-p*h/2)*y_1[i-1]) / (1 + p*h/2)\n",
    "\n",
    "    if abs(y_1[n]) < 0.001:\n",
    "        return gun(Oh+1)\n",
    "    else:\n",
    "        c1 = (yn - y_0[n]) / y_1[n]\n",
    "    return [y_0[i] + c1 * y_1[i] for i in range(n+1)]\n",
    "    \n",
    "res_sh = shooting(h)\n",
    "res_sh"
   ]
  },
  {
   "cell_type": "code",
   "execution_count": 36,
   "id": "3404b213",
   "metadata": {},
   "outputs": [
    {
     "name": "stdout",
     "output_type": "stream",
     "text": [
      "Погрешность: 0.4369840463780079\n",
      "Погрешность: 0.22544384247525784\n"
     ]
    },
    {
     "data": {
      "text/html": [
       "<div>\n",
       "<style scoped>\n",
       "    .dataframe tbody tr th:only-of-type {\n",
       "        vertical-align: middle;\n",
       "    }\n",
       "\n",
       "    .dataframe tbody tr th {\n",
       "        vertical-align: top;\n",
       "    }\n",
       "\n",
       "    .dataframe thead th {\n",
       "        text-align: right;\n",
       "    }\n",
       "</style>\n",
       "<table border=\"1\" class=\"dataframe\">\n",
       "  <thead>\n",
       "    <tr style=\"text-align: right;\">\n",
       "      <th></th>\n",
       "      <th>xi</th>\n",
       "      <th>analytic_ans</th>\n",
       "      <th>run_ans</th>\n",
       "      <th>run_abs_diff</th>\n",
       "      <th>sh_ans</th>\n",
       "      <th>sh_abs_diff</th>\n",
       "    </tr>\n",
       "  </thead>\n",
       "  <tbody>\n",
       "    <tr>\n",
       "      <th>0</th>\n",
       "      <td>0.0</td>\n",
       "      <td>0.0000000000</td>\n",
       "      <td>0.0000000000</td>\n",
       "      <td>0.0000000000</td>\n",
       "      <td>0.0000000000</td>\n",
       "      <td>0.0000000000</td>\n",
       "    </tr>\n",
       "    <tr>\n",
       "      <th>1</th>\n",
       "      <td>0.1</td>\n",
       "      <td>0.4434630247</td>\n",
       "      <td>0.4265244660</td>\n",
       "      <td>0.0169385587</td>\n",
       "      <td>0.4254750926</td>\n",
       "      <td>0.0179879321</td>\n",
       "    </tr>\n",
       "    <tr>\n",
       "      <th>2</th>\n",
       "      <td>0.2</td>\n",
       "      <td>1.1173277845</td>\n",
       "      <td>1.0718544528</td>\n",
       "      <td>0.0454733318</td>\n",
       "      <td>1.0761877439</td>\n",
       "      <td>0.0411400406</td>\n",
       "    </tr>\n",
       "    <tr>\n",
       "      <th>3</th>\n",
       "      <td>0.3</td>\n",
       "      <td>2.1349127177</td>\n",
       "      <td>2.0523502329</td>\n",
       "      <td>0.0825624848</td>\n",
       "      <td>2.0647575209</td>\n",
       "      <td>0.0701551969</td>\n",
       "    </tr>\n",
       "    <tr>\n",
       "      <th>4</th>\n",
       "      <td>0.4</td>\n",
       "      <td>3.6652775563</td>\n",
       "      <td>3.5356030157</td>\n",
       "      <td>0.1296745406</td>\n",
       "      <td>3.5601212989</td>\n",
       "      <td>0.1051562574</td>\n",
       "    </tr>\n",
       "    <tr>\n",
       "      <th>5</th>\n",
       "      <td>0.5</td>\n",
       "      <td>5.9606649643</td>\n",
       "      <td>5.7730333898</td>\n",
       "      <td>0.1876315746</td>\n",
       "      <td>5.8157181659</td>\n",
       "      <td>0.1449467985</td>\n",
       "    </tr>\n",
       "    <tr>\n",
       "      <th>6</th>\n",
       "      <td>0.6</td>\n",
       "      <td>9.3974798232</td>\n",
       "      <td>9.1418742634</td>\n",
       "      <td>0.2556055598</td>\n",
       "      <td>9.2118087789</td>\n",
       "      <td>0.1856710444</td>\n",
       "    </tr>\n",
       "    <tr>\n",
       "      <th>7</th>\n",
       "      <td>0.7</td>\n",
       "      <td>14.5374950004</td>\n",
       "      <td>14.2082187739</td>\n",
       "      <td>0.3292762265</td>\n",
       "      <td>14.3190278983</td>\n",
       "      <td>0.2184671021</td>\n",
       "    </tr>\n",
       "    <tr>\n",
       "      <th>8</th>\n",
       "      <td>0.8</td>\n",
       "      <td>22.2192710325</td>\n",
       "      <td>21.8217061522</td>\n",
       "      <td>0.3975648803</td>\n",
       "      <td>21.9938271901</td>\n",
       "      <td>0.2254438425</td>\n",
       "    </tr>\n",
       "    <tr>\n",
       "      <th>9</th>\n",
       "      <td>0.9</td>\n",
       "      <td>33.6946980660</td>\n",
       "      <td>33.2577140196</td>\n",
       "      <td>0.4369840464</td>\n",
       "      <td>33.5218029276</td>\n",
       "      <td>0.1728951383</td>\n",
       "    </tr>\n",
       "    <tr>\n",
       "      <th>10</th>\n",
       "      <td>1.0</td>\n",
       "      <td>50.8329095465</td>\n",
       "      <td>50.8329095465</td>\n",
       "      <td>0.0000000000</td>\n",
       "      <td>50.8329095465</td>\n",
       "      <td>0.0000000000</td>\n",
       "    </tr>\n",
       "  </tbody>\n",
       "</table>\n",
       "</div>"
      ],
      "text/plain": [
       "     xi  analytic_ans       run_ans  run_abs_diff        sh_ans  sh_abs_diff\n",
       "0   0.0  0.0000000000  0.0000000000  0.0000000000  0.0000000000 0.0000000000\n",
       "1   0.1  0.4434630247  0.4265244660  0.0169385587  0.4254750926 0.0179879321\n",
       "2   0.2  1.1173277845  1.0718544528  0.0454733318  1.0761877439 0.0411400406\n",
       "3   0.3  2.1349127177  2.0523502329  0.0825624848  2.0647575209 0.0701551969\n",
       "4   0.4  3.6652775563  3.5356030157  0.1296745406  3.5601212989 0.1051562574\n",
       "5   0.5  5.9606649643  5.7730333898  0.1876315746  5.8157181659 0.1449467985\n",
       "6   0.6  9.3974798232  9.1418742634  0.2556055598  9.2118087789 0.1856710444\n",
       "7   0.7 14.5374950004 14.2082187739  0.3292762265 14.3190278983 0.2184671021\n",
       "8   0.8 22.2192710325 21.8217061522  0.3975648803 21.9938271901 0.2254438425\n",
       "9   0.9 33.6946980660 33.2577140196  0.4369840464 33.5218029276 0.1728951383\n",
       "10  1.0 50.8329095465 50.8329095465  0.0000000000 50.8329095465 0.0000000000"
      ]
     },
     "execution_count": 36,
     "metadata": {},
     "output_type": "execute_result"
    }
   ],
   "source": [
    "df = pd.DataFrame({\n",
    "    'xi': np.linspace(0,1,11,True),\n",
    "    'analytic_ans': res_true,\n",
    "    'run_ans': res_my,\n",
    "    'run_abs_diff': np.abs(res_my-res_true),\n",
    "    'sh_ans': res_sh,\n",
    "    'sh_abs_diff': np.abs(res_sh-res_true),\n",
    "})\n",
    "print('Погрешность:', max(np.abs(res_my-res_true)))\n",
    "print('Погрешность:', max(np.abs(res_sh-res_true)))\n",
    "df.xi = df.xi.apply(lambda x: str(x)[:3])\n",
    "df"
   ]
  },
  {
   "cell_type": "code",
   "execution_count": null,
   "id": "32945aee",
   "metadata": {},
   "outputs": [],
   "source": []
  }
 ],
 "metadata": {
  "kernelspec": {
   "display_name": "Python 3 (ipykernel)",
   "language": "python",
   "name": "python3"
  },
  "language_info": {
   "codemirror_mode": {
    "name": "ipython",
    "version": 3
   },
   "file_extension": ".py",
   "mimetype": "text/x-python",
   "name": "python",
   "nbconvert_exporter": "python",
   "pygments_lexer": "ipython3",
   "version": "3.10.10"
  }
 },
 "nbformat": 4,
 "nbformat_minor": 5
}
