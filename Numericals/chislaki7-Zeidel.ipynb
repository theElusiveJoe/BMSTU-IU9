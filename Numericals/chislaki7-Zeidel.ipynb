{
 "cells": [
  {
   "cell_type": "code",
   "execution_count": 1,
   "id": "44bd957a",
   "metadata": {},
   "outputs": [],
   "source": [
    "import numpy as np\n",
    "import pandas as pd"
   ]
  },
  {
   "cell_type": "code",
   "execution_count": 9,
   "id": "a6c1cd5e",
   "metadata": {},
   "outputs": [
    {
     "name": "stdout",
     "output_type": "stream",
     "text": [
      "[[ 0.         -0.08849558  0.01769912  0.17699115]\n",
      " [ 0.09345794  0.         -0.18691589  0.00934579]\n",
      " [ 0.02803738 -0.37383178  0.          0.09345794]\n",
      " [ 0.02985075 -0.04477612 -0.07462687  0.        ]]\n",
      "[[ 0.         -0.08849558  0.01769912  0.17699115]\n",
      " [ 0.          0.         -0.18691589  0.00934579]\n",
      " [ 0.          0.          0.          0.09345794]\n",
      " [ 0.          0.          0.          0.        ]]\n",
      "[[ 0.          0.          0.          0.        ]\n",
      " [ 0.09345794  0.          0.          0.        ]\n",
      " [ 0.02803738 -0.37383178  0.          0.        ]\n",
      " [ 0.02985075 -0.04477612 -0.07462687  0.        ]]\n"
     ]
    }
   ],
   "source": [
    "eps = 0.001\n",
    "alpha, beta = 0.1*13, 0.1*13\n",
    "N = 4\n",
    "A = np.array([\n",
    "    [10 + alpha, -1, 0.2, 2],\n",
    "    [1, 12-alpha, -2, 0.1],\n",
    "    [0.3, -4, 12-alpha, 1],\n",
    "    [0.2, -0.3, -0.5, 8-alpha]\n",
    "])\n",
    "Adiag = np.diagonal(A)\n",
    "B = np.array([1+beta, 2-beta, 3, 1])\n",
    "\n",
    "F = np.copy(A)\n",
    "for i in range(N):\n",
    "    F[i,i] = 0\n",
    "for i in range(N):\n",
    "    for j in range(N):\n",
    "        F[i,j] = F[i,j]/Adiag[i]\n",
    "Fup = np.copy(F)\n",
    "Fdown = np.copy(F)\n",
    "for i in range(N):\n",
    "    for j in range(N):\n",
    "        if j > i:\n",
    "            Fdown[i,j] = 0\n",
    "        else:\n",
    "            Fup[i,j] = 0\n",
    "        \n",
    "C = np.copy(B)\n",
    "for i in range(N):\n",
    "    C[i] = C[i]/Adiag[i]"
   ]
  },
  {
   "cell_type": "code",
   "execution_count": 10,
   "id": "f22dd18d",
   "metadata": {},
   "outputs": [],
   "source": [
    "def matrixMultByVector(A, x):\n",
    "    return np.array([ \n",
    "        sum([ A[i,j]*x[j] for j in range(N) ]) for i in range(N)\n",
    "    ])"
   ]
  },
  {
   "cell_type": "code",
   "execution_count": 11,
   "id": "c488d0d9",
   "metadata": {},
   "outputs": [],
   "source": [
    "def simpleNextIter(x):\n",
    "    res = np.zeros(N)\n",
    "    for i in range(N):\n",
    "        res[i] = C[i] - matrixMultByVector(Fdown, res)[i] - matrixMultByVector(Fup, x)[i] \n",
    "    return res\n",
    "\n",
    "def norm(x):\n",
    "    return np.max(np.abs(x))\n",
    "\n",
    "def countDelta(xOld, xNew):\n",
    "    deltaBig = findFNorm()/(1-findFNorm())*norm(xOld-xNew)\n",
    "    deltaSmall = deltaBig/norm(xNew)\n",
    "    return deltaBig, deltaSmall\n",
    "    return any(map(lambda x: x < eps, delta))\n",
    "\n",
    "def checkStop(xOld, xNew):\n",
    "    return norm(xOld-xNew) < eps\n",
    "        \n",
    "def findFNorm():\n",
    "    return max( np.sum(np.abs(F[i])) for i in range(N) )"
   ]
  },
  {
   "cell_type": "code",
   "execution_count": 12,
   "id": "15bca331",
   "metadata": {},
   "outputs": [],
   "source": [
    "def sipleIterations():\n",
    "    df = pd.DataFrame({\n",
    "        'DELTA': [],\n",
    "        'delta': [],\n",
    "    })\n",
    "    xOld = C\n",
    "    xNew = simpleNextIter(xOld)\n",
    "    i = 0\n",
    "    DELTA, delta = simpleCountDelta(xOld = xOld, xNew = xNew)\n",
    "    app = { \n",
    "        'delta': delta,\n",
    "        'DELTA': DELTA\n",
    "    }\n",
    "    df = df.append(app, ignore_index=True)\n",
    "    \n",
    "    while not simpleCheckStop(xOld,xNew):\n",
    "        i += 1\n",
    "        xNew, xOld = simpleNextIter(xNew), xNew\n",
    "        DELTA, delta = simpleCountDelta(xOld = xOld, xNew = xNew)\n",
    "        app = { \n",
    "            'delta': delta,\n",
    "            'DELTA': DELTA\n",
    "        }\n",
    "        df = df.append(app, ignore_index=True)\n",
    "    print(df)\n",
    "    return xNew, delta\n",
    "    \n",
    "def showSimpleIterations():\n",
    "    xNew, delta = sipleIterations()\n",
    "    check = matrixMultByVector(A, xNew) \n",
    "    print(\"CHECK:\", check)\n",
    "    print(\"WANT TO GET\", B)\n",
    "    print(\"DIFFERENCE\", check - B)\n",
    "    print(\"NORM F\", findFNorm())"
   ]
  },
  {
   "cell_type": "code",
   "execution_count": 13,
   "id": "52869488",
   "metadata": {},
   "outputs": [
    {
     "name": "stdout",
     "output_type": "stream",
     "text": [
      "      DELTA     delta\n",
      "0  0.033744  0.112952\n",
      "1  0.003272  0.010981\n",
      "2  0.000280  0.000940\n",
      "CHECK: [2.30010388 0.70016017 2.99997808 1.        ]\n",
      "WANT TO GET [2.3 0.7 3.  1. ]\n",
      "DIFFERENCE [ 1.03882649e-04  1.60170537e-04 -2.19202548e-05  0.00000000e+00]\n",
      "NORM F 0.4953271028037384\n"
     ]
    },
    {
     "name": "stderr",
     "output_type": "stream",
     "text": [
      "/tmp/ipykernel_3430561/3951325670.py:14: FutureWarning: The frame.append method is deprecated and will be removed from pandas in a future version. Use pandas.concat instead.\n",
      "  df = df.append(app, ignore_index=True)\n",
      "/tmp/ipykernel_3430561/3951325670.py:24: FutureWarning: The frame.append method is deprecated and will be removed from pandas in a future version. Use pandas.concat instead.\n",
      "  df = df.append(app, ignore_index=True)\n",
      "/tmp/ipykernel_3430561/3951325670.py:24: FutureWarning: The frame.append method is deprecated and will be removed from pandas in a future version. Use pandas.concat instead.\n",
      "  df = df.append(app, ignore_index=True)\n"
     ]
    }
   ],
   "source": [
    "showSimpleIterations()"
   ]
  },
  {
   "cell_type": "code",
   "execution_count": null,
   "id": "98b0ff6e",
   "metadata": {},
   "outputs": [],
   "source": []
  }
 ],
 "metadata": {
  "kernelspec": {
   "display_name": "Python 3 (ipykernel)",
   "language": "python",
   "name": "python3"
  },
  "language_info": {
   "codemirror_mode": {
    "name": "ipython",
    "version": 3
   },
   "file_extension": ".py",
   "mimetype": "text/x-python",
   "name": "python",
   "nbconvert_exporter": "python",
   "pygments_lexer": "ipython3",
   "version": "3.10.10"
  }
 },
 "nbformat": 4,
 "nbformat_minor": 5
}
