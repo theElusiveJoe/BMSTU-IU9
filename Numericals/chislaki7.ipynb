{
 "cells": [
  {
   "cell_type": "code",
   "execution_count": 30,
   "id": "44bd957a",
   "metadata": {},
   "outputs": [],
   "source": [
    "import numpy as np\n",
    "import pandas as pd\n",
    "import array_to_latex as a2l"
   ]
  },
  {
   "cell_type": "code",
   "execution_count": 35,
   "id": "a6c1cd5e",
   "metadata": {},
   "outputs": [
    {
     "name": "stdout",
     "output_type": "stream",
     "text": [
      "\\begin{matrix}\n",
      "   11.30 &  -1.00 &    0.20 &    2.00\\\\\n",
      "    1.00 &   10.70 &  -2.00 &    0.10\\\\\n",
      "    0.30 &  -4.00 &   10.70 &    1.00\\\\\n",
      "    0.20 &  -0.30 &  -0.50 &    6.70\n",
      "\\end{matrix}\n"
     ]
    }
   ],
   "source": [
    "eps = 0.001\n",
    "alpha, beta = 0.1*13, 0.1*13\n",
    "N = 4\n",
    "A = np.array([\n",
    "    [10 + alpha, -1, 0.2, 2],\n",
    "    [1, 12-alpha, -2, 0.1],\n",
    "    [0.3, -4, 12-alpha, 1],\n",
    "    [0.2, -0.3, -0.5, 8-alpha]\n",
    "])\n",
    "Adiag = np.diagonal(A)\n",
    "B = np.array([1+beta, 2-beta, 3, 1])\n",
    "\n",
    "F = np.copy(A)\n",
    "for i in range(N):\n",
    "    F[i,i] = 0\n",
    "for i in range(N):\n",
    "    for j in range(N):\n",
    "        F[i,j] = F[i,j]/Adiag[i]\n",
    "Fup = np.copy(F)\n",
    "Fdown = np.copy(F)\n",
    "for i in range(N):\n",
    "    for j in range(N):\n",
    "        if j > i:\n",
    "            Fdown[i,j] = 0\n",
    "        else:\n",
    "            Fup[i,j] = 0\n",
    "C = np.copy(B)\n",
    "for i in range(N):\n",
    "    C[i] = C[i]/Adiag[i]\n",
    "\n",
    "a2l.to_ltx(A, frmt = '{:6.2f}', arraytype = 'matrix')"
   ]
  },
  {
   "cell_type": "code",
   "execution_count": 9,
   "id": "f22dd18d",
   "metadata": {},
   "outputs": [],
   "source": [
    "def matrixMultByVector(A, x):\n",
    "    return np.array([ \n",
    "        sum([ A[i,j]*x[j] for j in range(N) ]) for i in range(N)\n",
    "    ])"
   ]
  },
  {
   "cell_type": "code",
   "execution_count": 10,
   "id": "c488d0d9",
   "metadata": {},
   "outputs": [],
   "source": [
    "def simpleNextIter(x):\n",
    "    return C - matrixMultByVector(F, x)\n",
    "\n",
    "def zeidelNextIter(x):\n",
    "    res = np.zeros(N)\n",
    "    for i in range(N):\n",
    "        res[i] = C[i] - matrixMultByVector(Fdown, res)[i] - matrixMultByVector(Fup, x)[i] \n",
    "    return res\n",
    "\n",
    "def norm(x):\n",
    "    return np.max(np.abs(x))\n",
    "\n",
    "def countDelta(xOld, xNew):\n",
    "    deltaBig = findFNorm()/(1-findFNorm())*norm(xOld-xNew)\n",
    "    deltaSmall = deltaBig/norm(xNew)\n",
    "    return deltaBig, deltaSmall\n",
    "\n",
    "def checkStop(xOld, xNew):\n",
    "    return norm(xOld-xNew) < eps\n",
    "        \n",
    "def findFNorm():\n",
    "    return max( np.sum(np.abs(F[i])) for i in range(N) )"
   ]
  },
  {
   "cell_type": "code",
   "execution_count": 73,
   "id": "15bca331",
   "metadata": {},
   "outputs": [],
   "source": [
    "def run(method):\n",
    "    nextIter = simpleNextIter if method == 'simple' else zeidelNextIter\n",
    "    df = pd.DataFrame({\n",
    "        'DELTA': [],\n",
    "        'delta': [],\n",
    "    })\n",
    "    xOld = C\n",
    "    xNew = nextIter(xOld)\n",
    "    i = 0\n",
    "    DELTA, delta = countDelta(xOld = xOld, xNew = xNew)\n",
    "    app = { \n",
    "        'delta': delta,\n",
    "        'DELTA': DELTA\n",
    "    }\n",
    "    df = df.append(app, ignore_index=True)\n",
    "    \n",
    "    while not checkStop(xOld,xNew):\n",
    "        i += 1\n",
    "        xNew, xOld = nextIter(xNew), xNew\n",
    "        DELTA, delta = countDelta(xOld = xOld, xNew = xNew)\n",
    "        app = { \n",
    "            'delta': delta,\n",
    "            'DELTA': DELTA\n",
    "        }\n",
    "        df = df.append(app, ignore_index=True)\n",
    "        \n",
    "    print(df)\n",
    "    df.to_csv(\"simple.scv\")\n",
    "    return xNew, delta\n",
    "\n",
    "def showMethod(method):\n",
    "    xNew, delta = run(method)\n",
    "    check = matrixMultByVector(A, xNew) \n",
    "    print()\n",
    "    print(\"CHECK:\", check)\n",
    "    print(\"WANT TO GET\", B)\n",
    "    a2l.to_ltx(xNew, frmt = '{:6.8f}', arraytype = 'matrix')\n",
    "    a2l.to_ltx(abs(check-B), frmt = '{:6.10}', arraytype = 'matrix')\n",
    "    print(\"DIFFERENCE\", check - B)\n",
    "    print(\"NORM F\", findFNorm())"
   ]
  },
  {
   "cell_type": "code",
   "execution_count": 74,
   "id": "09891b89",
   "metadata": {},
   "outputs": [
    {
     "name": "stdout",
     "output_type": "stream",
     "text": [
      "      DELTA     delta\n",
      "0  0.031397  0.110096\n",
      "1  0.010811  0.036499\n",
      "2  0.002034  0.006845\n",
      "3  0.000681  0.002287\n",
      "\n",
      "CHECK: [2.30028559 0.69862361 2.99936744 0.99959147]\n",
      "WANT TO GET [2.3 0.7 3.  1. ]\n",
      "\\begin{matrix}\n",
      "  0.17717356 &  0.10280586 &  0.29782299 &  0.17073284\n",
      "\\end{matrix}\n",
      "\\begin{matrix}\n",
      "  0.0002855925357 &  0.001376385834 &  0.0006325647992 &  0.0004085334096\n",
      "\\end{matrix}\n",
      "DIFFERENCE [ 0.00028559 -0.00137639 -0.00063256 -0.00040853]\n",
      "NORM F 0.4953271028037384\n"
     ]
    },
    {
     "name": "stderr",
     "output_type": "stream",
     "text": [
      "/tmp/ipykernel_217709/2663720278.py:15: FutureWarning: The frame.append method is deprecated and will be removed from pandas in a future version. Use pandas.concat instead.\n",
      "  df = df.append(app, ignore_index=True)\n",
      "/tmp/ipykernel_217709/2663720278.py:25: FutureWarning: The frame.append method is deprecated and will be removed from pandas in a future version. Use pandas.concat instead.\n",
      "  df = df.append(app, ignore_index=True)\n",
      "/tmp/ipykernel_217709/2663720278.py:25: FutureWarning: The frame.append method is deprecated and will be removed from pandas in a future version. Use pandas.concat instead.\n",
      "  df = df.append(app, ignore_index=True)\n",
      "/tmp/ipykernel_217709/2663720278.py:25: FutureWarning: The frame.append method is deprecated and will be removed from pandas in a future version. Use pandas.concat instead.\n",
      "  df = df.append(app, ignore_index=True)\n"
     ]
    }
   ],
   "source": [
    "showMethod('simple')"
   ]
  },
  {
   "cell_type": "code",
   "execution_count": 75,
   "id": "52869488",
   "metadata": {},
   "outputs": [
    {
     "name": "stdout",
     "output_type": "stream",
     "text": [
      "      DELTA     delta\n",
      "0  0.033744  0.112952\n",
      "1  0.003272  0.010981\n",
      "2  0.000280  0.000940\n",
      "\n",
      "CHECK: [2.30010388 0.70016017 2.99997808 1.        ]\n",
      "WANT TO GET [2.3 0.7 3.  1. ]\n",
      "\\begin{matrix}\n",
      "  0.17715646 &  0.10297131 &  0.29793517 &  0.17081010\n",
      "\\end{matrix}\n",
      "\\begin{matrix}\n",
      "  0.0001038826492 &  0.0001601705369 &  2.192025484\\times 10^{-05} &     0.0\n",
      "\\end{matrix}\n",
      "DIFFERENCE [ 1.03882649e-04  1.60170537e-04 -2.19202548e-05  0.00000000e+00]\n",
      "NORM F 0.4953271028037384\n"
     ]
    },
    {
     "name": "stderr",
     "output_type": "stream",
     "text": [
      "/tmp/ipykernel_217709/2663720278.py:15: FutureWarning: The frame.append method is deprecated and will be removed from pandas in a future version. Use pandas.concat instead.\n",
      "  df = df.append(app, ignore_index=True)\n",
      "/tmp/ipykernel_217709/2663720278.py:25: FutureWarning: The frame.append method is deprecated and will be removed from pandas in a future version. Use pandas.concat instead.\n",
      "  df = df.append(app, ignore_index=True)\n",
      "/tmp/ipykernel_217709/2663720278.py:25: FutureWarning: The frame.append method is deprecated and will be removed from pandas in a future version. Use pandas.concat instead.\n",
      "  df = df.append(app, ignore_index=True)\n"
     ]
    }
   ],
   "source": [
    "showMethod('zeidel')"
   ]
  },
  {
   "cell_type": "code",
   "execution_count": null,
   "id": "98b0ff6e",
   "metadata": {},
   "outputs": [],
   "source": []
  }
 ],
 "metadata": {
  "kernelspec": {
   "display_name": "Python 3 (ipykernel)",
   "language": "python",
   "name": "python3"
  },
  "language_info": {
   "codemirror_mode": {
    "name": "ipython",
    "version": 3
   },
   "file_extension": ".py",
   "mimetype": "text/x-python",
   "name": "python",
   "nbconvert_exporter": "python",
   "pygments_lexer": "ipython3",
   "version": "3.10.10"
  }
 },
 "nbformat": 4,
 "nbformat_minor": 5
}
