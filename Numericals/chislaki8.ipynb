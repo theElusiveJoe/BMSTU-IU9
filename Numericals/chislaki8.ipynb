{
 "cells": [
  {
   "cell_type": "code",
   "execution_count": 21,
   "id": "9530e2c5",
   "metadata": {},
   "outputs": [],
   "source": [
    "import pandas as pd\n",
    "import numpy as np"
   ]
  },
  {
   "cell_type": "code",
   "execution_count": 22,
   "id": "ebcec577",
   "metadata": {},
   "outputs": [],
   "source": [
    "alpha = 0\n",
    "beta = np.pi/3\n",
    "phi1 = lambda x: 0\n",
    "phi2 = lambda x: 1/np.cos(x)\n",
    "f = lambda x,y: y*np.tan(x)\n",
    "\n",
    "a = alpha\n",
    "b = beta\n",
    "c = 0\n",
    "d = 1\n",
    "jac = lambda u,v: phi2(u) - phi1(u) \n",
    "\n",
    "yuv = lambda u,v: phi1(u) + v*(phi2(u) - phi1(u))\n",
    "fuv = lambda u,v: jac(u,v)*f(u, yuv(u,v))"
   ]
  },
  {
   "cell_type": "code",
   "execution_count": 23,
   "id": "3fe6490d",
   "metadata": {},
   "outputs": [],
   "source": [
    "eps = 0.001"
   ]
  },
  {
   "cell_type": "code",
   "execution_count": 39,
   "id": "2684369b",
   "metadata": {},
   "outputs": [],
   "source": [
    "def findI(n, m):\n",
    "    hx = (b-a)/n\n",
    "    hy = (c-d)/m\n",
    "\n",
    "    getx = lambda i: a+i*hx\n",
    "    gety = lambda i: c+i*hy\n",
    "\n",
    "    q_st = lambda j: 0.5 if j == 0 or j == m else 1\n",
    "    q_stst = lambda j: 0.5 if j == 0 or j == n else 1\n",
    "    q = lambda i, j: q_st(j)*q_st(i)\n",
    "\n",
    "    I = hx*hy * sum(sum( q(i,j)*fuv(getx(i), gety(j)) for i in range(0, n+1)) for j in range(0, m+1))\n",
    "    return I\n",
    "\n",
    "def findDelta(n,m):\n",
    "    return abs(findI(n,m) - findI(2*n-1,2*m-1))/1\n",
    "\n",
    "def findIbyEps(eps):\n",
    "    h = np.sqrt(eps)\n",
    "    n = int((b-a)/h)\n",
    "    m = int((d-c)/h)\n",
    "    while findDelta(n,m) > eps:\n",
    "        print(\"cur is\", findI(n,m), n, m, findDelta(n,m), abs(findI(n,m) - 0.75))\n",
    "        n,m = 2*n,2*m\n",
    "    print(\"cur is\", findI(n,m), n, m, findDelta(n,m))\n",
    "    return findI(n,m), n, m, findDelta(n,m)\n",
    "    "
   ]
  },
  {
   "cell_type": "code",
   "execution_count": 40,
   "id": "a93903fe",
   "metadata": {},
   "outputs": [
    {
     "name": "stdout",
     "output_type": "stream",
     "text": [
      "cur is 0.7677351548252703 33 31 0.009039895185052993 0.017735154825270327\n",
      "cur is 0.7584593748343013 66 62 0.0042751090415654724 0.008459374834301259\n",
      "cur is 0.7541274698675997 132 124 0.0020753684862295785 0.004127469867599709\n",
      "cur is 0.7520381700751364 264 248 0.0010220272748627801 0.002038170075136403\n",
      "cur is 0.7510126931678225 528 496 0.0005070863168546991\n",
      "RES (0.7510126931678225, 528, 496, 0.0005070863168546991)\n"
     ]
    }
   ],
   "source": [
    "print(\"RES\", findIbyEps(eps))"
   ]
  },
  {
   "cell_type": "code",
   "execution_count": 33,
   "id": "3a8888fb",
   "metadata": {},
   "outputs": [],
   "source": [
    "def findIcell(n,m):\n",
    "    hx = (b-a)/n\n",
    "    hy = (c-d)/m\n",
    "\n",
    "    getx = lambda i: a+i*hx\n",
    "    gety = lambda i: c+i*hy\n",
    "\n",
    "    I = hx*hy * sum(sum( fuv(getx(i) + hx/2, gety(j)+hy/2) for i in range(0, n)) for j in range(0, m))\n",
    "    return I\n",
    "    \n",
    "def findDeltaCell(n,m):\n",
    "    return abs(findIcell(n,m) - findIcell(2*n-1,2*m-1))/3\n",
    "\n",
    "def findIbyEpsCell(eps):\n",
    "    h = np.sqrt(eps)\n",
    "    n = int((b-a)/h)\n",
    "    m = int((d-c)/h)\n",
    "    while findDeltaCell(n,m) > eps:\n",
    "        print(\"cur is\", findIcell(n,m), n, m, findDeltaCell(n,m))\n",
    "        n,m = 2*n,2*m\n",
    "    print(\"cur is\", findIcell(n,m), n, m, findDeltaCell(n,m))\n",
    "    return findIcell(n,m), n, m, findDeltaCell(n,m)"
   ]
  },
  {
   "cell_type": "code",
   "execution_count": 35,
   "id": "c51bf36d",
   "metadata": {},
   "outputs": [
    {
     "name": "stdout",
     "output_type": "stream",
     "text": [
      "cur is 0.7491835948433324 33 31 0.00020187830917528515\n",
      "RES (0.7491835948433324, 33, 31, 0.00020187830917528515)\n"
     ]
    }
   ],
   "source": [
    "print(\"RES\", findIbyEpsCell(eps))"
   ]
  },
  {
   "cell_type": "code",
   "execution_count": 28,
   "id": "35cbf1af",
   "metadata": {},
   "outputs": [],
   "source": [
    "# Inorm, nnorm, mnorm, deltanorm = findIbyEps(eps)\n",
    "# print(Inorm, nnorm, mnorm, deltanorm)\n",
    "# print(Icell, ncell, mcell, deltacell)\n",
    "# print(\"diff:\", abs(Inorm-Icell))"
   ]
  },
  {
   "cell_type": "code",
   "execution_count": null,
   "id": "ec8beb6d",
   "metadata": {},
   "outputs": [],
   "source": []
  }
 ],
 "metadata": {
  "kernelspec": {
   "display_name": "Python 3 (ipykernel)",
   "language": "python",
   "name": "python3"
  },
  "language_info": {
   "codemirror_mode": {
    "name": "ipython",
    "version": 3
   },
   "file_extension": ".py",
   "mimetype": "text/x-python",
   "name": "python",
   "nbconvert_exporter": "python",
   "pygments_lexer": "ipython3",
   "version": "3.10.10"
  }
 },
 "nbformat": 4,
 "nbformat_minor": 5
}
