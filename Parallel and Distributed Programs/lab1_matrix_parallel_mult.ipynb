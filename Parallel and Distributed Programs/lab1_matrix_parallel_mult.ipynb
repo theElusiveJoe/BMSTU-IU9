{
 "cells": [
  {
   "cell_type": "markdown",
   "metadata": {},
   "source": [
    "# Импорты"
   ]
  },
  {
   "cell_type": "code",
   "execution_count": 10,
   "metadata": {},
   "outputs": [],
   "source": [
    "import multiprocessing as mp\n",
    "import numpy as np\n",
    "import ctypes as c\n",
    "\n",
    "import pandas as pd\n",
    "import seaborn as sns\n",
    "\n",
    "import random\n",
    "import time\n",
    "\n",
    "from math import ceil"
   ]
  },
  {
   "cell_type": "markdown",
   "metadata": {},
   "source": [
    "# Глобальные переменные"
   ]
  },
  {
   "cell_type": "code",
   "execution_count": 11,
   "metadata": {},
   "outputs": [],
   "source": [
    "l = 200\n",
    "min_a , max_a = 0,999\n",
    "matrix_cut_num = 3\n",
    "\n",
    "A = mp.Array('i', l*l)\n",
    "B = mp.Array('i', l*l)\n",
    "\n",
    "A_np = np.frombuffer(A.get_obj(), c.c_int).reshape((l,l))\n",
    "B_np = np.frombuffer(B.get_obj(), c.c_int).reshape((l,l))\n",
    "for i in range(l):\n",
    "        for j in range(l):\n",
    "            A_np[i][j] = random.randint(min_a, max_a)\n",
    "            B_np[i][j] = random.randint(min_a, max_a)\n",
    "\n",
    "C = mp.Array('i', l*l)\n",
    "D_np = np.zeros(l*l).reshape((l,l))"
   ]
  },
  {
   "cell_type": "markdown",
   "metadata": {},
   "source": [
    "# Обычное умножение"
   ]
  },
  {
   "cell_type": "code",
   "execution_count": 12,
   "metadata": {},
   "outputs": [],
   "source": [
    "def mult_basic():\n",
    "    for row_num in range(l):\n",
    "        for col_num in range(l):\n",
    "            s = 0\n",
    "            for i in range(l):\n",
    "                s += A_np[row_num][i] * \\\n",
    "                    B_np[i][col_num]\n",
    "            D_np[row_num][col_num] = s\n",
    "\n",
    "\n",
    "def go_basic():\n",
    "    time_start = time.time()\n",
    "    mult_basic()\n",
    "    return (time.time() - time_start)\n",
    "\n",
    "def mult_alt():\n",
    "    for col_num in range(l):\n",
    "        for row_num in range(l):\n",
    "            s = 0\n",
    "            for i in range(l):\n",
    "                s += A_np[row_num][i] * \\\n",
    "                    B_np[i][col_num]\n",
    "            D_np[row_num][col_num] = s\n",
    "\n",
    "def go_alt():\n",
    "    time_start = time.time()\n",
    "    mult_alt()\n",
    "    return (time.time() - time_start)"
   ]
  },
  {
   "cell_type": "markdown",
   "metadata": {},
   "source": [
    "# Умножение в потоках"
   ]
  },
  {
   "cell_type": "code",
   "execution_count": 13,
   "metadata": {},
   "outputs": [],
   "source": [
    "def mult_part(rows_start, rows_finish, columns_start, columns_finish):\n",
    "    A.np = np.frombuffer(A.get_obj(), c.c_int).reshape((l,l))\n",
    "    B_np = np.frombuffer(B.get_obj(), c.c_int).reshape((l,l))\n",
    "    C_np = np.frombuffer(C.get_obj(), c.c_int).reshape((l,l))\n",
    "    for row_num in range(rows_start, rows_finish):\n",
    "        for col_num in range(columns_start, columns_finish):\n",
    "            s = 0\n",
    "            for i in range(l):\n",
    "                s += A_np[row_num][i] * \\\n",
    "                    B_np[i][col_num]\n",
    "            C_np[row_num][col_num] = s\n",
    "\n",
    "            \n",
    "def go_procs(procs_num):\n",
    "    section_len = ceil(l/matrix_cut_num)\n",
    "    cuts_left = list(range(0, l, section_len))\n",
    "    cuts_right = list(range(section_len, l+ section_len, section_len))\n",
    "    cuts_right[-1] = l\n",
    "    parts = list(zip(cuts_left, cuts_right))\n",
    "    \n",
    "    args = []\n",
    "    for x in parts:\n",
    "        for y in parts:\n",
    "            args.append((*x, *y))\n",
    "            \n",
    "    with mp.Pool(processes=procs_num) as p:\n",
    "        time_start = time.time()\n",
    "        res = p.starmap_async(mult_part, args)        \n",
    "        res.get()\n",
    "        p.close()\n",
    "        p.join()\n",
    "\n",
    "    return time.time() - time_start"
   ]
  },
  {
   "cell_type": "markdown",
   "metadata": {},
   "source": [
    "# Запуск умножения в потоках"
   ]
  },
  {
   "cell_type": "code",
   "execution_count": 14,
   "metadata": {},
   "outputs": [],
   "source": [
    "def compare_basic_and_procs(procs_num):\n",
    "    t_base = go_basic()\n",
    "    t_procs = go_procs(procs_num)\n",
    "    comp = np.frombuffer(C.get_obj(), c.c_int).flatten() == D_np.flatten()\n",
    "    assert comp.all()\n",
    "\n",
    "    return t_base, t_procs\n"
   ]
  },
  {
   "cell_type": "markdown",
   "metadata": {},
   "source": [
    "# Основная часть"
   ]
  },
  {
   "cell_type": "code",
   "execution_count": 15,
   "metadata": {},
   "outputs": [
    {
     "name": "stdout",
     "output_type": "stream",
     "text": [
      "3.515106439590454 3.401228427886963\n",
      "3.414888620376587 1.924285650253296\n",
      "3.549649238586426 1.373678207397461\n",
      "3.501690149307251 1.155695915222168\n",
      "3.397756338119507 1.1512300968170166\n",
      "3.4402313232421875 1.1415376663208008\n",
      "3.394176483154297 1.1455769538879395\n",
      "3.5501763820648193 1.2611401081085205\n",
      "3.520455837249756 0.9361820220947266\n"
     ]
    }
   ],
   "source": [
    "# random.seed(42)\n",
    "\n",
    "procs_num_list = []\n",
    "base_times = []\n",
    "proc_times = []\n",
    "\n",
    "for procs_num in range(1, 10):\n",
    "    procs_num_list.append(procs_num)\n",
    "    t_base, t_procs = compare_basic_and_procs(procs_num)\n",
    "    print(t_base, t_procs)\n",
    "    base_times.append(t_base)\n",
    "    proc_times.append(t_procs)"
   ]
  },
  {
   "cell_type": "code",
   "execution_count": 16,
   "metadata": {},
   "outputs": [
    {
     "data": {
      "text/html": [
       "<div>\n",
       "<style scoped>\n",
       "    .dataframe tbody tr th:only-of-type {\n",
       "        vertical-align: middle;\n",
       "    }\n",
       "\n",
       "    .dataframe tbody tr th {\n",
       "        vertical-align: top;\n",
       "    }\n",
       "\n",
       "    .dataframe thead th {\n",
       "        text-align: right;\n",
       "    }\n",
       "</style>\n",
       "<table border=\"1\" class=\"dataframe\">\n",
       "  <thead>\n",
       "    <tr style=\"text-align: right;\">\n",
       "      <th></th>\n",
       "      <th>время обычное</th>\n",
       "      <th>время в потоках</th>\n",
       "    </tr>\n",
       "  </thead>\n",
       "  <tbody>\n",
       "    <tr>\n",
       "      <th>1</th>\n",
       "      <td>3.515106</td>\n",
       "      <td>3.401228</td>\n",
       "    </tr>\n",
       "    <tr>\n",
       "      <th>2</th>\n",
       "      <td>3.414889</td>\n",
       "      <td>1.924286</td>\n",
       "    </tr>\n",
       "    <tr>\n",
       "      <th>3</th>\n",
       "      <td>3.549649</td>\n",
       "      <td>1.373678</td>\n",
       "    </tr>\n",
       "    <tr>\n",
       "      <th>4</th>\n",
       "      <td>3.501690</td>\n",
       "      <td>1.155696</td>\n",
       "    </tr>\n",
       "    <tr>\n",
       "      <th>5</th>\n",
       "      <td>3.397756</td>\n",
       "      <td>1.151230</td>\n",
       "    </tr>\n",
       "    <tr>\n",
       "      <th>6</th>\n",
       "      <td>3.440231</td>\n",
       "      <td>1.141538</td>\n",
       "    </tr>\n",
       "    <tr>\n",
       "      <th>7</th>\n",
       "      <td>3.394176</td>\n",
       "      <td>1.145577</td>\n",
       "    </tr>\n",
       "    <tr>\n",
       "      <th>8</th>\n",
       "      <td>3.550176</td>\n",
       "      <td>1.261140</td>\n",
       "    </tr>\n",
       "    <tr>\n",
       "      <th>9</th>\n",
       "      <td>3.520456</td>\n",
       "      <td>0.936182</td>\n",
       "    </tr>\n",
       "  </tbody>\n",
       "</table>\n",
       "</div>"
      ],
      "text/plain": [
       "   время обычное  время в потоках\n",
       "1       3.515106         3.401228\n",
       "2       3.414889         1.924286\n",
       "3       3.549649         1.373678\n",
       "4       3.501690         1.155696\n",
       "5       3.397756         1.151230\n",
       "6       3.440231         1.141538\n",
       "7       3.394176         1.145577\n",
       "8       3.550176         1.261140\n",
       "9       3.520456         0.936182"
      ]
     },
     "execution_count": 16,
     "metadata": {},
     "output_type": "execute_result"
    },
    {
     "data": {
      "image/png": "[encoded data removed]",
      "text/plain": [
       "<Figure size 432x288 with 1 Axes>"
      ]
     },
     "metadata": {
      "needs_background": "light"
     },
     "output_type": "display_data"
    }
   ],
   "source": [
    "df = pd.DataFrame({\n",
    "    'время обычное': base_times,\n",
    "    'время в потоках': proc_times,\n",
    "}, index = procs_num_list)\n",
    "\n",
    "plot = sns.lineplot(df)\n",
    "plot.set(xlabel=\"Количество потоков\",\n",
    "      ylabel=\"Время (с.)\");\n",
    "df"
   ]
  },
  {
   "cell_type": "markdown",
   "metadata": {},
   "source": [
    "время обычного перемножения по столбцам и по строкам:"
   ]
  },
  {
   "cell_type": "code",
   "execution_count": 18,
   "metadata": {},
   "outputs": [
    {
     "name": "stdout",
     "output_type": "stream",
     "text": [
      "3.6578001976013184 3.638280153274536\n"
     ]
    }
   ],
   "source": [
    "print(go_alt(), go_basic())"
   ]
  }
 ],
 "metadata": {
  "datalore": {
   "base_environment": "default",
   "computation_mode": "JUPYTER",
   "package_manager": "pip",
   "packages": [],
   "version": 1
  },
  "kernelspec": {
   "display_name": "Python 3 (ipykernel)",
   "language": "python",
   "name": "python3"
  },
  "language_info": {
   "codemirror_mode": {
    "name": "ipython",
    "version": 3
   },
   "file_extension": ".py",
   "mimetype": "text/x-python",
   "name": "python",
   "nbconvert_exporter": "python",
   "pygments_lexer": "ipython3",
   "version": "3.10.5"
  }
 },
 "nbformat": 4,
 "nbformat_minor": 4
}
